{
 "cells": [
  {
   "cell_type": "markdown",
   "metadata": {},
   "source": [
    "# Lab 7 - Convolutional Neural Networks\n",
    "\n",
    "### Eric Smith and Jake Carlson\n",
    "\n",
    "## Introduction\n",
    "In this lab, we will develop a multi-layer perceptron to perform classification on the CIFAR-10 data set. Similar to Lab 3, we will subset the data set to images of trucks and automobiles. The original data set has 60,000 images. 50,000 of these are training images and 10,000 are test images. The images are 32x32 pixels and contain objects from 10 classes. The classes are listed below.\n",
    "- airplane\n",
    "- automobile\n",
    "- bird\n",
    "- cat\n",
    "- deer\n",
    "- dog\n",
    "- frog\n",
    "- horse\n",
    "- ship\n",
    "- truck\n",
    "\n",
    "This data set was collected by Alex Krizhevsky, Vinod Nair, and Geoffrey Hinton for their paper <i>Learning Multiple Layers of Features from Tiny Images</i>. In this study, the authors use several filters to train their model to learn interesting regularities in the set of images, rather than focus on correlations between nearby pixels [1].\n",
    "\n",
    "For this lab, we will use the images of automobile, trucks, and birds. The trucks, in this case, are semi-trucks. We have been guaranteed by the people who generated the data set that these three classes are mutually exclusive. The automobile class will have images of sedans and SUVs. The truck class will have big trucks only. Neither class has images of pickup trucks.\n",
    "\n",
    "## Business Understanding\n",
    "\n",
    "### Motivations\n",
    "The law treats cars and trucks differently on the road. Trucks often have to stop at weigh stations so their contents can be verified. It would be useful to have a tool that can distinguish between cars and trucks. Once a truck has been identified, a record of the truck and its location can be made so that Customs or local authorities can make sure the truck is checked at the next weigh station.\n",
    "\n",
    "The classification system developed could be deployed in conjunction with CCTV cameras on the highway. This would give authorities real time metrics on how many trucks are passing through an area. If a truck passes by two cameras, our model could incorporate the location of each camera and the time between sightings. This would reduce the necessity of having police officers on the road to monitor the speed of semi-trucks.\n",
    "\n",
    "If a truck is identified as speeding, a police officer could be dispatched to monitor the vehicle. Using a distributed network of cameras on the highway would mean officers could spend more time patrolling residential and commerical areas. The average annual income for a Texas state trooper is \\$60,612 [2]. Positioning a trooper on the highway costs roughly \\$31 an hour. Meanwhile, the cost of running a CCTV camera 24/7 is approximately 54 cents per month [3].\n",
    "\n",
    "If a trooper is positioned on the highway, people alter their behaviors because they recognize that they are being monitored. If a criminal organization is transporting illicit substances, they can have a lead car drive ahead of the transport truck so officers can be located before the truck passes through an area. However, people often don't recognize when they are being monitored by CCTV camera.\n",
    "\n",
    "### Objectives\n",
    "Our main objective is to accurately pick out a semi-truck from a sea of automobiles. A state trooper can accurately distinguish between a semi-truck and an automobile 100% of the time. But troopers rotate in and out of an area, leaving gaps in the amount of time a road is being monitored. Take the following simplified case: one trooper is assigned to watch a highway for one business day where they start at 8am, end at 5pm, and take an hour for lunch. A second trooper rotates in to monitor the highway starting at 6pm and ending at 3am. The percentage of time the road is covered is given by\n",
    "<br><br>\n",
    "$$t_{officer} = \\frac{24 - ((6-5) + 1 + (6-3))}{24}\\times100 = 79.2\\%$$\n",
    "\n",
    "\n",
    "<br><br>\n",
    "So 79% is our threshold to beat. In order for our algorithm to be useful to authorities, it must minimize the number of trucks that slip through undetected. We will do this by measuring the performance of our model with Recall such that\n",
    "<br><br>\n",
    "\n",
    "$$Recall = \\frac{TP}{TP + FN}$$\n",
    "<br>\n",
    "Where TP is the true positive rate, and FN is the false negative rate.\n",
    "\n",
    "Therefore, our objective is to minimize the number of false negatives produced and reach 79% recall to be a viable replacement for police officers.\n",
    "\n",
    "## Data Preparation\n",
    "\n",
    "### Data Cleaning\n",
    "We will start by loading the images and subsetting to 1000 images. We will use a ratio of cars to trucks that most closely matches real-world driving conditions. A project at The George Washington University [2] puts the percentage of highway vehicles that are trucks anywhere between 5% and 25% depeding on the stretch of road. We will use 25% because it balances the classes somewhat while still conforming to a real-world estimate of the ratio between trucks and cars. We will reduce the dimensionality of our images by transforming them to gray scale. This will reduce the number of features for each image from 3,072 to 1,024. We also scale the pixel values to be between -0.5 and 0.5."
   ]
  },
  {
   "cell_type": "code",
   "execution_count": 14,
   "metadata": {},
   "outputs": [
    {
     "data": {
      "text/html": [
       "<div>\n",
       "<style>\n",
       "    .dataframe thead tr:only-child th {\n",
       "        text-align: right;\n",
       "    }\n",
       "\n",
       "    .dataframe thead th {\n",
       "        text-align: left;\n",
       "    }\n",
       "\n",
       "    .dataframe tbody tr th {\n",
       "        vertical-align: top;\n",
       "    }\n",
       "</style>\n",
       "<table border=\"1\" class=\"dataframe\">\n",
       "  <thead>\n",
       "    <tr style=\"text-align: right;\">\n",
       "      <th></th>\n",
       "      <th>id</th>\n",
       "      <th>label</th>\n",
       "    </tr>\n",
       "  </thead>\n",
       "  <tbody>\n",
       "    <tr>\n",
       "      <th>36541</th>\n",
       "      <td>36542</td>\n",
       "      <td>truck</td>\n",
       "    </tr>\n",
       "    <tr>\n",
       "      <th>4223</th>\n",
       "      <td>4224</td>\n",
       "      <td>truck</td>\n",
       "    </tr>\n",
       "    <tr>\n",
       "      <th>5011</th>\n",
       "      <td>5012</td>\n",
       "      <td>truck</td>\n",
       "    </tr>\n",
       "    <tr>\n",
       "      <th>12001</th>\n",
       "      <td>12002</td>\n",
       "      <td>truck</td>\n",
       "    </tr>\n",
       "    <tr>\n",
       "      <th>8783</th>\n",
       "      <td>8784</td>\n",
       "      <td>truck</td>\n",
       "    </tr>\n",
       "  </tbody>\n",
       "</table>\n",
       "</div>"
      ],
      "text/plain": [
       "          id  label\n",
       "36541  36542  truck\n",
       "4223    4224  truck\n",
       "5011    5012  truck\n",
       "12001  12002  truck\n",
       "8783    8784  truck"
      ]
     },
     "execution_count": 14,
     "metadata": {},
     "output_type": "execute_result"
    }
   ],
   "source": [
    "import numpy as np\n",
    "import pandas as pd\n",
    "\n",
    "df_labels = pd.read_csv('../Lab3/data/labels.csv')\n",
    "df_labels = df_labels[ df_labels.label.isin(['automobile', 'truck']) ]\n",
    "df_labels = pd.concat([df_labels[df_labels.label == \"truck\"].sample(n=250),\n",
    "                      df_labels[df_labels.label == \"automobile\"].sample(n=750)])\n",
    "\n",
    "df_labels.head()"
   ]
  },
  {
   "cell_type": "code",
   "execution_count": 15,
   "metadata": {},
   "outputs": [
    {
     "name": "stdout",
     "output_type": "stream",
     "text": [
      "<class 'pandas.core.frame.DataFrame'>\n",
      "RangeIndex: 1000 entries, 0 to 999\n",
      "Columns: 1025 entries, label to 1023\n",
      "dtypes: object(1025)\n",
      "memory usage: 7.8+ MB\n"
     ]
    }
   ],
   "source": [
    "from PIL import Image\n",
    "\n",
    "# reads a png and returns a list of all pixel values in order r, g, b\n",
    "def get_img_as_rgb_row(image_path):\n",
    "    img = Image.open(image_path)\n",
    "    if len(img.split()) == 4:\n",
    "        # remove alpha if present\n",
    "        r, g, b, a = img.split()\n",
    "        img = Image.merge(\"RGB\", (r, g, b))\n",
    "    r, g, b = img.split()\n",
    "    r = list(r.getdata())\n",
    "    g = list(g.getdata())\n",
    "    b = list(b.getdata())\n",
    "    # convert to gray scale\n",
    "    img_list = [(r[i] * 0.2989 + g[i] * 0.5870 + b[i] * 0.1140)/255 - 0.5 for i in range(len(r))]\n",
    "    return img_list\n",
    "\n",
    "# generate column names\n",
    "cols = ['label']\n",
    "for i in range(1024):\n",
    "    cols.append(\"{}\".format(i))\n",
    "\n",
    "# create df and extract color values for all car and truck images\n",
    "df = pd.DataFrame(columns=cols, index=range(len(df_labels.id.tolist())))\n",
    "data_dir = \"../Lab3/data/cifar-10/\"\n",
    "idx = 0\n",
    "for r in df_labels.iterrows():\n",
    "    entry = [r[1].label]\n",
    "    entry.extend(get_img_as_rgb_row(\"{}{}.png\".format(data_dir, r[1].id)))\n",
    "    df.loc[idx] = entry\n",
    "    idx += 1\n",
    "df.info()"
   ]
  },
  {
   "cell_type": "code",
   "execution_count": 16,
   "metadata": {},
   "outputs": [
    {
     "data": {
      "text/html": [
       "<div>\n",
       "<style>\n",
       "    .dataframe thead tr:only-child th {\n",
       "        text-align: right;\n",
       "    }\n",
       "\n",
       "    .dataframe thead th {\n",
       "        text-align: left;\n",
       "    }\n",
       "\n",
       "    .dataframe tbody tr th {\n",
       "        vertical-align: top;\n",
       "    }\n",
       "</style>\n",
       "<table border=\"1\" class=\"dataframe\">\n",
       "  <thead>\n",
       "    <tr style=\"text-align: right;\">\n",
       "      <th></th>\n",
       "      <th>label</th>\n",
       "      <th>0</th>\n",
       "      <th>1</th>\n",
       "      <th>2</th>\n",
       "      <th>3</th>\n",
       "      <th>4</th>\n",
       "      <th>5</th>\n",
       "      <th>6</th>\n",
       "      <th>7</th>\n",
       "      <th>8</th>\n",
       "      <th>...</th>\n",
       "      <th>1014</th>\n",
       "      <th>1015</th>\n",
       "      <th>1016</th>\n",
       "      <th>1017</th>\n",
       "      <th>1018</th>\n",
       "      <th>1019</th>\n",
       "      <th>1020</th>\n",
       "      <th>1021</th>\n",
       "      <th>1022</th>\n",
       "      <th>1023</th>\n",
       "    </tr>\n",
       "  </thead>\n",
       "  <tbody>\n",
       "    <tr>\n",
       "      <th>0</th>\n",
       "      <td>truck</td>\n",
       "      <td>0.271278</td>\n",
       "      <td>0.212647</td>\n",
       "      <td>0.194594</td>\n",
       "      <td>0.202756</td>\n",
       "      <td>0.226477</td>\n",
       "      <td>0.227202</td>\n",
       "      <td>0.238755</td>\n",
       "      <td>0.236175</td>\n",
       "      <td>0.236664</td>\n",
       "      <td>...</td>\n",
       "      <td>-0.301765</td>\n",
       "      <td>-0.284183</td>\n",
       "      <td>-0.279368</td>\n",
       "      <td>-0.285186</td>\n",
       "      <td>-0.260487</td>\n",
       "      <td>-0.271525</td>\n",
       "      <td>-0.286763</td>\n",
       "      <td>-0.285422</td>\n",
       "      <td>-0.293711</td>\n",
       "      <td>-0.297675</td>\n",
       "    </tr>\n",
       "    <tr>\n",
       "      <th>1</th>\n",
       "      <td>truck</td>\n",
       "      <td>0.246235</td>\n",
       "      <td>0.249709</td>\n",
       "      <td>0.252205</td>\n",
       "      <td>0.244809</td>\n",
       "      <td>0.251135</td>\n",
       "      <td>0.250198</td>\n",
       "      <td>0.262838</td>\n",
       "      <td>0.246041</td>\n",
       "      <td>0.271296</td>\n",
       "      <td>...</td>\n",
       "      <td>0.15088</td>\n",
       "      <td>0.14421</td>\n",
       "      <td>0.146959</td>\n",
       "      <td>0.146959</td>\n",
       "      <td>0.132168</td>\n",
       "      <td>0.113456</td>\n",
       "      <td>0.10327</td>\n",
       "      <td>0.0951494</td>\n",
       "      <td>0.0750965</td>\n",
       "      <td>0.0790176</td>\n",
       "    </tr>\n",
       "    <tr>\n",
       "      <th>2</th>\n",
       "      <td>truck</td>\n",
       "      <td>0.415718</td>\n",
       "      <td>0.412969</td>\n",
       "      <td>0.428207</td>\n",
       "      <td>0.464331</td>\n",
       "      <td>0.491611</td>\n",
       "      <td>0.495532</td>\n",
       "      <td>0.49436</td>\n",
       "      <td>0.486753</td>\n",
       "      <td>0.48004</td>\n",
       "      <td>...</td>\n",
       "      <td>-0.122853</td>\n",
       "      <td>-0.153261</td>\n",
       "      <td>-0.186081</td>\n",
       "      <td>-0.193283</td>\n",
       "      <td>-0.204061</td>\n",
       "      <td>-0.206599</td>\n",
       "      <td>-0.21423</td>\n",
       "      <td>-0.237757</td>\n",
       "      <td>-0.252547</td>\n",
       "      <td>-0.294044</td>\n",
       "    </tr>\n",
       "    <tr>\n",
       "      <th>3</th>\n",
       "      <td>truck</td>\n",
       "      <td>-0.307827</td>\n",
       "      <td>-0.293997</td>\n",
       "      <td>-0.289182</td>\n",
       "      <td>-0.284367</td>\n",
       "      <td>-0.276355</td>\n",
       "      <td>-0.275739</td>\n",
       "      <td>-0.276186</td>\n",
       "      <td>-0.269516</td>\n",
       "      <td>-0.269516</td>\n",
       "      <td>...</td>\n",
       "      <td>-0.293216</td>\n",
       "      <td>-0.310798</td>\n",
       "      <td>-0.31342</td>\n",
       "      <td>-0.307922</td>\n",
       "      <td>-0.317831</td>\n",
       "      <td>-0.342977</td>\n",
       "      <td>-0.364885</td>\n",
       "      <td>-0.363544</td>\n",
       "      <td>-0.362203</td>\n",
       "      <td>-0.365677</td>\n",
       "    </tr>\n",
       "    <tr>\n",
       "      <th>4</th>\n",
       "      <td>truck</td>\n",
       "      <td>0.167392</td>\n",
       "      <td>0.144076</td>\n",
       "      <td>0.284513</td>\n",
       "      <td>0.299026</td>\n",
       "      <td>0.297407</td>\n",
       "      <td>0.307593</td>\n",
       "      <td>0.33526</td>\n",
       "      <td>0.164921</td>\n",
       "      <td>0.24552</td>\n",
       "      <td>...</td>\n",
       "      <td>-0.0816906</td>\n",
       "      <td>-0.0884031</td>\n",
       "      <td>-0.0884031</td>\n",
       "      <td>-0.0927714</td>\n",
       "      <td>-0.0955204</td>\n",
       "      <td>-0.0974176</td>\n",
       "      <td>-0.110353</td>\n",
       "      <td>-0.129512</td>\n",
       "      <td>-0.150737</td>\n",
       "      <td>-0.164567</td>\n",
       "    </tr>\n",
       "  </tbody>\n",
       "</table>\n",
       "<p>5 rows × 1025 columns</p>\n",
       "</div>"
      ],
      "text/plain": [
       "   label         0         1         2         3         4         5  \\\n",
       "0  truck  0.271278  0.212647  0.194594  0.202756  0.226477  0.227202   \n",
       "1  truck  0.246235  0.249709  0.252205  0.244809  0.251135  0.250198   \n",
       "2  truck  0.415718  0.412969  0.428207  0.464331  0.491611  0.495532   \n",
       "3  truck -0.307827 -0.293997 -0.289182 -0.284367 -0.276355 -0.275739   \n",
       "4  truck  0.167392  0.144076  0.284513  0.299026  0.297407  0.307593   \n",
       "\n",
       "          6         7         8    ...           1014       1015       1016  \\\n",
       "0  0.238755  0.236175  0.236664    ...      -0.301765  -0.284183  -0.279368   \n",
       "1  0.262838  0.246041  0.271296    ...        0.15088    0.14421   0.146959   \n",
       "2   0.49436  0.486753   0.48004    ...      -0.122853  -0.153261  -0.186081   \n",
       "3 -0.276186 -0.269516 -0.269516    ...      -0.293216  -0.310798   -0.31342   \n",
       "4   0.33526  0.164921   0.24552    ...     -0.0816906 -0.0884031 -0.0884031   \n",
       "\n",
       "        1017       1018       1019      1020       1021       1022       1023  \n",
       "0  -0.285186  -0.260487  -0.271525 -0.286763  -0.285422  -0.293711  -0.297675  \n",
       "1   0.146959   0.132168   0.113456   0.10327  0.0951494  0.0750965  0.0790176  \n",
       "2  -0.193283  -0.204061  -0.206599  -0.21423  -0.237757  -0.252547  -0.294044  \n",
       "3  -0.307922  -0.317831  -0.342977 -0.364885  -0.363544  -0.362203  -0.365677  \n",
       "4 -0.0927714 -0.0955204 -0.0974176 -0.110353  -0.129512  -0.150737  -0.164567  \n",
       "\n",
       "[5 rows x 1025 columns]"
      ]
     },
     "execution_count": 16,
     "metadata": {},
     "output_type": "execute_result"
    }
   ],
   "source": [
    "df.head()"
   ]
  },
  {
   "cell_type": "markdown",
   "metadata": {},
   "source": [
    "Below are the first 24 truck images in the data set."
   ]
  },
  {
   "cell_type": "code",
   "execution_count": 17,
   "metadata": {},
   "outputs": [
    {
     "data": {
      "image/png": "[encoded data removed]",
      "text/plain": [
       "<matplotlib.figure.Figure at 0x10e3965f8>"
      ]
     },
     "metadata": {},
     "output_type": "display_data"
    }
   ],
   "source": [
    "from matplotlib import pyplot as plt\n",
    "%matplotlib inline\n",
    "plt.style.use('ggplot')\n",
    "\n",
    "# a helper plotting function\n",
    "def plot_gallery(images, titles, h, w, n_row=3, n_col=6):\n",
    "    \"\"\"Helper function to plot a gallery of portraits\"\"\"\n",
    "    plt.figure(figsize=(1.7 * n_col, 2.3 * n_row))\n",
    "    plt.subplots_adjust(bottom=0, left=.01, right=.99, top=.90, hspace=.35)\n",
    "    for i in range(n_row * n_col):\n",
    "        plt.subplot(n_row, n_col, i + 1)\n",
    "        plt.imshow(images[i].reshape((h, w)), cmap=plt.cm.gray)\n",
    "        plt.title(titles[i], size=12)\n",
    "        plt.xticks(())\n",
    "        plt.yticks(())\n",
    "\n",
    "plot_gallery(df.drop(['label'], axis=1).astype(np.float).values, df['label'].values, 32, 32)"
   ]
  },
  {
   "cell_type": "code",
   "execution_count": 18,
   "metadata": {},
   "outputs": [
    {
     "data": {
      "text/html": [
       "<div>\n",
       "<style>\n",
       "    .dataframe thead tr:only-child th {\n",
       "        text-align: right;\n",
       "    }\n",
       "\n",
       "    .dataframe thead th {\n",
       "        text-align: left;\n",
       "    }\n",
       "\n",
       "    .dataframe tbody tr th {\n",
       "        vertical-align: top;\n",
       "    }\n",
       "</style>\n",
       "<table border=\"1\" class=\"dataframe\">\n",
       "  <thead>\n",
       "    <tr style=\"text-align: right;\">\n",
       "      <th></th>\n",
       "      <th>label</th>\n",
       "      <th>0</th>\n",
       "      <th>1</th>\n",
       "      <th>2</th>\n",
       "      <th>3</th>\n",
       "      <th>4</th>\n",
       "      <th>5</th>\n",
       "      <th>6</th>\n",
       "      <th>7</th>\n",
       "      <th>8</th>\n",
       "      <th>...</th>\n",
       "      <th>1015</th>\n",
       "      <th>1016</th>\n",
       "      <th>1017</th>\n",
       "      <th>1018</th>\n",
       "      <th>1019</th>\n",
       "      <th>1020</th>\n",
       "      <th>1021</th>\n",
       "      <th>1022</th>\n",
       "      <th>1023</th>\n",
       "      <th>label_int</th>\n",
       "    </tr>\n",
       "  </thead>\n",
       "  <tbody>\n",
       "    <tr>\n",
       "      <th>0</th>\n",
       "      <td>truck</td>\n",
       "      <td>0.271278</td>\n",
       "      <td>0.212647</td>\n",
       "      <td>0.194594</td>\n",
       "      <td>0.202756</td>\n",
       "      <td>0.226477</td>\n",
       "      <td>0.227202</td>\n",
       "      <td>0.238755</td>\n",
       "      <td>0.236175</td>\n",
       "      <td>0.236664</td>\n",
       "      <td>...</td>\n",
       "      <td>-0.284183</td>\n",
       "      <td>-0.279368</td>\n",
       "      <td>-0.285186</td>\n",
       "      <td>-0.260487</td>\n",
       "      <td>-0.271525</td>\n",
       "      <td>-0.286763</td>\n",
       "      <td>-0.285422</td>\n",
       "      <td>-0.293711</td>\n",
       "      <td>-0.297675</td>\n",
       "      <td>1</td>\n",
       "    </tr>\n",
       "    <tr>\n",
       "      <th>1</th>\n",
       "      <td>truck</td>\n",
       "      <td>0.246235</td>\n",
       "      <td>0.249709</td>\n",
       "      <td>0.252205</td>\n",
       "      <td>0.244809</td>\n",
       "      <td>0.251135</td>\n",
       "      <td>0.250198</td>\n",
       "      <td>0.262838</td>\n",
       "      <td>0.246041</td>\n",
       "      <td>0.271296</td>\n",
       "      <td>...</td>\n",
       "      <td>0.14421</td>\n",
       "      <td>0.146959</td>\n",
       "      <td>0.146959</td>\n",
       "      <td>0.132168</td>\n",
       "      <td>0.113456</td>\n",
       "      <td>0.10327</td>\n",
       "      <td>0.0951494</td>\n",
       "      <td>0.0750965</td>\n",
       "      <td>0.0790176</td>\n",
       "      <td>1</td>\n",
       "    </tr>\n",
       "    <tr>\n",
       "      <th>2</th>\n",
       "      <td>truck</td>\n",
       "      <td>0.415718</td>\n",
       "      <td>0.412969</td>\n",
       "      <td>0.428207</td>\n",
       "      <td>0.464331</td>\n",
       "      <td>0.491611</td>\n",
       "      <td>0.495532</td>\n",
       "      <td>0.49436</td>\n",
       "      <td>0.486753</td>\n",
       "      <td>0.48004</td>\n",
       "      <td>...</td>\n",
       "      <td>-0.153261</td>\n",
       "      <td>-0.186081</td>\n",
       "      <td>-0.193283</td>\n",
       "      <td>-0.204061</td>\n",
       "      <td>-0.206599</td>\n",
       "      <td>-0.21423</td>\n",
       "      <td>-0.237757</td>\n",
       "      <td>-0.252547</td>\n",
       "      <td>-0.294044</td>\n",
       "      <td>1</td>\n",
       "    </tr>\n",
       "    <tr>\n",
       "      <th>3</th>\n",
       "      <td>truck</td>\n",
       "      <td>-0.307827</td>\n",
       "      <td>-0.293997</td>\n",
       "      <td>-0.289182</td>\n",
       "      <td>-0.284367</td>\n",
       "      <td>-0.276355</td>\n",
       "      <td>-0.275739</td>\n",
       "      <td>-0.276186</td>\n",
       "      <td>-0.269516</td>\n",
       "      <td>-0.269516</td>\n",
       "      <td>...</td>\n",
       "      <td>-0.310798</td>\n",
       "      <td>-0.31342</td>\n",
       "      <td>-0.307922</td>\n",
       "      <td>-0.317831</td>\n",
       "      <td>-0.342977</td>\n",
       "      <td>-0.364885</td>\n",
       "      <td>-0.363544</td>\n",
       "      <td>-0.362203</td>\n",
       "      <td>-0.365677</td>\n",
       "      <td>1</td>\n",
       "    </tr>\n",
       "    <tr>\n",
       "      <th>4</th>\n",
       "      <td>truck</td>\n",
       "      <td>0.167392</td>\n",
       "      <td>0.144076</td>\n",
       "      <td>0.284513</td>\n",
       "      <td>0.299026</td>\n",
       "      <td>0.297407</td>\n",
       "      <td>0.307593</td>\n",
       "      <td>0.33526</td>\n",
       "      <td>0.164921</td>\n",
       "      <td>0.24552</td>\n",
       "      <td>...</td>\n",
       "      <td>-0.0884031</td>\n",
       "      <td>-0.0884031</td>\n",
       "      <td>-0.0927714</td>\n",
       "      <td>-0.0955204</td>\n",
       "      <td>-0.0974176</td>\n",
       "      <td>-0.110353</td>\n",
       "      <td>-0.129512</td>\n",
       "      <td>-0.150737</td>\n",
       "      <td>-0.164567</td>\n",
       "      <td>1</td>\n",
       "    </tr>\n",
       "  </tbody>\n",
       "</table>\n",
       "<p>5 rows × 1026 columns</p>\n",
       "</div>"
      ],
      "text/plain": [
       "   label         0         1         2         3         4         5  \\\n",
       "0  truck  0.271278  0.212647  0.194594  0.202756  0.226477  0.227202   \n",
       "1  truck  0.246235  0.249709  0.252205  0.244809  0.251135  0.250198   \n",
       "2  truck  0.415718  0.412969  0.428207  0.464331  0.491611  0.495532   \n",
       "3  truck -0.307827 -0.293997 -0.289182 -0.284367 -0.276355 -0.275739   \n",
       "4  truck  0.167392  0.144076  0.284513  0.299026  0.297407  0.307593   \n",
       "\n",
       "          6         7         8    ...          1015       1016       1017  \\\n",
       "0  0.238755  0.236175  0.236664    ...     -0.284183  -0.279368  -0.285186   \n",
       "1  0.262838  0.246041  0.271296    ...       0.14421   0.146959   0.146959   \n",
       "2   0.49436  0.486753   0.48004    ...     -0.153261  -0.186081  -0.193283   \n",
       "3 -0.276186 -0.269516 -0.269516    ...     -0.310798   -0.31342  -0.307922   \n",
       "4   0.33526  0.164921   0.24552    ...    -0.0884031 -0.0884031 -0.0927714   \n",
       "\n",
       "        1018       1019      1020       1021       1022       1023 label_int  \n",
       "0  -0.260487  -0.271525 -0.286763  -0.285422  -0.293711  -0.297675         1  \n",
       "1   0.132168   0.113456   0.10327  0.0951494  0.0750965  0.0790176         1  \n",
       "2  -0.204061  -0.206599  -0.21423  -0.237757  -0.252547  -0.294044         1  \n",
       "3  -0.317831  -0.342977 -0.364885  -0.363544  -0.362203  -0.365677         1  \n",
       "4 -0.0955204 -0.0974176 -0.110353  -0.129512  -0.150737  -0.164567         1  \n",
       "\n",
       "[5 rows x 1026 columns]"
      ]
     },
     "execution_count": 18,
     "metadata": {},
     "output_type": "execute_result"
    }
   ],
   "source": [
    "label_dict = {\n",
    "    'truck': 1,\n",
    "    'automobile': 0\n",
    "}\n",
    "df['label_int'] = [label_dict[x] for x in df.label]\n",
    "df.head()"
   ]
  },
  {
   "cell_type": "code",
   "execution_count": 19,
   "metadata": {
    "collapsed": true
   },
   "outputs": [],
   "source": [
    "df.to_csv('./clean-data/vehicles.csv')"
   ]
  },
  {
   "cell_type": "markdown",
   "metadata": {},
   "source": [
    "### Train Test Split\n",
    "We will pull out 10% of our samples to serve as a validation set for our classifier. This will allow us to gauge the generalization performance of our different models given their different architectures. We will train each model on the training set that contains 90% of our samples. In addition, to better understand how our models will generalize we will use stritified 4-fold cross validation so that we can see how our model performs on various train folds in our training set. We will only use four folds so that we don't need to dedicate too much compute resources to evaluating our models."
   ]
  },
  {
   "cell_type": "code",
   "execution_count": 14,
   "metadata": {},
   "outputs": [
    {
     "name": "stdout",
     "output_type": "stream",
     "text": [
      "(1000, 1024)\n",
      "(1000,)\n"
     ]
    }
   ],
   "source": [
    "import pandas as pd\n",
    "import numpy as np\n",
    "\n",
    "df = pd.read_csv('./clean-data/vehicles.csv', index_col=0)\n",
    "\n",
    "X = df.drop(['label', 'label_int'], axis=1).astype(np.float)\n",
    "y = df['label_int'].astype(np.int)\n",
    "\n",
    "print(X.shape)\n",
    "print(y.shape)"
   ]
  },
  {
   "cell_type": "code",
   "execution_count": 15,
   "metadata": {
    "collapsed": true
   },
   "outputs": [],
   "source": [
    "from sklearn.model_selection import StratifiedShuffleSplit\n",
    "from keras.utils import to_categorical\n",
    "\n",
    "NUM_CLASSES = 2\n",
    "\n",
    "col_names = X.columns.values\n",
    "\n",
    "sss = StratifiedShuffleSplit(n_splits=1, test_size=0.1, random_state=64)\n",
    "for train_idx, test_idx in sss.split(X.values, y.values):\n",
    "    # X_train - 80% training attribute set\n",
    "    # X_test - 20% test attribute set\n",
    "    # y_train - 80% training labels\n",
    "    # y_test - 20% training labels\n",
    "    X_train, X_test = pd.DataFrame(X.values[train_idx], columns=col_names), pd.DataFrame(X.values[test_idx], columns=col_names)\n",
    "    y_train, y_test = pd.DataFrame(y.values[train_idx], columns=[\"label_int\"]), pd.DataFrame(y.values[test_idx], columns=[\"label_int\"])\n",
    "\n",
    "y_train, y_test = y_train.values.flatten(), y_test.values.flatten()\n",
    "\n",
    "y_train_ohe = to_categorical(y_train, NUM_CLASSES)\n",
    "y_test_ohe = to_categorical(y_test, NUM_CLASSES)"
   ]
  },
  {
   "cell_type": "markdown",
   "metadata": {},
   "source": [
    "## Modeling\n",
    "We will look at two different convolutional network architectures and see which one performs the best on our test set accorging to recall. We will then compare the best network to a simple multi-layer perceptron.\n",
    "\n",
    "### First Network Architecture\n",
    "In this first architecture, we will use two convolutional layers with an increasing number of filters. The convolutional layers have max pooling inbetween to downsample. The output of the last maxpool is passed to a shallow multilayer perceptron with 100 neurons and a ReLU activation function. The output layer uses a sigmoid activaiton function to predict the class label."
   ]
  },
  {
   "cell_type": "code",
   "execution_count": 16,
   "metadata": {},
   "outputs": [
    {
     "name": "stdout",
     "output_type": "stream",
     "text": [
      "CPU times: user 22 µs, sys: 1e+03 ns, total: 23 µs\n",
      "Wall time: 24.1 µs\n"
     ]
    }
   ],
   "source": [
    "%%time\n",
    "\n",
    "import keras\n",
    "from keras.models import Sequential\n",
    "from keras.layers import Reshape\n",
    "from keras.layers import Dense, Dropout, Activation, Flatten\n",
    "from keras.layers import Conv2D, MaxPooling2D"
   ]
  },
  {
   "cell_type": "code",
   "execution_count": 17,
   "metadata": {},
   "outputs": [
    {
     "name": "stdout",
     "output_type": "stream",
     "text": [
      "[[128  41]\n",
      " [ 26  31]] => 0.543859649123\n",
      "[[146  23]\n",
      " [ 37  19]] => 0.339285714286\n",
      "[[147  22]\n",
      " [ 34  22]] => 0.392857142857\n",
      "[[144  24]\n",
      " [ 33  23]] => 0.410714285714\n"
     ]
    }
   ],
   "source": [
    "from sklearn.model_selection import StratifiedKFold\n",
    "from sklearn import metrics as mt\n",
    "\n",
    "def build_cnn1():\n",
    "    cnn1 = Sequential()\n",
    "    cnn1.add(Reshape((1,32,32), input_shape=(1,1024)))\n",
    "\n",
    "    num_filters_layers = [32,64]\n",
    "    for num_filters in num_filters_layers:    \n",
    "        cnn1.add(Conv2D(filters=num_filters, kernel_size= (3, 3), padding='same', input_shape=(1,32,32)))\n",
    "        cnn1.add(Activation('relu'))\n",
    "        cnn1.add(MaxPooling2D(pool_size=(2, 2), data_format=\"channels_first\"))\n",
    "\n",
    "    cnn1.add(Flatten())\n",
    "    cnn1.add(Dense(100))\n",
    "    cnn1.add(Activation('relu'))\n",
    "    cnn1.add(Dense(NUM_CLASSES))\n",
    "    cnn1.add(Activation('sigmoid'))\n",
    "    \n",
    "    cnn1.compile(loss='mean_squared_error',\n",
    "              optimizer='rmsprop',\n",
    "              metrics=['accuracy'])\n",
    "    return cnn1\n",
    "\n",
    "scores = []\n",
    "kfold = StratifiedKFold(n_splits=4, shuffle=True, random_state=64)\n",
    "for train_idx, test_idx in kfold.split(X_train, y_train):\n",
    "    # build train and test samples from crossed cols and feature cols\n",
    "    X_train_temp = X_train.iloc[train_idx]\n",
    "    y_train_temp = to_categorical(y_train[train_idx], NUM_CLASSES)\n",
    "    X_test_temp = X_train.iloc[test_idx]\n",
    "    y_test_temp = to_categorical(y_train[test_idx], NUM_CLASSES)\n",
    "    \n",
    "    # rebuild model\n",
    "    cnn1 = build_cnn1()\n",
    "\n",
    "    # fit on train and predict on test\n",
    "    cnn1.fit(np.expand_dims(X_train_temp, axis=1), y_train_temp, epochs=40, batch_size=32, verbose=0)\n",
    "    pred = np.argmax(cnn1.predict(np.expand_dims(X_test_temp, axis=1)), axis=1)\n",
    "    \n",
    "    # take cost\n",
    "    s = mt.recall_score(y_train[test_idx], pred)\n",
    "    scores.append(s)\n",
    "    \n",
    "    # print confusion matrix\n",
    "    print(mt.confusion_matrix(y_train[test_idx],pred), \"=>\", s)\n",
    "\n"
   ]
  },
  {
   "cell_type": "code",
   "execution_count": 18,
   "metadata": {},
   "outputs": [
    {
     "name": "stdout",
     "output_type": "stream",
     "text": [
      "Recall score: 0.44\n"
     ]
    }
   ],
   "source": [
    "cnn1= build_cnn1()\n",
    "\n",
    "cnn1.fit(np.expand_dims(X_train, axis=1), y_train_ohe,\n",
    "        batch_size=32, epochs=150, \n",
    "        shuffle=True, verbose=0)\n",
    "\n",
    "yhat = np.argmax(cnn1.predict(np.expand_dims(X_test, axis=1)), axis=1)\n",
    "print(\"Recall score: \" + str(mt.recall_score(y_test,yhat)))"
   ]
  },
  {
   "cell_type": "markdown",
   "metadata": {},
   "source": [
    "This recall score is not acceptable for our business case, so we will adjust the architecture to see if we can raise the score.\n",
    "\n",
    "### Second Network Architecture\n",
    "In this architecture, we use four convolutional layers with an increasing number of filters. Again, we use max pooling inbetween the convolutional layers. The output of the final max pool is passed to a shallow MLP with 64 neurons and a ReLU activation function. Again, we use a softmax activation function in the output layer.\n",
    "\n",
    "We also add class weights to address the class imbalance. There are three times more cars than trucks in our data set. We are also more interested in classifying trucks than cars, so we assigned trucks a weight of 4."
   ]
  },
  {
   "cell_type": "code",
   "execution_count": 19,
   "metadata": {},
   "outputs": [
    {
     "name": "stdout",
     "output_type": "stream",
     "text": [
      "[[147  22]\n",
      " [ 46  11]] => 0.19298245614\n",
      "[[144  25]\n",
      " [ 31  25]] => 0.446428571429\n",
      "[[140  29]\n",
      " [ 35  21]] => 0.375\n",
      "[[147  21]\n",
      " [ 35  21]] => 0.375\n"
     ]
    }
   ],
   "source": [
    "class_weight = {\n",
    "    1: 4,\n",
    "    0: 1\n",
    "}\n",
    "\n",
    "def build_cnn2():\n",
    "    cnn2 = Sequential()\n",
    "    cnn2.add(Reshape((1,32,32), input_shape=(1,1024)))\n",
    "\n",
    "    num_filters_layers = [32,32,64,128]\n",
    "    for num_filters in num_filters_layers:    \n",
    "        cnn2.add(Conv2D(filters=num_filters, kernel_size= (3, 3), padding='same', input_shape=(1,32,32)))\n",
    "        cnn2.add(Activation('relu'))\n",
    "        cnn2.add(MaxPooling2D(pool_size=(2, 2), data_format=\"channels_first\"))\n",
    "\n",
    "    cnn2.add(Flatten())\n",
    "    cnn2.add(Dense(64))\n",
    "    cnn2.add(Activation('relu'))\n",
    "    cnn2.add(Dense(NUM_CLASSES))\n",
    "    cnn2.add(Activation('softmax'))\n",
    "\n",
    "    cnn2.compile(loss='mean_squared_error',\n",
    "                  optimizer='rmsprop',\n",
    "                  metrics=['accuracy'])\n",
    "\n",
    "    return cnn2\n",
    "\n",
    "scores = []\n",
    "kfold = StratifiedKFold(n_splits=4, shuffle=True, random_state=64)\n",
    "for train_idx, test_idx in kfold.split(X_train, y_train):\n",
    "    # build train and test samples from crossed cols and feature cols\n",
    "    X_train_temp = X_train.iloc[train_idx]\n",
    "    y_train_temp = to_categorical(y_train[train_idx], NUM_CLASSES)\n",
    "    X_test_temp = X_train.iloc[test_idx]\n",
    "    y_test_temp = to_categorical(y_train[test_idx], NUM_CLASSES)\n",
    "    \n",
    "    cnn2 = build_cnn2()\n",
    "    \n",
    "    # fit on train and predict on test\n",
    "    cnn2.fit(np.expand_dims(X_train_temp, axis=1), y_train_temp, epochs=40, batch_size=32, verbose=0)\n",
    "    pred = np.argmax(cnn2.predict(np.expand_dims(X_test_temp, axis=1)), axis=1)\n",
    "    \n",
    "    # take cost\n",
    "    s = mt.recall_score(y_train[test_idx], pred)\n",
    "    scores.append(s)\n",
    "    \n",
    "    # print confusion matrix\n",
    "    print(mt.confusion_matrix(y_train[test_idx],pred), \"=>\", s)\n"
   ]
  },
  {
   "cell_type": "code",
   "execution_count": 83,
   "metadata": {},
   "outputs": [
    {
     "name": "stdout",
     "output_type": "stream",
     "text": [
      "Recall score: 0.36\n"
     ]
    }
   ],
   "source": [
    "cnn2 = build_cnn2()\n",
    "\n",
    "cnn2.fit(np.expand_dims(X_train, axis=1), y_train_ohe,\n",
    "        class_weight=class_weight,\n",
    "        batch_size=32, epochs=150, \n",
    "        shuffle=True, verbose=0)\n",
    "\n",
    "yhat = np.argmax(cnn2.predict(np.expand_dims(X_test, axis=1)), axis=1)\n",
    "print(\"Recall score: \" + str(mt.recall_score(y_test,yhat)))"
   ]
  },
  {
   "cell_type": "markdown",
   "metadata": {},
   "source": [
    "This score is lower than the previous architecture, but the performance on each fold is more consistent. To get a better idea of the differences between the models, we will run each model with a varying number of epochs to see how performance changes."
   ]
  },
  {
   "cell_type": "code",
   "execution_count": 84,
   "metadata": {
    "collapsed": true
   },
   "outputs": [],
   "source": [
    "cnn1_scores = []\n",
    "cnn2_scores = []\n",
    "\n",
    "for e in [10, 25, 50, 100, 150, 200]:\n",
    "    cnn1.fit(np.expand_dims(X_train, axis=1), y_train_ohe,\n",
    "        batch_size=32, epochs=e, \n",
    "        shuffle=True, verbose=0)\n",
    "    \n",
    "    yhat = np.argmax(cnn1.predict(np.expand_dims(X_test, axis=1)), axis=1)\n",
    "    cnn1_scores.append(mt.recall_score(y_test,yhat))\n",
    "    \n",
    "    cnn2.fit(np.expand_dims(X_train, axis=1), y_train_ohe,\n",
    "        class_weight=class_weight,\n",
    "        batch_size=32, epochs=e, \n",
    "        shuffle=True, verbose=0)\n",
    "        \n",
    "    yhat = np.argmax(cnn2.predict(np.expand_dims(X_test, axis=1)), axis=1)\n",
    "    cnn2_scores.append(mt.recall_score(y_test,yhat))"
   ]
  },
  {
   "cell_type": "code",
   "execution_count": 85,
   "metadata": {},
   "outputs": [
    {
     "name": "stdout",
     "output_type": "stream",
     "text": [
      "[0.32000000000000001, 0.23999999999999999, 0.40000000000000002, 0.32000000000000001, 0.32000000000000001, 0.32000000000000001]\n",
      "[0.35999999999999999, 0.32000000000000001, 0.23999999999999999, 0.23999999999999999, 0.28000000000000003, 0.23999999999999999]\n"
     ]
    }
   ],
   "source": [
    "print(cnn1_scores)\n",
    "print(cnn2_scores)"
   ]
  },
  {
   "cell_type": "code",
   "execution_count": 96,
   "metadata": {},
   "outputs": [
    {
     "data": {
      "image/png": "[encoded data removed]",
      "text/plain": [
       "<matplotlib.figure.Figure at 0x136783898>"
      ]
     },
     "metadata": {},
     "output_type": "display_data"
    }
   ],
   "source": [
    "import matplotlib.pyplot as plt\n",
    "\n",
    "ax = plt.subplot()\n",
    "plt.plot(cnn1_scores, 'r--', label=\"CNN1\")\n",
    "plt.plot(cnn2_scores, 'b--', label=\"CNN2\")\n",
    "ax.set_xticklabels(['10', '25', '50', '100', '150', '200'])\n",
    "plt.legend()\n",
    "plt.ylabel(\"Recall\")\n",
    "plt.xlabel(\"Epochs\")\n",
    "plt.title(\"Recall for Varrying Epochs\")\n",
    "plt.show()"
   ]
  },
  {
   "cell_type": "markdown",
   "metadata": {},
   "source": [
    "We see that CNN2 performs better for a lower number of training iterations. As we move forward, and train on more data, we will use CNN2 because we will use fewer training iterations for the full data set.\n",
    "\n",
    "We will now compare CNN2 to a standard multi-layer perceptron."
   ]
  },
  {
   "cell_type": "code",
   "execution_count": null,
   "metadata": {},
   "outputs": [],
   "source": [
    "from matplotlib import pyplot as plt\n",
    "import seaborn as sns\n",
    "%matplotlib inline\n",
    "\n",
    "from sklearn.neural_network import MLPClassifier\n",
    "\n",
    "sk_mlp = MLPClassifier(hidden_layer_sizes=(100,), \n",
    "                       solver='lbfgs', \n",
    "                       learning_rate_init=0.01, \n",
    "                       max_iter=120, \n",
    "                       random_state=1)\n",
    "sk_mlp.fit(X_train, y_train)"
   ]
  },
  {
   "cell_type": "code",
   "execution_count": 33,
   "metadata": {
    "collapsed": true
   },
   "outputs": [],
   "source": [
    "def compare_mlp_cnn(cnn, mlp, X_test, y_test):\n",
    "    plt.figure(figsize=(15,5))\n",
    "    if cnn2 is not None:\n",
    "        yhat_cnn = np.argmax(cnn2.predict(np.expand_dims(X_test, axis=1)), axis=1)\n",
    "        acc_cnn = mt.recall_score(y_test,yhat_cnn)\n",
    "        plt.subplot(1,2,1)\n",
    "        cm = mt.confusion_matrix(y_test,yhat_cnn)\n",
    "        cm = cm/np.sum(cm,axis=1)[:,np.newaxis]\n",
    "        sns.heatmap(cm, annot=True, fmt='.2f')\n",
    "        plt.title('CNN: '+str(acc_cnn))\n",
    "    \n",
    "    if mlp is not None:\n",
    "        yhat_mlp = mlp.predict(X_test)\n",
    "        acc_mlp = mt.recall_score(y_test,yhat_mlp)\n",
    "        plt.subplot(1,2,2)\n",
    "        cm = mt.confusion_matrix(y_test,yhat_mlp)\n",
    "        cm = cm/np.sum(cm,axis=1)[:,np.newaxis]\n",
    "        sns.heatmap(cm,annot=True, fmt='.2f')\n",
    "        plt.title('MLP: '+str(acc_mlp))"
   ]
  },
  {
   "cell_type": "code",
   "execution_count": 56,
   "metadata": {},
   "outputs": [
    {
     "data": {
      "image/png": "[encoded data removed]",
      "text/plain": [
       "<matplotlib.figure.Figure at 0x12889e908>"
      ]
     },
     "metadata": {},
     "output_type": "display_data"
    }
   ],
   "source": [
    "compare_mlp_cnn(cnn2, sk_mlp, X_test, y_test)"
   ]
  },
  {
   "cell_type": "markdown",
   "metadata": {},
   "source": [
    "We see that the MLP is able to achieve better recall than our convolutional neural network for this data set size."
   ]
  },
  {
   "cell_type": "code",
   "execution_count": 57,
   "metadata": {},
   "outputs": [
    {
     "data": {
      "image/png": "[encoded data removed]",
      "text/plain": [
       "<matplotlib.figure.Figure at 0x12a238668>"
      ]
     },
     "metadata": {},
     "output_type": "display_data"
    }
   ],
   "source": [
    "import matplotlib.pyplot as plt\n",
    "from sklearn.metrics import roc_curve, auc\n",
    "from scipy import interp\n",
    "\n",
    "K = 4\n",
    "\n",
    "mean_tpr = 0.0\n",
    "mean_fpr = np.linspace(0, 1, 100)\n",
    "all_tpr = []\n",
    "\n",
    "pred = cnn1.predict(np.expand_dims(X_test, axis=1))\n",
    "pred_sk = sk_mlp.predict_proba(X_test)\n",
    "\n",
    "perclass_mean_tpr = 0.0\n",
    "roc_auc = 0\n",
    "classes = np.unique(y_train)\n",
    "\n",
    "# get the mean fpr and tpr, per class\n",
    "for j in classes:\n",
    "    fpr, tpr, thresholds = roc_curve(y_test,\n",
    "                                     pred[:,int(j)],\n",
    "                                     pos_label=j)\n",
    "    \n",
    "    perclass_mean_tpr += interp(mean_fpr, fpr, tpr)\n",
    "    perclass_mean_tpr[0] = 0.0\n",
    "    roc_auc += auc(fpr, tpr)\n",
    "\n",
    "perclass_mean_tpr /= len(classes)\n",
    "roc_auc /= len(classes)\n",
    "mean_tpr += perclass_mean_tpr\n",
    "plt.plot(mean_fpr,perclass_mean_tpr,'--',lw=1,label='Mean Class ROC Custom (area = %0.2f)'\n",
    "               % (roc_auc))\n",
    "\n",
    "perclass_mean_tpr = 0.0\n",
    "roc_auc = 0\n",
    "\n",
    "# get the mean fpr and tpr, per class\n",
    "for j in classes:\n",
    "    fpr, tpr, thresholds = roc_curve(y_test,\n",
    "                                     pred_sk[:,int(j)],\n",
    "                                     pos_label=j)\n",
    "    \n",
    "    perclass_mean_tpr += interp(mean_fpr, fpr, tpr)\n",
    "    perclass_mean_tpr[0] = 0.0\n",
    "    roc_auc += auc(fpr, tpr)\n",
    "\n",
    "perclass_mean_tpr /= len(classes)\n",
    "roc_auc /= len(classes)\n",
    "mean_tpr += perclass_mean_tpr\n",
    "plt.plot(mean_fpr,perclass_mean_tpr,'--',lw=1,label='Mean Class ROC Sklearn (area = %0.2f)'\n",
    "               % (roc_auc))\n",
    "\n",
    "plt.legend(loc='best')\n",
    "plt.grid()\n",
    "plt.xlabel('False Positive Rate')\n",
    "plt.ylabel('True Positive Rate')\n",
    "plt.title('Average Receiver Operating Characteristic')\n",
    "plt.show()"
   ]
  },
  {
   "cell_type": "markdown",
   "metadata": {},
   "source": [
    "The area under the ROC curve shows that these models perform similarly."
   ]
  },
  {
   "cell_type": "markdown",
   "metadata": {},
   "source": [
    "## Larger Data Set\n",
    "We are not impressed with these results for our model, so we will now load is all available images of cars and trucks and see how CNN2 performs. We will be ignoring the class imbalance found in the real world in favor of training on all available data."
   ]
  },
  {
   "cell_type": "code",
   "execution_count": 2,
   "metadata": {},
   "outputs": [
    {
     "data": {
      "text/html": [
       "<div>\n",
       "<style>\n",
       "    .dataframe thead tr:only-child th {\n",
       "        text-align: right;\n",
       "    }\n",
       "\n",
       "    .dataframe thead th {\n",
       "        text-align: left;\n",
       "    }\n",
       "\n",
       "    .dataframe tbody tr th {\n",
       "        vertical-align: top;\n",
       "    }\n",
       "</style>\n",
       "<table border=\"1\" class=\"dataframe\">\n",
       "  <thead>\n",
       "    <tr style=\"text-align: right;\">\n",
       "      <th></th>\n",
       "      <th>label</th>\n",
       "      <th>0</th>\n",
       "      <th>1</th>\n",
       "      <th>2</th>\n",
       "      <th>3</th>\n",
       "      <th>4</th>\n",
       "      <th>5</th>\n",
       "      <th>6</th>\n",
       "      <th>7</th>\n",
       "      <th>8</th>\n",
       "      <th>...</th>\n",
       "      <th>1015</th>\n",
       "      <th>1016</th>\n",
       "      <th>1017</th>\n",
       "      <th>1018</th>\n",
       "      <th>1019</th>\n",
       "      <th>1020</th>\n",
       "      <th>1021</th>\n",
       "      <th>1022</th>\n",
       "      <th>1023</th>\n",
       "      <th>label_int</th>\n",
       "    </tr>\n",
       "  </thead>\n",
       "  <tbody>\n",
       "    <tr>\n",
       "      <th>0</th>\n",
       "      <td>truck</td>\n",
       "      <td>0.171559</td>\n",
       "      <td>0.0238604</td>\n",
       "      <td>-0.095049</td>\n",
       "      <td>-0.103683</td>\n",
       "      <td>0.0102176</td>\n",
       "      <td>0.14428</td>\n",
       "      <td>0.232866</td>\n",
       "      <td>0.264749</td>\n",
       "      <td>0.0952933</td>\n",
       "      <td>...</td>\n",
       "      <td>-0.317855</td>\n",
       "      <td>-0.243015</td>\n",
       "      <td>-0.142176</td>\n",
       "      <td>-0.0493671</td>\n",
       "      <td>0.00887686</td>\n",
       "      <td>0.0241569</td>\n",
       "      <td>0.0359204</td>\n",
       "      <td>0.0395635</td>\n",
       "      <td>0.0381557</td>\n",
       "      <td>1</td>\n",
       "    </tr>\n",
       "    <tr>\n",
       "      <th>1</th>\n",
       "      <td>truck</td>\n",
       "      <td>0.4999</td>\n",
       "      <td>0.492058</td>\n",
       "      <td>0.492058</td>\n",
       "      <td>0.492058</td>\n",
       "      <td>0.492058</td>\n",
       "      <td>0.492058</td>\n",
       "      <td>0.492058</td>\n",
       "      <td>0.492058</td>\n",
       "      <td>0.492058</td>\n",
       "      <td>...</td>\n",
       "      <td>-0.190953</td>\n",
       "      <td>-0.202716</td>\n",
       "      <td>-0.245849</td>\n",
       "      <td>-0.257613</td>\n",
       "      <td>-0.234085</td>\n",
       "      <td>-0.200819</td>\n",
       "      <td>-0.175799</td>\n",
       "      <td>-0.174627</td>\n",
       "      <td>-0.170706</td>\n",
       "      <td>1</td>\n",
       "    </tr>\n",
       "    <tr>\n",
       "      <th>2</th>\n",
       "      <td>truck</td>\n",
       "      <td>0.0391373</td>\n",
       "      <td>0.0308478</td>\n",
       "      <td>0.03202</td>\n",
       "      <td>0.0329808</td>\n",
       "      <td>0.0326604</td>\n",
       "      <td>0.0337235</td>\n",
       "      <td>0.0368353</td>\n",
       "      <td>0.00268157</td>\n",
       "      <td>-0.0103071</td>\n",
       "      <td>...</td>\n",
       "      <td>-0.355557</td>\n",
       "      <td>-0.290069</td>\n",
       "      <td>-0.14846</td>\n",
       "      <td>-0.0642176</td>\n",
       "      <td>0.000418431</td>\n",
       "      <td>0.0410804</td>\n",
       "      <td>0.0775675</td>\n",
       "      <td>0.09466</td>\n",
       "      <td>0.0893976</td>\n",
       "      <td>1</td>\n",
       "    </tr>\n",
       "    <tr>\n",
       "      <th>3</th>\n",
       "      <td>truck</td>\n",
       "      <td>0.107216</td>\n",
       "      <td>0.106322</td>\n",
       "      <td>0.105639</td>\n",
       "      <td>0.104509</td>\n",
       "      <td>0.107047</td>\n",
       "      <td>0.106153</td>\n",
       "      <td>0.107747</td>\n",
       "      <td>0.108152</td>\n",
       "      <td>0.104424</td>\n",
       "      <td>...</td>\n",
       "      <td>-0.053218</td>\n",
       "      <td>-0.0551153</td>\n",
       "      <td>-0.0661961</td>\n",
       "      <td>-0.0650663</td>\n",
       "      <td>-0.060251</td>\n",
       "      <td>-0.0454604</td>\n",
       "      <td>0.00489882</td>\n",
       "      <td>0.101334</td>\n",
       "      <td>0.206058</td>\n",
       "      <td>1</td>\n",
       "    </tr>\n",
       "    <tr>\n",
       "      <th>4</th>\n",
       "      <td>truck</td>\n",
       "      <td>0.42512</td>\n",
       "      <td>0.42512</td>\n",
       "      <td>0.432962</td>\n",
       "      <td>0.440804</td>\n",
       "      <td>0.448647</td>\n",
       "      <td>0.452568</td>\n",
       "      <td>0.459238</td>\n",
       "      <td>0.464525</td>\n",
       "      <td>0.464525</td>\n",
       "      <td>...</td>\n",
       "      <td>-0.198769</td>\n",
       "      <td>-0.179574</td>\n",
       "      <td>-0.226387</td>\n",
       "      <td>-0.243594</td>\n",
       "      <td>-0.188535</td>\n",
       "      <td>-0.143082</td>\n",
       "      <td>-0.208079</td>\n",
       "      <td>-0.224851</td>\n",
       "      <td>-0.277428</td>\n",
       "      <td>1</td>\n",
       "    </tr>\n",
       "  </tbody>\n",
       "</table>\n",
       "<p>5 rows × 1026 columns</p>\n",
       "</div>"
      ],
      "text/plain": [
       "   label          0          1         2          3          4          5  \\\n",
       "0  truck   0.171559  0.0238604 -0.095049  -0.103683  0.0102176    0.14428   \n",
       "1  truck     0.4999   0.492058  0.492058   0.492058   0.492058   0.492058   \n",
       "2  truck  0.0391373  0.0308478   0.03202  0.0329808  0.0326604  0.0337235   \n",
       "3  truck   0.107216   0.106322  0.105639   0.104509   0.107047   0.106153   \n",
       "4  truck    0.42512    0.42512  0.432962   0.440804   0.448647   0.452568   \n",
       "\n",
       "           6           7          8    ...         1015       1016       1017  \\\n",
       "0   0.232866    0.264749  0.0952933    ...    -0.317855  -0.243015  -0.142176   \n",
       "1   0.492058    0.492058   0.492058    ...    -0.190953  -0.202716  -0.245849   \n",
       "2  0.0368353  0.00268157 -0.0103071    ...    -0.355557  -0.290069   -0.14846   \n",
       "3   0.107747    0.108152   0.104424    ...    -0.053218 -0.0551153 -0.0661961   \n",
       "4   0.459238    0.464525   0.464525    ...    -0.198769  -0.179574  -0.226387   \n",
       "\n",
       "        1018         1019       1020        1021       1022       1023  \\\n",
       "0 -0.0493671   0.00887686  0.0241569   0.0359204  0.0395635  0.0381557   \n",
       "1  -0.257613    -0.234085  -0.200819   -0.175799  -0.174627  -0.170706   \n",
       "2 -0.0642176  0.000418431  0.0410804   0.0775675    0.09466  0.0893976   \n",
       "3 -0.0650663    -0.060251 -0.0454604  0.00489882   0.101334   0.206058   \n",
       "4  -0.243594    -0.188535  -0.143082   -0.208079  -0.224851  -0.277428   \n",
       "\n",
       "  label_int  \n",
       "0         1  \n",
       "1         1  \n",
       "2         1  \n",
       "3         1  \n",
       "4         1  \n",
       "\n",
       "[5 rows x 1026 columns]"
      ]
     },
     "execution_count": 2,
     "metadata": {},
     "output_type": "execute_result"
    }
   ],
   "source": [
    "import numpy as np\n",
    "import pandas as pd\n",
    "\n",
    "df_labels = pd.read_csv('../Lab3/data/labels.csv')\n",
    "df_labels = df_labels[ df_labels.label.isin(['automobile', 'truck']) ]\n",
    "df_labels = pd.concat([df_labels[df_labels.label == \"truck\"],\n",
    "                      df_labels[df_labels.label == \"automobile\"]])\n",
    "\n",
    "from PIL import Image\n",
    "\n",
    "# reads a png and returns a list of all pixel values in order r, g, b\n",
    "def get_img_as_rgb_row(image_path):\n",
    "    img = Image.open(image_path)\n",
    "    if len(img.split()) == 4:\n",
    "        # remove alpha if present\n",
    "        r, g, b, a = img.split()\n",
    "        img = Image.merge(\"RGB\", (r, g, b))\n",
    "    r, g, b = img.split()\n",
    "    r = list(r.getdata())\n",
    "    g = list(g.getdata())\n",
    "    b = list(b.getdata())\n",
    "    # convert to gray scale\n",
    "    img_list = [(r[i] * 0.2989 + g[i] * 0.5870 + b[i] * 0.1140)/255 - 0.5 for i in range(len(r))]\n",
    "    return img_list\n",
    "\n",
    "# generate column names\n",
    "cols = ['label']\n",
    "for i in range(1024):\n",
    "    cols.append(\"{}\".format(i))\n",
    "\n",
    "# create df and extract color values for all car and truck images\n",
    "df = pd.DataFrame(columns=cols, index=range(len(df_labels.id.tolist())))\n",
    "data_dir = \"../Lab3/data/cifar-10/\"\n",
    "idx = 0\n",
    "for r in df_labels.iterrows():\n",
    "    entry = [r[1].label]\n",
    "    entry.extend(get_img_as_rgb_row(\"{}{}.png\".format(data_dir, r[1].id)))\n",
    "    df.loc[idx] = entry\n",
    "    idx += 1\n",
    "\n",
    "label_dict = {\n",
    "    'truck': 1,\n",
    "    'automobile': 0\n",
    "}\n",
    "df['label_int'] = [label_dict[x] for x in df.label]\n",
    "df.head()"
   ]
  },
  {
   "cell_type": "code",
   "execution_count": 3,
   "metadata": {},
   "outputs": [
    {
     "name": "stdout",
     "output_type": "stream",
     "text": [
      "<class 'pandas.core.frame.DataFrame'>\n",
      "RangeIndex: 10000 entries, 0 to 9999\n",
      "Columns: 1026 entries, label to label_int\n",
      "dtypes: int64(1), object(1025)\n",
      "memory usage: 78.3+ MB\n"
     ]
    }
   ],
   "source": [
    "df.info()"
   ]
  },
  {
   "cell_type": "code",
   "execution_count": 4,
   "metadata": {
    "collapsed": true
   },
   "outputs": [],
   "source": [
    "df.to_csv('./clean-data/all-vehicles.csv')"
   ]
  },
  {
   "cell_type": "code",
   "execution_count": 20,
   "metadata": {},
   "outputs": [
    {
     "name": "stdout",
     "output_type": "stream",
     "text": [
      "(10000, 1024)\n",
      "(10000,)\n"
     ]
    }
   ],
   "source": [
    "import pandas as pd\n",
    "import numpy as np\n",
    "\n",
    "df = pd.read_csv('./clean-data/all-vehicles.csv', index_col=0)\n",
    "\n",
    "X = df.drop(['label', 'label_int'], axis=1).astype(np.float)\n",
    "y = df['label_int'].astype(np.int)\n",
    "\n",
    "print(X.shape)\n",
    "print(y.shape)"
   ]
  },
  {
   "cell_type": "code",
   "execution_count": 21,
   "metadata": {
    "collapsed": true
   },
   "outputs": [],
   "source": [
    "from sklearn.model_selection import StratifiedKFold\n",
    "from sklearn import metrics as mt\n",
    "from sklearn.model_selection import StratifiedShuffleSplit\n",
    "from keras.utils import to_categorical\n",
    "\n",
    "NUM_CLASSES = 2\n",
    "\n",
    "col_names = X.columns.values\n",
    "\n",
    "sss = StratifiedShuffleSplit(n_splits=1, test_size=0.1, random_state=64)\n",
    "for train_idx, test_idx in sss.split(X.values, y.values):\n",
    "    # X_train - 80% training attribute set\n",
    "    # X_test - 20% test attribute set\n",
    "    # y_train - 80% training labels\n",
    "    # y_test - 20% training labels\n",
    "    X_train, X_test = pd.DataFrame(X.values[train_idx], columns=col_names), pd.DataFrame(X.values[test_idx], columns=col_names)\n",
    "    y_train, y_test = pd.DataFrame(y.values[train_idx], columns=[\"label_int\"]), pd.DataFrame(y.values[test_idx], columns=[\"label_int\"])\n",
    "\n",
    "y_train, y_test = y_train.values.flatten(), y_test.values.flatten()\n",
    "\n",
    "y_train_ohe = to_categorical(y_train, NUM_CLASSES)\n",
    "y_test_ohe = to_categorical(y_test, NUM_CLASSES)"
   ]
  },
  {
   "cell_type": "code",
   "execution_count": 22,
   "metadata": {},
   "outputs": [
    {
     "data": {
      "text/plain": [
       "(9000, 1024)"
      ]
     },
     "execution_count": 22,
     "metadata": {},
     "output_type": "execute_result"
    }
   ],
   "source": [
    "X_train.shape"
   ]
  },
  {
   "cell_type": "code",
   "execution_count": 23,
   "metadata": {},
   "outputs": [
    {
     "name": "stdout",
     "output_type": "stream",
     "text": [
      "[[770 355]\n",
      " [274 851]] => 0.756444444444\n",
      "[[744 381]\n",
      " [234 891]] => 0.792\n",
      "[[692 433]\n",
      " [212 913]] => 0.811555555556\n",
      "[[837 288]\n",
      " [332 793]] => 0.704888888889\n"
     ]
    }
   ],
   "source": [
    "class_weight = {\n",
    "    1: 4,\n",
    "    0: 1\n",
    "}\n",
    "\n",
    "scores = []\n",
    "kfold = StratifiedKFold(n_splits=4, shuffle=True, random_state=64)\n",
    "for train_idx, test_idx in kfold.split(X_train, y_train):\n",
    "    # build train and test samples from crossed cols and feature cols\n",
    "    X_train_temp = X_train.iloc[train_idx]\n",
    "    y_train_temp = to_categorical(y_train[train_idx], NUM_CLASSES)\n",
    "    X_test_temp = X_train.iloc[test_idx]\n",
    "    y_test_temp = to_categorical(y_train[test_idx], NUM_CLASSES)\n",
    "    \n",
    "    cnn2 = build_cnn2()\n",
    "    \n",
    "    # fit on train and predict on test\n",
    "    cnn2.fit(np.expand_dims(X_train_temp, axis=1), y_train_temp, epochs=4, batch_size=32, verbose=0)\n",
    "    pred = np.argmax(cnn2.predict(np.expand_dims(X_test_temp, axis=1)), axis=1)\n",
    "    \n",
    "    # take cost\n",
    "    s = mt.recall_score(y_train[test_idx], pred)\n",
    "    scores.append(s)\n",
    "    \n",
    "    # print confusion matrix\n",
    "    print(mt.confusion_matrix(y_train[test_idx],pred), \"=>\", s)\n",
    "\n"
   ]
  },
  {
   "cell_type": "code",
   "execution_count": 201,
   "metadata": {},
   "outputs": [
    {
     "name": "stdout",
     "output_type": "stream",
     "text": [
      "Recall score: 0.898\n"
     ]
    }
   ],
   "source": [
    "cnn2 = build_cnn2()\n",
    "\n",
    "cnn2.fit(np.expand_dims(X_train, axis=1), y_train_ohe,\n",
    "        class_weight=class_weight,\n",
    "        batch_size=32, epochs=4, \n",
    "        shuffle=True, verbose=0)\n",
    "\n",
    "yhat = np.argmax(cnn2.predict(np.expand_dims(X_test, axis=1)), axis=1)\n",
    "print(\"Recall score: \" + str(mt.recall_score(y_test,yhat)))"
   ]
  },
  {
   "cell_type": "code",
   "execution_count": 202,
   "metadata": {},
   "outputs": [
    {
     "data": {
      "image/png": "[encoded data removed]",
      "text/plain": [
       "<matplotlib.figure.Figure at 0x11fc60908>"
      ]
     },
     "metadata": {},
     "output_type": "display_data"
    }
   ],
   "source": [
    "compare_mlp_cnn(cnn2, None, X_test, y_test)"
   ]
  },
  {
   "cell_type": "markdown",
   "metadata": {},
   "source": [
    "## Data Expansion"
   ]
  },
  {
   "cell_type": "code",
   "execution_count": 24,
   "metadata": {
    "collapsed": true
   },
   "outputs": [],
   "source": [
    "from keras.preprocessing.image import ImageDataGenerator\n",
    "from skimage.io import imshow"
   ]
  },
  {
   "cell_type": "code",
   "execution_count": 25,
   "metadata": {
    "collapsed": true
   },
   "outputs": [],
   "source": [
    "NUM_CLASSES = 10\n",
    "img_wh = 32\n",
    "\n",
    "if isinstance(X_train, pd.DataFrame):\n",
    "    X_train = X_train.as_matrix()\n",
    "if isinstance(X_test, pd.DataFrame):\n",
    "    X_test = X_test.as_matrix()\n",
    "\n",
    "# NEW: Let's start by fixing the sizes\n",
    "X_train = np.expand_dims(X_train.reshape((-1,img_wh,img_wh)), axis=1)\n",
    "X_test = np.expand_dims(X_test.reshape((-1,img_wh,img_wh)), axis=1)\n",
    "# the image data has been resized to (samples,image_channels, image_rows,image_cols)\n",
    "\n",
    "# and one hot encoding the output values\n",
    "y_train_ohe = keras.utils.to_categorical(y_train, NUM_CLASSES)\n",
    "y_test_ohe = keras.utils.to_categorical(y_test, NUM_CLASSES)"
   ]
  },
  {
   "cell_type": "code",
   "execution_count": 26,
   "metadata": {},
   "outputs": [
    {
     "name": "stdout",
     "output_type": "stream",
     "text": [
      "(9000, 1, 32, 32)\n"
     ]
    },
    {
     "data": {
      "text/plain": [
       "<matplotlib.image.AxesImage at 0x118456128>"
      ]
     },
     "execution_count": 26,
     "metadata": {},
     "output_type": "execute_result"
    }
   ],
   "source": [
    "print(X_train.shape)\n",
    "plt.imshow(X_train[0].reshape((32, 32)), cmap=plt.cm.gray)"
   ]
  },
  {
   "cell_type": "markdown",
   "metadata": {},
   "source": [
    "In an attempt to raise our recall score, we expanded our data set with an image generator. This will provide us with perturbed versions of our cars and trucks.\n",
    "\n",
    "Using Keras' Image Data Generator, we used the following features to expand our images:\n",
    "<ol>\n",
    "<li>Image rotation: represent cameras pointed towards highways at an angle.</li>\n",
    "<li>Horizontal and vertical shifts: help account for vehicles in different lanes and positions along the highway.</li>\n",
    "<li>Shear: accounts for blurred images of vehicles as they drive at high speeds.</li>\n",
    "<li>Horizontal flips: represents vehicles driving down different directions on the highway</li>\n",
    "</ol>"
   ]
  },
  {
   "cell_type": "code",
   "execution_count": 27,
   "metadata": {},
   "outputs": [
    {
     "name": "stdout",
     "output_type": "stream",
     "text": [
      "CPU times: user 26.7 ms, sys: 27.5 ms, total: 54.2 ms\n",
      "Wall time: 52.5 ms\n"
     ]
    }
   ],
   "source": [
    "%%time \n",
    "\n",
    "datagen = ImageDataGenerator(featurewise_center=False,\n",
    "    samplewise_center=False,\n",
    "    featurewise_std_normalization=False,\n",
    "    samplewise_std_normalization=False,\n",
    "    zca_whitening=False,\n",
    "    rotation_range=25, # used, Int. Degree range for random rotations.\n",
    "    width_shift_range=0.2, # used, Float (fraction of total width). Range for random horizontal shifts.\n",
    "    height_shift_range=0.2, # used,  Float (fraction of total height). Range for random vertical shifts.\n",
    "    shear_range=0.1, # Float. Shear Intensity (Shear angle in counter-clockwise direction as radians)\n",
    "    zoom_range=0.,\n",
    "    channel_shift_range=0.,\n",
    "    fill_mode='nearest',\n",
    "    cval=0.,\n",
    "    horizontal_flip=False,\n",
    "    vertical_flip=False,\n",
    "    rescale=None,\n",
    "    data_format=\"channels_first\")\n",
    "\n",
    "datagen.fit(X_train)"
   ]
  },
  {
   "cell_type": "code",
   "execution_count": 28,
   "metadata": {},
   "outputs": [
    {
     "data": {
      "text/plain": [
       "(9000, 1, 32, 32)"
      ]
     },
     "execution_count": 28,
     "metadata": {},
     "output_type": "execute_result"
    }
   ],
   "source": [
    "X_train.shape"
   ]
  },
  {
   "cell_type": "markdown",
   "metadata": {},
   "source": [
    "We rewrote our second network architecture to work with this reshaped data:"
   ]
  },
  {
   "cell_type": "code",
   "execution_count": 29,
   "metadata": {},
   "outputs": [
    {
     "name": "stdout",
     "output_type": "stream",
     "text": [
      "[[750 375]\n",
      " [287 838]] => 0.744888888889\n",
      "[[716 409]\n",
      " [208 917]] => 0.815111111111\n",
      "[[945 180]\n",
      " [545 580]] => 0.515555555556\n",
      "[[901 224]\n",
      " [466 659]] => 0.585777777778\n"
     ]
    }
   ],
   "source": [
    "class_weight = {\n",
    "    1: 4,\n",
    "    0: 1\n",
    "}\n",
    "\n",
    "def build_cnn2_exp():\n",
    "    cnn2 = Sequential()\n",
    "\n",
    "    num_filters_layers = [32,32,64,128]\n",
    "    for num_filters in num_filters_layers:    \n",
    "        cnn2.add(Conv2D(filters=num_filters, kernel_size= (3, 3), padding='same', input_shape=(1,32,32)))\n",
    "        cnn2.add(Activation('relu'))\n",
    "        cnn2.add(MaxPooling2D(pool_size=(2, 2), data_format=\"channels_first\"))\n",
    "\n",
    "    cnn2.add(Flatten())\n",
    "    cnn2.add(Dense(64))\n",
    "    cnn2.add(Activation('relu'))\n",
    "    cnn2.add(Dense(NUM_CLASSES))\n",
    "    cnn2.add(Activation('softmax'))\n",
    "\n",
    "    cnn2.compile(loss='mean_squared_error',\n",
    "                  optimizer='rmsprop',\n",
    "                  metrics=['accuracy'])\n",
    "    return cnn2\n",
    "\n",
    "scores = []\n",
    "kfold = StratifiedKFold(n_splits=4, shuffle=True, random_state=64)\n",
    "for train_idx, test_idx in kfold.split(X_train, y_train):\n",
    "    # build train and test samples from crossed cols and feature cols\n",
    "    X_train_temp = X_train[train_idx]\n",
    "    y_train_temp = to_categorical(y_train[train_idx], NUM_CLASSES)\n",
    "    X_test_temp = X_train[test_idx]\n",
    "    y_test_temp = to_categorical(y_train[test_idx], NUM_CLASSES)\n",
    "\n",
    "    cnn2 = build_cnn2_exp()\n",
    "    \n",
    "    # fit on train and predict on test\n",
    "    cnn2.fit(X_train_temp, y_train_temp, epochs=4, batch_size=32, verbose=0)\n",
    "    pred = np.argmax(cnn2.predict(X_test_temp), axis=1)\n",
    "    \n",
    "    # take cost\n",
    "    s = mt.recall_score(y_train[test_idx], pred)\n",
    "    scores.append(s)\n",
    "    \n",
    "    # print confusion matrix\n",
    "    print(mt.confusion_matrix(y_train[test_idx],pred), \"=>\", s)"
   ]
  },
  {
   "cell_type": "code",
   "execution_count": 30,
   "metadata": {},
   "outputs": [
    {
     "name": "stdout",
     "output_type": "stream",
     "text": [
      "(9000, 1, 32, 32)\n",
      "(1000, 1, 32, 32)\n",
      "(9000, 10)\n",
      "(1000, 10)\n"
     ]
    }
   ],
   "source": [
    "print(X_train.shape)\n",
    "print(X_test.shape)\n",
    "print(y_train_ohe.shape)\n",
    "print(y_test_ohe.shape)\n"
   ]
  },
  {
   "cell_type": "code",
   "execution_count": 31,
   "metadata": {},
   "outputs": [
    {
     "name": "stdout",
     "output_type": "stream",
     "text": [
      "Epoch 1/4\n",
      "281/281 [==============================] - 4s - loss: 0.0405 - acc: 0.6864 - val_loss: 0.0385 - val_acc: 0.7030\n",
      "Epoch 2/4\n",
      "281/281 [==============================] - 4s - loss: 0.0390 - acc: 0.6972 - val_loss: 0.0368 - val_acc: 0.7230\n",
      "Epoch 3/4\n",
      "281/281 [==============================] - 4s - loss: 0.0389 - acc: 0.7028 - val_loss: 0.0357 - val_acc: 0.7350\n",
      "Epoch 4/4\n",
      "281/281 [==============================] - 4s - loss: 0.0377 - acc: 0.7112 - val_loss: 0.0357 - val_acc: 0.7320\n"
     ]
    },
    {
     "data": {
      "text/plain": [
       "<keras.callbacks.History at 0x11a41a978>"
      ]
     },
     "execution_count": 31,
     "metadata": {},
     "output_type": "execute_result"
    }
   ],
   "source": [
    "cnn2.fit_generator(datagen.flow(X_train, y_train_ohe, batch_size=32), \n",
    "                   steps_per_epoch=int(len(X_train)/32), # how many generators to go through per epoch\n",
    "                   epochs=4, verbose=1,\n",
    "                   validation_data=(X_test,y_test_ohe)\n",
    "                  )"
   ]
  },
  {
   "cell_type": "code",
   "execution_count": 40,
   "metadata": {
    "collapsed": true
   },
   "outputs": [],
   "source": [
    "import seaborn as sns\n",
    "def compare_mlp_cnn(cnn, mlp, X_test, y_test):\n",
    "    plt.figure(figsize=(15,5))\n",
    "    if cnn2 is not None:\n",
    "        yhat_cnn = np.argmax(cnn2.predict(X_test), axis=1)\n",
    "        acc_cnn = mt.recall_score(y_test,yhat_cnn)\n",
    "        plt.subplot(1,2,1)\n",
    "        cm = mt.confusion_matrix(y_test,yhat_cnn)\n",
    "        cm = cm/np.sum(cm,axis=1)[:,np.newaxis]\n",
    "        sns.heatmap(cm, annot=True, fmt='.2f')\n",
    "        plt.title('CNN: '+str(acc_cnn))\n",
    "    \n",
    "    if mlp is not None:\n",
    "        yhat_mlp = mlp.predict(X_test)\n",
    "        acc_mlp = mt.recall_score(y_test,yhat_mlp)\n",
    "        plt.subplot(1,2,2)\n",
    "        cm = mt.confusion_matrix(y_test,yhat_mlp)\n",
    "        cm = cm/np.sum(cm,axis=1)[:,np.newaxis]\n",
    "        sns.heatmap(cm,annot=True, fmt='.2f')\n",
    "        plt.title('MLP: '+str(acc_mlp))"
   ]
  },
  {
   "cell_type": "code",
   "execution_count": 41,
   "metadata": {},
   "outputs": [
    {
     "data": {
      "image/png": "[encoded data removed]",
      "text/plain": [
       "<matplotlib.figure.Figure at 0x119e70518>"
      ]
     },
     "metadata": {},
     "output_type": "display_data"
    }
   ],
   "source": [
    "compare_mlp_cnn(cnn2, None, X_test, y_test)"
   ]
  },
  {
   "cell_type": "markdown",
   "metadata": {},
   "source": [
    "The expanded data set of perturbed images presents what we think is a more realiztic representation of cars and trucks on a highway. Although the recal score dropped, it "
   ]
  },
  {
   "cell_type": "markdown",
   "metadata": {},
   "source": [
    "## References\n",
    "Alex Krizhevsky, 2009: <a href=\"http://www.cs.toronto.edu/~kriz/learning-features-2009-TR.pdf\">Learning Multiple Layers of Features from Tiny Images</a>\n",
    "\n",
    "Face the Facts USA, 2013: <a href=\"https://www.facethefactsusa.org/facts/get-numbers-truck\">Get the numbers of that truck</a>"
   ]
  }
 ],
 "metadata": {
  "kernelspec": {
   "display_name": "Python [conda env:MachineLearning]",
   "language": "python",
   "name": "conda-env-MachineLearning-py"
  },
  "language_info": {
   "codemirror_mode": {
    "name": "ipython",
    "version": 3
   },
   "file_extension": ".py",
   "mimetype": "text/x-python",
   "name": "python",
   "nbconvert_exporter": "python",
   "pygments_lexer": "ipython3",
   "version": "3.6.2"
  }
 },
 "nbformat": 4,
 "nbformat_minor": 2
}
