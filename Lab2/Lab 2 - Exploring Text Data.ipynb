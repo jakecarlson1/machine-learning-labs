{
 "cells": [
  {
   "cell_type": "markdown",
   "metadata": {},
   "source": [
    "# Lab 2 - Exploring Text Data\n",
    "\n",
    "### Eric Smith and Jake Carlson\n",
    "\n",
    "## Introduction\n",
    "For this lab we will be examining questions and answers on the popular programming Q&A website, Stack Overflow. Stack Overflow allows programmers who are stuck on a problem ask the community about ways to resolve or circumvent said problem. This helps people write more accurate code faster. However, the community can be pretty hard on those who do not fully understand their question or are disrespectful. It could also be the case that the few developers who have experience with a problem similar to yours are not on the website when you post your question. If too much time passes, your post may be burried forever. This makes for some interesing questions. When should you make your post so that it has the highest chance of being answered? Are there specific keywords or phasing that encourage other programmers to answer your questions? Are there specific languages that have their questions answered faster than others? These are questions we will be exploring int his lab.\n",
    "\n",
    "## Business Understanding\n",
    "\n",
    "### Motivations\n",
    "Stack Overflow is a go-to resource for developers. Questions are often distilled down to a single block of code that is easily digestible, and can be matched to the question you came to the site for. However, if you're truly stuck on something, it can seem like an eternity of waiting before someone responds to your question, and sometimes, it may not be answered at all. If you're working in industry and spending a lot of time waiting for a question to be answered, you could fall behind schedule and miss deadlines. These delays could cost your company a great deal in lost revenue and tech debt. Therefore, accurately predicting the amount of time to get a question answered can be seen as a valuable project management tool.\n",
    "\n",
    "### Objectives\n",
    "It would be useful if you could predict how quickly your question will be answered if you post it at various times through out the day. For a prediction tool like this to be useful, we want something that is 80-95% accurate in predicting when a question will be answered by. As a project manager, you want your developers to be asking questions that are concise and respectful. Therefore, a tool that could recommend keywords to add to your post to make it more attractive, and provide you with approximate gains in time for reformatting, would also be a valuable project management tool.\n",
    "\n",
    "## Data Understanding\n",
    "\n",
    "### Data Attributes\n",
    "The following is a list of attributes in the data, their data types, and a brief description of the attribute.\n",
    "\n",
    "#### Questions\n",
    "- **Id** (nominal): A unique identifier for each question\n",
    "- **OwnerUserId** (nominal): A unique identifier for the person who posted the question\n",
    "- **CreationDate** (ordinal): A timestamp of when the question was posted\n",
    "- **ClosedDare** (ordinal): A timestamp of when the question was closed, if the question wasn't closed this field is NaN\n",
    "- **Score** (ordinal): ratio?? The number of upvotes a post has\n",
    "- **Title** (text): A title for the question\n",
    "- **Body** (text): The question body\n",
    "\n",
    "#### Answers\n",
    "- **Id** (nominal): A unique identifier for each answer\n",
    "- **OwnerUserId** (nominal): A unique identifier for the person who posted the answer\n",
    "- **CreationDate** (ordinal): A timestamp of when the answer was posted\n",
    "- **ParentId** (nominal): The unique identifier of the question this answer is for\n",
    "- **Score** (ordinal): ratio?? The number of upvotes an answer has\n",
    "- **Body** (text): The answer body\n",
    "\n",
    "#### Tags\n",
    "- **Id** (nominal): The *Id* of the question the tag is associated with\n",
    "- **Tag** (nominal): The tag a question has been assigned\n",
    "\n",
    "## Data Quality\n",
    "Our data it too big, so we will take a rendom subsample of 40% of the original data set."
   ]
  },
  {
   "cell_type": "code",
   "execution_count": 92,
   "metadata": {
    "collapsed": true
   },
   "outputs": [],
   "source": [
    "import numpy as np\n",
    "import pandas as pd"
   ]
  },
  {
   "cell_type": "code",
   "execution_count": 93,
   "metadata": {
    "collapsed": true
   },
   "outputs": [],
   "source": [
    "# read data\n",
    "df = pd.read_csv('./data/Questions.csv', encoding='ISO-8859-1')"
   ]
  },
  {
   "cell_type": "code",
   "execution_count": 94,
   "metadata": {},
   "outputs": [
    {
     "data": {
      "text/html": [
       "<div>\n",
       "<style>\n",
       "    .dataframe thead tr:only-child th {\n",
       "        text-align: right;\n",
       "    }\n",
       "\n",
       "    .dataframe thead th {\n",
       "        text-align: left;\n",
       "    }\n",
       "\n",
       "    .dataframe tbody tr th {\n",
       "        vertical-align: top;\n",
       "    }\n",
       "</style>\n",
       "<table border=\"1\" class=\"dataframe\">\n",
       "  <thead>\n",
       "    <tr style=\"text-align: right;\">\n",
       "      <th></th>\n",
       "      <th>Id</th>\n",
       "      <th>OwnerUserId</th>\n",
       "      <th>CreationDate</th>\n",
       "      <th>ClosedDate</th>\n",
       "      <th>Score</th>\n",
       "      <th>Title</th>\n",
       "      <th>Body</th>\n",
       "    </tr>\n",
       "  </thead>\n",
       "  <tbody>\n",
       "    <tr>\n",
       "      <th>0</th>\n",
       "      <td>80</td>\n",
       "      <td>26.0</td>\n",
       "      <td>2008-08-01T13:57:07Z</td>\n",
       "      <td>NaN</td>\n",
       "      <td>26</td>\n",
       "      <td>SQLStatement.execute() - multiple queries in o...</td>\n",
       "      <td>&lt;p&gt;I've written a database generation script i...</td>\n",
       "    </tr>\n",
       "    <tr>\n",
       "      <th>1</th>\n",
       "      <td>90</td>\n",
       "      <td>58.0</td>\n",
       "      <td>2008-08-01T14:41:24Z</td>\n",
       "      <td>2012-12-26T03:45:49Z</td>\n",
       "      <td>144</td>\n",
       "      <td>Good branching and merging tutorials for Torto...</td>\n",
       "      <td>&lt;p&gt;Are there any really good tutorials explain...</td>\n",
       "    </tr>\n",
       "    <tr>\n",
       "      <th>2</th>\n",
       "      <td>120</td>\n",
       "      <td>83.0</td>\n",
       "      <td>2008-08-01T15:50:08Z</td>\n",
       "      <td>NaN</td>\n",
       "      <td>21</td>\n",
       "      <td>ASP.NET Site Maps</td>\n",
       "      <td>&lt;p&gt;Has anyone got experience creating &lt;strong&gt;...</td>\n",
       "    </tr>\n",
       "    <tr>\n",
       "      <th>3</th>\n",
       "      <td>180</td>\n",
       "      <td>2089740.0</td>\n",
       "      <td>2008-08-01T18:42:19Z</td>\n",
       "      <td>NaN</td>\n",
       "      <td>53</td>\n",
       "      <td>Function for creating color wheels</td>\n",
       "      <td>&lt;p&gt;This is something I've pseudo-solved many t...</td>\n",
       "    </tr>\n",
       "    <tr>\n",
       "      <th>4</th>\n",
       "      <td>260</td>\n",
       "      <td>91.0</td>\n",
       "      <td>2008-08-01T23:22:08Z</td>\n",
       "      <td>NaN</td>\n",
       "      <td>49</td>\n",
       "      <td>Adding scripting functionality to .NET applica...</td>\n",
       "      <td>&lt;p&gt;I have a little game written in C#. It uses...</td>\n",
       "    </tr>\n",
       "  </tbody>\n",
       "</table>\n",
       "</div>"
      ],
      "text/plain": [
       "    Id  OwnerUserId          CreationDate            ClosedDate  Score  \\\n",
       "0   80         26.0  2008-08-01T13:57:07Z                   NaN     26   \n",
       "1   90         58.0  2008-08-01T14:41:24Z  2012-12-26T03:45:49Z    144   \n",
       "2  120         83.0  2008-08-01T15:50:08Z                   NaN     21   \n",
       "3  180    2089740.0  2008-08-01T18:42:19Z                   NaN     53   \n",
       "4  260         91.0  2008-08-01T23:22:08Z                   NaN     49   \n",
       "\n",
       "                                               Title  \\\n",
       "0  SQLStatement.execute() - multiple queries in o...   \n",
       "1  Good branching and merging tutorials for Torto...   \n",
       "2                                  ASP.NET Site Maps   \n",
       "3                 Function for creating color wheels   \n",
       "4  Adding scripting functionality to .NET applica...   \n",
       "\n",
       "                                                Body  \n",
       "0  <p>I've written a database generation script i...  \n",
       "1  <p>Are there any really good tutorials explain...  \n",
       "2  <p>Has anyone got experience creating <strong>...  \n",
       "3  <p>This is something I've pseudo-solved many t...  \n",
       "4  <p>I have a little game written in C#. It uses...  "
      ]
     },
     "execution_count": 94,
     "metadata": {},
     "output_type": "execute_result"
    }
   ],
   "source": [
    "df.head()"
   ]
  },
  {
   "cell_type": "code",
   "execution_count": 95,
   "metadata": {},
   "outputs": [
    {
     "name": "stdout",
     "output_type": "stream",
     "text": [
      "<class 'pandas.core.frame.DataFrame'>\n",
      "RangeIndex: 1264216 entries, 0 to 1264215\n",
      "Data columns (total 7 columns):\n",
      "Id              1264216 non-null int64\n",
      "OwnerUserId     1249762 non-null float64\n",
      "CreationDate    1264216 non-null object\n",
      "ClosedDate      55959 non-null object\n",
      "Score           1264216 non-null int64\n",
      "Title           1264216 non-null object\n",
      "Body            1264216 non-null object\n",
      "dtypes: float64(1), int64(2), object(4)\n",
      "memory usage: 67.5+ MB\n"
     ]
    }
   ],
   "source": [
    "df.info()"
   ]
  },
  {
   "cell_type": "markdown",
   "metadata": {},
   "source": [
    "Trial and error has shown us that 1,264,000 elements is too many to work with. Therefore, we will use a random sample to reduce our data set size to 12,000 elements."
   ]
  },
  {
   "cell_type": "code",
   "execution_count": 96,
   "metadata": {},
   "outputs": [
    {
     "name": "stdout",
     "output_type": "stream",
     "text": [
      "<class 'pandas.core.frame.DataFrame'>\n",
      "Int64Index: 12000 entries, 929155 to 177173\n",
      "Data columns (total 7 columns):\n",
      "Id              12000 non-null int64\n",
      "OwnerUserId     11843 non-null float64\n",
      "CreationDate    12000 non-null object\n",
      "ClosedDate      564 non-null object\n",
      "Score           12000 non-null int64\n",
      "Title           12000 non-null object\n",
      "Body            12000 non-null object\n",
      "dtypes: float64(1), int64(2), object(4)\n",
      "memory usage: 750.0+ KB\n"
     ]
    }
   ],
   "source": [
    "df = df.sample(n=12000, replace=True)\n",
    "df.info()"
   ]
  },
  {
   "cell_type": "markdown",
   "metadata": {},
   "source": [
    "The body of each question is formatted in HTML, so we will need to parse through each body and remove the HTML tags. We also need to replace HTML entities with their character representations. Finally, many questions have accompanying code blocks, so we will parse out the code blocks into a new attribute for each entry."
   ]
  },
  {
   "cell_type": "code",
   "execution_count": 97,
   "metadata": {},
   "outputs": [
    {
     "data": {
      "text/html": [
       "<div>\n",
       "<style>\n",
       "    .dataframe thead tr:only-child th {\n",
       "        text-align: right;\n",
       "    }\n",
       "\n",
       "    .dataframe thead th {\n",
       "        text-align: left;\n",
       "    }\n",
       "\n",
       "    .dataframe tbody tr th {\n",
       "        vertical-align: top;\n",
       "    }\n",
       "</style>\n",
       "<table border=\"1\" class=\"dataframe\">\n",
       "  <thead>\n",
       "    <tr style=\"text-align: right;\">\n",
       "      <th></th>\n",
       "      <th>Id</th>\n",
       "      <th>OwnerUserId</th>\n",
       "      <th>CreationDate</th>\n",
       "      <th>ClosedDate</th>\n",
       "      <th>Score</th>\n",
       "      <th>Title</th>\n",
       "      <th>Body</th>\n",
       "      <th>Code</th>\n",
       "    </tr>\n",
       "  </thead>\n",
       "  <tbody>\n",
       "    <tr>\n",
       "      <th>929155</th>\n",
       "      <td>30970580</td>\n",
       "      <td>1551974.0</td>\n",
       "      <td>2015-06-22T00:10:40Z</td>\n",
       "      <td>NaN</td>\n",
       "      <td>0</td>\n",
       "      <td>Left click not working on notifyicon with cont...</td>\n",
       "      <td>I have a tray application and I would like to ...</td>\n",
       "      <td>private void notifyIcon1_MouseClick(object...</td>\n",
       "    </tr>\n",
       "    <tr>\n",
       "      <th>70165</th>\n",
       "      <td>3124480</td>\n",
       "      <td>200567.0</td>\n",
       "      <td>2010-06-26T15:56:43Z</td>\n",
       "      <td>NaN</td>\n",
       "      <td>1</td>\n",
       "      <td>How to have a UIView appear from the middle of...</td>\n",
       "      <td>I looked at Apple's UIModalTransitionStyle, bu...</td>\n",
       "      <td></td>\n",
       "    </tr>\n",
       "    <tr>\n",
       "      <th>942803</th>\n",
       "      <td>31381300</td>\n",
       "      <td>4810042.0</td>\n",
       "      <td>2015-07-13T10:46:01Z</td>\n",
       "      <td>NaN</td>\n",
       "      <td>-2</td>\n",
       "      <td>How to iterate foreach loop for a particular a...</td>\n",
       "      <td>I'm having two different for-each loop as belo...</td>\n",
       "      <td>&lt;div id=\"filterarea\" data-bind=\"foreach: { da...</td>\n",
       "    </tr>\n",
       "    <tr>\n",
       "      <th>562743</th>\n",
       "      <td>19463330</td>\n",
       "      <td>1102566.0</td>\n",
       "      <td>2013-10-19T06:54:14Z</td>\n",
       "      <td>NaN</td>\n",
       "      <td>4</td>\n",
       "      <td>Using Reactive cocoa to observe UITouches?</td>\n",
       "      <td>Im fairly new to reactive cocoa and im trying ...</td>\n",
       "      <td>@interface MyView:UIView{\\n\\n      UITouch *...</td>\n",
       "    </tr>\n",
       "    <tr>\n",
       "      <th>769139</th>\n",
       "      <td>26028280</td>\n",
       "      <td>3267279.0</td>\n",
       "      <td>2014-09-24T23:44:32Z</td>\n",
       "      <td>NaN</td>\n",
       "      <td>2</td>\n",
       "      <td>Not understanding seg faults when I'm using po...</td>\n",
       "      <td>I keep getting seg faults and I can't for the ...</td>\n",
       "      <td>int main()\\n{\\n    int i1, i2;\\n    struct int...</td>\n",
       "    </tr>\n",
       "  </tbody>\n",
       "</table>\n",
       "</div>"
      ],
      "text/plain": [
       "              Id  OwnerUserId          CreationDate ClosedDate  Score  \\\n",
       "929155  30970580    1551974.0  2015-06-22T00:10:40Z        NaN      0   \n",
       "70165    3124480     200567.0  2010-06-26T15:56:43Z        NaN      1   \n",
       "942803  31381300    4810042.0  2015-07-13T10:46:01Z        NaN     -2   \n",
       "562743  19463330    1102566.0  2013-10-19T06:54:14Z        NaN      4   \n",
       "769139  26028280    3267279.0  2014-09-24T23:44:32Z        NaN      2   \n",
       "\n",
       "                                                    Title  \\\n",
       "929155  Left click not working on notifyicon with cont...   \n",
       "70165   How to have a UIView appear from the middle of...   \n",
       "942803  How to iterate foreach loop for a particular a...   \n",
       "562743         Using Reactive cocoa to observe UITouches?   \n",
       "769139  Not understanding seg faults when I'm using po...   \n",
       "\n",
       "                                                     Body  \\\n",
       "929155  I have a tray application and I would like to ...   \n",
       "70165   I looked at Apple's UIModalTransitionStyle, bu...   \n",
       "942803  I'm having two different for-each loop as belo...   \n",
       "562743  Im fairly new to reactive cocoa and im trying ...   \n",
       "769139  I keep getting seg faults and I can't for the ...   \n",
       "\n",
       "                                                     Code  \n",
       "929155      private void notifyIcon1_MouseClick(object...  \n",
       "70165                                                      \n",
       "942803   <div id=\"filterarea\" data-bind=\"foreach: { da...  \n",
       "562743    @interface MyView:UIView{\\n\\n      UITouch *...  \n",
       "769139  int main()\\n{\\n    int i1, i2;\\n    struct int...  "
      ]
     },
     "execution_count": 97,
     "metadata": {},
     "output_type": "execute_result"
    }
   ],
   "source": [
    "from bs4 import BeautifulSoup\n",
    "import html\n",
    "import re\n",
    "\n",
    "# compile regexes\n",
    "tag_re = re.compile('<[^<]+?>')\n",
    "newline_re = re.compile('\\n+')\n",
    "\n",
    "def clean_html(body_text):\n",
    "    soup = BeautifulSoup(body_text, 'html.parser')\n",
    "    code_tags = soup.findAll('code')\n",
    "    code_text = \"\"\n",
    "    \n",
    "    # unescape html entities\n",
    "    body_text = html.unescape(body_text)\n",
    "    \n",
    "    # remove code blocks, saving blocks to new string\n",
    "    for c in code_tags:\n",
    "        body_text = body_text.replace(\"<code>{}</code>\".format(c.string),\n",
    "                                      '')\n",
    "        if c.string:\n",
    "            code_text += c.string\n",
    "\n",
    "    # remove remaining tags and multiple newlines\n",
    "    body_text = tag_re.sub('', body_text)\n",
    "    body_text = newline_re.sub('\\n', body_text)\n",
    "    \n",
    "    return body_text, code_text\n",
    "\n",
    "as_list = df.Body.tolist()\n",
    "body_list = []\n",
    "code_list = []\n",
    "for i in range(len(as_list)):\n",
    "    body_text, code_text = clean_html(as_list[i])\n",
    "    body_list.append(body_text)\n",
    "    code_list.append(code_text)\n",
    "\n",
    "# update body column\n",
    "df = df.assign(Body=body_list)\n",
    "# add code column\n",
    "df = df.assign(Code=code_list)\n",
    "df.head()"
   ]
  },
  {
   "cell_type": "markdown",
   "metadata": {},
   "source": [
    "With the HTML tags removed and the code isolated, the question body is much cleaner. Now lets add another column for the time in minutes it took to get the question answered. For this value, we will look for the highest rated answer for each question and use the time when that answer was posted."
   ]
  },
  {
   "cell_type": "code",
   "execution_count": 98,
   "metadata": {},
   "outputs": [
    {
     "data": {
      "text/html": [
       "<div>\n",
       "<style>\n",
       "    .dataframe thead tr:only-child th {\n",
       "        text-align: right;\n",
       "    }\n",
       "\n",
       "    .dataframe thead th {\n",
       "        text-align: left;\n",
       "    }\n",
       "\n",
       "    .dataframe tbody tr th {\n",
       "        vertical-align: top;\n",
       "    }\n",
       "</style>\n",
       "<table border=\"1\" class=\"dataframe\">\n",
       "  <thead>\n",
       "    <tr style=\"text-align: right;\">\n",
       "      <th></th>\n",
       "      <th>Id</th>\n",
       "      <th>OwnerUserId</th>\n",
       "      <th>CreationDate</th>\n",
       "      <th>ParentId</th>\n",
       "      <th>Score</th>\n",
       "      <th>Body</th>\n",
       "    </tr>\n",
       "  </thead>\n",
       "  <tbody>\n",
       "    <tr>\n",
       "      <th>0</th>\n",
       "      <td>92</td>\n",
       "      <td>61.0</td>\n",
       "      <td>2008-08-01T14:45:37Z</td>\n",
       "      <td>90</td>\n",
       "      <td>13</td>\n",
       "      <td>&lt;p&gt;&lt;a href=\"http://svnbook.red-bean.com/\"&gt;Vers...</td>\n",
       "    </tr>\n",
       "    <tr>\n",
       "      <th>1</th>\n",
       "      <td>124</td>\n",
       "      <td>26.0</td>\n",
       "      <td>2008-08-01T16:09:47Z</td>\n",
       "      <td>80</td>\n",
       "      <td>12</td>\n",
       "      <td>&lt;p&gt;I wound up using this. It is a kind of a ha...</td>\n",
       "    </tr>\n",
       "    <tr>\n",
       "      <th>2</th>\n",
       "      <td>199</td>\n",
       "      <td>50.0</td>\n",
       "      <td>2008-08-01T19:36:46Z</td>\n",
       "      <td>180</td>\n",
       "      <td>1</td>\n",
       "      <td>&lt;p&gt;I've read somewhere the human eye can't dis...</td>\n",
       "    </tr>\n",
       "    <tr>\n",
       "      <th>3</th>\n",
       "      <td>269</td>\n",
       "      <td>91.0</td>\n",
       "      <td>2008-08-01T23:49:57Z</td>\n",
       "      <td>260</td>\n",
       "      <td>4</td>\n",
       "      <td>&lt;p&gt;Yes, I thought about that, but I soon figur...</td>\n",
       "    </tr>\n",
       "    <tr>\n",
       "      <th>4</th>\n",
       "      <td>307</td>\n",
       "      <td>49.0</td>\n",
       "      <td>2008-08-02T01:49:46Z</td>\n",
       "      <td>260</td>\n",
       "      <td>28</td>\n",
       "      <td>&lt;p&gt;&lt;a href=\"http://www.codeproject.com/Article...</td>\n",
       "    </tr>\n",
       "  </tbody>\n",
       "</table>\n",
       "</div>"
      ],
      "text/plain": [
       "    Id  OwnerUserId          CreationDate  ParentId  Score  \\\n",
       "0   92         61.0  2008-08-01T14:45:37Z        90     13   \n",
       "1  124         26.0  2008-08-01T16:09:47Z        80     12   \n",
       "2  199         50.0  2008-08-01T19:36:46Z       180      1   \n",
       "3  269         91.0  2008-08-01T23:49:57Z       260      4   \n",
       "4  307         49.0  2008-08-02T01:49:46Z       260     28   \n",
       "\n",
       "                                                Body  \n",
       "0  <p><a href=\"http://svnbook.red-bean.com/\">Vers...  \n",
       "1  <p>I wound up using this. It is a kind of a ha...  \n",
       "2  <p>I've read somewhere the human eye can't dis...  \n",
       "3  <p>Yes, I thought about that, but I soon figur...  \n",
       "4  <p><a href=\"http://www.codeproject.com/Article...  "
      ]
     },
     "execution_count": 98,
     "metadata": {},
     "output_type": "execute_result"
    }
   ],
   "source": [
    "df_ans = pd.read_csv('./data/Answers.csv', encoding='ISO-8859-1')\n",
    "df_ans.head()"
   ]
  },
  {
   "cell_type": "code",
   "execution_count": 99,
   "metadata": {},
   "outputs": [
    {
     "name": "stdout",
     "output_type": "stream",
     "text": [
      "<class 'pandas.core.frame.DataFrame'>\n",
      "RangeIndex: 2014516 entries, 0 to 2014515\n",
      "Data columns (total 6 columns):\n",
      "Id              int64\n",
      "OwnerUserId     float64\n",
      "CreationDate    object\n",
      "ParentId        int64\n",
      "Score           int64\n",
      "Body            object\n",
      "dtypes: float64(1), int64(3), object(2)\n",
      "memory usage: 92.2+ MB\n"
     ]
    }
   ],
   "source": [
    "df_ans.info()"
   ]
  },
  {
   "cell_type": "code",
   "execution_count": 100,
   "metadata": {},
   "outputs": [
    {
     "name": "stdout",
     "output_type": "stream",
     "text": [
      "<class 'pandas.core.frame.DataFrame'>\n",
      "Int64Index: 19157 entries, 83 to 2014494\n",
      "Data columns (total 6 columns):\n",
      "Id              19157 non-null int64\n",
      "OwnerUserId     19035 non-null float64\n",
      "CreationDate    19157 non-null object\n",
      "ParentId        19157 non-null int64\n",
      "Score           19157 non-null int64\n",
      "Body            19157 non-null object\n",
      "dtypes: float64(1), int64(3), object(2)\n",
      "memory usage: 1.0+ MB\n"
     ]
    }
   ],
   "source": [
    "ids = df.Id.unique()\n",
    "df_ans = df_ans[df_ans.ParentId.isin(ids)]\n",
    "df_ans.info()"
   ]
  },
  {
   "cell_type": "markdown",
   "metadata": {},
   "source": [
    "We will clean the answers data frame using the same function as the questions data frame."
   ]
  },
  {
   "cell_type": "code",
   "execution_count": 101,
   "metadata": {},
   "outputs": [
    {
     "data": {
      "text/html": [
       "<div>\n",
       "<style>\n",
       "    .dataframe thead tr:only-child th {\n",
       "        text-align: right;\n",
       "    }\n",
       "\n",
       "    .dataframe thead th {\n",
       "        text-align: left;\n",
       "    }\n",
       "\n",
       "    .dataframe tbody tr th {\n",
       "        vertical-align: top;\n",
       "    }\n",
       "</style>\n",
       "<table border=\"1\" class=\"dataframe\">\n",
       "  <thead>\n",
       "    <tr style=\"text-align: right;\">\n",
       "      <th></th>\n",
       "      <th>Id</th>\n",
       "      <th>OwnerUserId</th>\n",
       "      <th>CreationDate</th>\n",
       "      <th>ParentId</th>\n",
       "      <th>Score</th>\n",
       "      <th>Body</th>\n",
       "      <th>Code</th>\n",
       "    </tr>\n",
       "  </thead>\n",
       "  <tbody>\n",
       "    <tr>\n",
       "      <th>83</th>\n",
       "      <td>2699</td>\n",
       "      <td>36.0</td>\n",
       "      <td>2008-08-05T18:53:44Z</td>\n",
       "      <td>2630</td>\n",
       "      <td>0</td>\n",
       "      <td>While semi-related to your question, it does n...</td>\n",
       "      <td></td>\n",
       "    </tr>\n",
       "    <tr>\n",
       "      <th>160</th>\n",
       "      <td>4692</td>\n",
       "      <td>615.0</td>\n",
       "      <td>2008-08-07T13:11:06Z</td>\n",
       "      <td>2630</td>\n",
       "      <td>2</td>\n",
       "      <td>I wrote a  provider to give me access to 's  f...</td>\n",
       "      <td>PowerShellIE7RSScdPowerShellCodePlex</td>\n",
       "    </tr>\n",
       "    <tr>\n",
       "      <th>184</th>\n",
       "      <td>5498</td>\n",
       "      <td>49.0</td>\n",
       "      <td>2008-08-08T00:02:35Z</td>\n",
       "      <td>2630</td>\n",
       "      <td>8</td>\n",
       "      <td>there's an out-twitter script i use for postin...</td>\n",
       "      <td></td>\n",
       "    </tr>\n",
       "    <tr>\n",
       "      <th>341</th>\n",
       "      <td>10160</td>\n",
       "      <td>1233.0</td>\n",
       "      <td>2008-08-13T18:19:07Z</td>\n",
       "      <td>2630</td>\n",
       "      <td>2</td>\n",
       "      <td>While it is not as fun as Out-Twitter, my favo...</td>\n",
       "      <td></td>\n",
       "    </tr>\n",
       "    <tr>\n",
       "      <th>436</th>\n",
       "      <td>11452</td>\n",
       "      <td>1358.0</td>\n",
       "      <td>2008-08-14T18:20:02Z</td>\n",
       "      <td>2630</td>\n",
       "      <td>1</td>\n",
       "      <td>Well it is a little bland, but I would vote fo...</td>\n",
       "      <td></td>\n",
       "    </tr>\n",
       "  </tbody>\n",
       "</table>\n",
       "</div>"
      ],
      "text/plain": [
       "        Id  OwnerUserId          CreationDate  ParentId  Score  \\\n",
       "83    2699         36.0  2008-08-05T18:53:44Z      2630      0   \n",
       "160   4692        615.0  2008-08-07T13:11:06Z      2630      2   \n",
       "184   5498         49.0  2008-08-08T00:02:35Z      2630      8   \n",
       "341  10160       1233.0  2008-08-13T18:19:07Z      2630      2   \n",
       "436  11452       1358.0  2008-08-14T18:20:02Z      2630      1   \n",
       "\n",
       "                                                  Body  \\\n",
       "83   While semi-related to your question, it does n...   \n",
       "160  I wrote a  provider to give me access to 's  f...   \n",
       "184  there's an out-twitter script i use for postin...   \n",
       "341  While it is not as fun as Out-Twitter, my favo...   \n",
       "436  Well it is a little bland, but I would vote fo...   \n",
       "\n",
       "                                     Code  \n",
       "83                                         \n",
       "160  PowerShellIE7RSScdPowerShellCodePlex  \n",
       "184                                        \n",
       "341                                        \n",
       "436                                        "
      ]
     },
     "execution_count": 101,
     "metadata": {},
     "output_type": "execute_result"
    }
   ],
   "source": [
    "as_list = df_ans.Body.tolist()\n",
    "body_list = []\n",
    "code_list = []\n",
    "for i in range(len(as_list)):\n",
    "    body_text, code_text = clean_html(as_list[i])\n",
    "    body_list.append(body_text)\n",
    "    code_list.append(code_text)\n",
    "\n",
    "# update body column\n",
    "df_ans = df_ans.assign(Body=body_list)\n",
    "# add code column\n",
    "df_ans = df_ans.assign(Code=code_list)\n",
    "df_ans.head()"
   ]
  },
  {
   "cell_type": "code",
   "execution_count": 102,
   "metadata": {
    "scrolled": false
   },
   "outputs": [
    {
     "data": {
      "text/html": [
       "<div>\n",
       "<style>\n",
       "    .dataframe thead tr:only-child th {\n",
       "        text-align: right;\n",
       "    }\n",
       "\n",
       "    .dataframe thead th {\n",
       "        text-align: left;\n",
       "    }\n",
       "\n",
       "    .dataframe tbody tr th {\n",
       "        vertical-align: top;\n",
       "    }\n",
       "</style>\n",
       "<table border=\"1\" class=\"dataframe\">\n",
       "  <thead>\n",
       "    <tr style=\"text-align: right;\">\n",
       "      <th></th>\n",
       "      <th>Id</th>\n",
       "      <th>OwnerUserId</th>\n",
       "      <th>CreationDate</th>\n",
       "      <th>ClosedDate</th>\n",
       "      <th>Score</th>\n",
       "      <th>Title</th>\n",
       "      <th>Body</th>\n",
       "      <th>Code</th>\n",
       "      <th>Duration</th>\n",
       "    </tr>\n",
       "  </thead>\n",
       "  <tbody>\n",
       "    <tr>\n",
       "      <th>929155</th>\n",
       "      <td>30970580</td>\n",
       "      <td>1551974.0</td>\n",
       "      <td>2015-06-22T00:10:40Z</td>\n",
       "      <td>NaN</td>\n",
       "      <td>0</td>\n",
       "      <td>Left click not working on notifyicon with cont...</td>\n",
       "      <td>I have a tray application and I would like to ...</td>\n",
       "      <td>private void notifyIcon1_MouseClick(object...</td>\n",
       "      <td>15.650000</td>\n",
       "    </tr>\n",
       "    <tr>\n",
       "      <th>70165</th>\n",
       "      <td>3124480</td>\n",
       "      <td>200567.0</td>\n",
       "      <td>2010-06-26T15:56:43Z</td>\n",
       "      <td>NaN</td>\n",
       "      <td>1</td>\n",
       "      <td>How to have a UIView appear from the middle of...</td>\n",
       "      <td>I looked at Apple's UIModalTransitionStyle, bu...</td>\n",
       "      <td></td>\n",
       "      <td>328498.916667</td>\n",
       "    </tr>\n",
       "    <tr>\n",
       "      <th>942803</th>\n",
       "      <td>31381300</td>\n",
       "      <td>4810042.0</td>\n",
       "      <td>2015-07-13T10:46:01Z</td>\n",
       "      <td>NaN</td>\n",
       "      <td>-2</td>\n",
       "      <td>How to iterate foreach loop for a particular a...</td>\n",
       "      <td>I'm having two different for-each loop as belo...</td>\n",
       "      <td>&lt;div id=\"filterarea\" data-bind=\"foreach: { da...</td>\n",
       "      <td>43.316667</td>\n",
       "    </tr>\n",
       "    <tr>\n",
       "      <th>562743</th>\n",
       "      <td>19463330</td>\n",
       "      <td>1102566.0</td>\n",
       "      <td>2013-10-19T06:54:14Z</td>\n",
       "      <td>NaN</td>\n",
       "      <td>4</td>\n",
       "      <td>Using Reactive cocoa to observe UITouches?</td>\n",
       "      <td>Im fairly new to reactive cocoa and im trying ...</td>\n",
       "      <td>@interface MyView:UIView{\\n\\n      UITouch *...</td>\n",
       "      <td>3455.700000</td>\n",
       "    </tr>\n",
       "    <tr>\n",
       "      <th>769139</th>\n",
       "      <td>26028280</td>\n",
       "      <td>3267279.0</td>\n",
       "      <td>2014-09-24T23:44:32Z</td>\n",
       "      <td>NaN</td>\n",
       "      <td>2</td>\n",
       "      <td>Not understanding seg faults when I'm using po...</td>\n",
       "      <td>I keep getting seg faults and I can't for the ...</td>\n",
       "      <td>int main()\\n{\\n    int i1, i2;\\n    struct int...</td>\n",
       "      <td>3.566667</td>\n",
       "    </tr>\n",
       "  </tbody>\n",
       "</table>\n",
       "</div>"
      ],
      "text/plain": [
       "              Id  OwnerUserId          CreationDate ClosedDate  Score  \\\n",
       "929155  30970580    1551974.0  2015-06-22T00:10:40Z        NaN      0   \n",
       "70165    3124480     200567.0  2010-06-26T15:56:43Z        NaN      1   \n",
       "942803  31381300    4810042.0  2015-07-13T10:46:01Z        NaN     -2   \n",
       "562743  19463330    1102566.0  2013-10-19T06:54:14Z        NaN      4   \n",
       "769139  26028280    3267279.0  2014-09-24T23:44:32Z        NaN      2   \n",
       "\n",
       "                                                    Title  \\\n",
       "929155  Left click not working on notifyicon with cont...   \n",
       "70165   How to have a UIView appear from the middle of...   \n",
       "942803  How to iterate foreach loop for a particular a...   \n",
       "562743         Using Reactive cocoa to observe UITouches?   \n",
       "769139  Not understanding seg faults when I'm using po...   \n",
       "\n",
       "                                                     Body  \\\n",
       "929155  I have a tray application and I would like to ...   \n",
       "70165   I looked at Apple's UIModalTransitionStyle, bu...   \n",
       "942803  I'm having two different for-each loop as belo...   \n",
       "562743  Im fairly new to reactive cocoa and im trying ...   \n",
       "769139  I keep getting seg faults and I can't for the ...   \n",
       "\n",
       "                                                     Code       Duration  \n",
       "929155      private void notifyIcon1_MouseClick(object...      15.650000  \n",
       "70165                                                      328498.916667  \n",
       "942803   <div id=\"filterarea\" data-bind=\"foreach: { da...      43.316667  \n",
       "562743    @interface MyView:UIView{\\n\\n      UITouch *...    3455.700000  \n",
       "769139  int main()\\n{\\n    int i1, i2;\\n    struct int...       3.566667  "
      ]
     },
     "execution_count": 102,
     "metadata": {},
     "output_type": "execute_result"
    }
   ],
   "source": [
    "# adapted from https://stackoverflow.com/questions/2788871/date-difference-in-minutes-in-python\n",
    "from datetime import datetime\n",
    "import time\n",
    "\n",
    "fmt = '%Y-%m-%dT%H:%M:%SZ'\n",
    "def get_minutes_diff(timestamp1, timestamp2):\n",
    "#     if np.isnan(x.ClosedDate):\n",
    "#         return np.nan\n",
    "    d1 = datetime.strptime(timestamp1, fmt)\n",
    "    d2 = datetime.strptime(timestamp2, fmt)\n",
    "    \n",
    "    # convert to unix timestamp\n",
    "    d1_ts = time.mktime(d1.timetuple())\n",
    "    d2_ts = time.mktime(d2.timetuple())\n",
    "    \n",
    "    # convert to minutes\n",
    "    return int(d2_ts - d1_ts) / 60\n",
    "\n",
    "durations = []\n",
    "for i, row in df.iterrows():\n",
    "    answer = df_ans[ df_ans.ParentId == row.Id ]\n",
    "    answer = answer[ answer.Score == answer.Score.max() ]\n",
    "    answer_time = answer.CreationDate.values\n",
    "    if len(answer_time) > 0:\n",
    "        answer_time = answer_time[0]\n",
    "        dur = get_minutes_diff(row.CreationDate, answer_time)\n",
    "        if dur > -1: \n",
    "            df.loc[i, 'Duration'] = dur\n",
    "\n",
    "df.head()"
   ]
  },
  {
   "cell_type": "markdown",
   "metadata": {},
   "source": [
    "Load the tags and save the tags that correspond to a question."
   ]
  },
  {
   "cell_type": "code",
   "execution_count": 103,
   "metadata": {},
   "outputs": [
    {
     "data": {
      "text/html": [
       "<div>\n",
       "<style>\n",
       "    .dataframe thead tr:only-child th {\n",
       "        text-align: right;\n",
       "    }\n",
       "\n",
       "    .dataframe thead th {\n",
       "        text-align: left;\n",
       "    }\n",
       "\n",
       "    .dataframe tbody tr th {\n",
       "        vertical-align: top;\n",
       "    }\n",
       "</style>\n",
       "<table border=\"1\" class=\"dataframe\">\n",
       "  <thead>\n",
       "    <tr style=\"text-align: right;\">\n",
       "      <th></th>\n",
       "      <th>Id</th>\n",
       "      <th>Tag</th>\n",
       "    </tr>\n",
       "  </thead>\n",
       "  <tbody>\n",
       "    <tr>\n",
       "      <th>0</th>\n",
       "      <td>80</td>\n",
       "      <td>flex</td>\n",
       "    </tr>\n",
       "    <tr>\n",
       "      <th>1</th>\n",
       "      <td>80</td>\n",
       "      <td>actionscript-3</td>\n",
       "    </tr>\n",
       "    <tr>\n",
       "      <th>2</th>\n",
       "      <td>80</td>\n",
       "      <td>air</td>\n",
       "    </tr>\n",
       "    <tr>\n",
       "      <th>3</th>\n",
       "      <td>90</td>\n",
       "      <td>svn</td>\n",
       "    </tr>\n",
       "    <tr>\n",
       "      <th>4</th>\n",
       "      <td>90</td>\n",
       "      <td>tortoisesvn</td>\n",
       "    </tr>\n",
       "  </tbody>\n",
       "</table>\n",
       "</div>"
      ],
      "text/plain": [
       "   Id             Tag\n",
       "0  80            flex\n",
       "1  80  actionscript-3\n",
       "2  80             air\n",
       "3  90             svn\n",
       "4  90     tortoisesvn"
      ]
     },
     "execution_count": 103,
     "metadata": {},
     "output_type": "execute_result"
    }
   ],
   "source": [
    "df_tags = pd.read_csv('./data/Tags.csv', encoding='ISO-8859-1')\n",
    "df_tags.head()"
   ]
  },
  {
   "cell_type": "code",
   "execution_count": 104,
   "metadata": {},
   "outputs": [
    {
     "data": {
      "text/html": [
       "<div>\n",
       "<style>\n",
       "    .dataframe thead tr:only-child th {\n",
       "        text-align: right;\n",
       "    }\n",
       "\n",
       "    .dataframe thead th {\n",
       "        text-align: left;\n",
       "    }\n",
       "\n",
       "    .dataframe tbody tr th {\n",
       "        vertical-align: top;\n",
       "    }\n",
       "</style>\n",
       "<table border=\"1\" class=\"dataframe\">\n",
       "  <thead>\n",
       "    <tr style=\"text-align: right;\">\n",
       "      <th></th>\n",
       "      <th>Id</th>\n",
       "      <th>Tag</th>\n",
       "    </tr>\n",
       "  </thead>\n",
       "  <tbody>\n",
       "    <tr>\n",
       "      <th>88</th>\n",
       "      <td>2630</td>\n",
       "      <td>powershell</td>\n",
       "    </tr>\n",
       "    <tr>\n",
       "      <th>89</th>\n",
       "      <td>2630</td>\n",
       "      <td>cmdlets</td>\n",
       "    </tr>\n",
       "    <tr>\n",
       "      <th>420</th>\n",
       "      <td>14530</td>\n",
       "      <td>linq</td>\n",
       "    </tr>\n",
       "    <tr>\n",
       "      <th>421</th>\n",
       "      <td>14530</td>\n",
       "      <td>linq-to-sql</td>\n",
       "    </tr>\n",
       "    <tr>\n",
       "      <th>422</th>\n",
       "      <td>14530</td>\n",
       "      <td>stored-procedures</td>\n",
       "    </tr>\n",
       "  </tbody>\n",
       "</table>\n",
       "</div>"
      ],
      "text/plain": [
       "        Id                Tag\n",
       "88    2630         powershell\n",
       "89    2630            cmdlets\n",
       "420  14530               linq\n",
       "421  14530        linq-to-sql\n",
       "422  14530  stored-procedures"
      ]
     },
     "execution_count": 104,
     "metadata": {},
     "output_type": "execute_result"
    }
   ],
   "source": [
    "ids = df.Id.unique()\n",
    "df_tags = df_tags[df_tags.Id.isin(ids)]\n",
    "df_tags.head()"
   ]
  },
  {
   "cell_type": "code",
   "execution_count": 105,
   "metadata": {
    "collapsed": true
   },
   "outputs": [],
   "source": [
    "# http://www.labautopedia.org/mw/List_of_programming_and_computer_science_terms\n",
    "topics = pd.read_csv('./data/CS_terms.csv', encoding='ISO-8859-1')\n",
    "list_topics = [x.upper() for x in topics.Term.tolist()]"
   ]
  },
  {
   "cell_type": "markdown",
   "metadata": {},
   "source": [
    "Save the cleaned data to a persistance file."
   ]
  },
  {
   "cell_type": "markdown",
   "metadata": {},
   "source": [
    "## Data Visualization"
   ]
  },
  {
   "cell_type": "code",
   "execution_count": null,
   "metadata": {
    "collapsed": true
   },
   "outputs": [],
   "source": [
    "df.to_csv('./clean-data/Questions.csv', sep=',')\n",
    "df_ans.to_csv('./clean-data/Answers.csv', sep=',')\n",
    "df_tags.to_csv('./clean-data/Tags.csv', sep=',')"
   ]
  },
  {
   "cell_type": "code",
   "execution_count": null,
   "metadata": {
    "collapsed": true
   },
   "outputs": [],
   "source": [
    "# tf-idf for most common words that appear in the body\n",
    "\n",
    "import re\n",
    "from sklearn.feature_extraction.text import TfidfVectorizer\n",
    "tfidf_vect = TfidfVectorizer(encoding='ISO-8859-1') \n",
    "\n",
    "tfidf_mat = tfidf_vect.fit_transform( df.Body.tolist() )\n",
    "\n",
    "tfidf_mat = pd.DataFrame(data=tfidf_mat.toarray(),columns=tfidf_vect.get_feature_names())\n",
    "\n",
    "common_words = tfidf_mat[ [col for col in tfidf_mat.columns if col.upper() in list_topics] ]\n",
    "most_common_words = common_words.max().sort_values()[-10:]"
   ]
  },
  {
   "cell_type": "code",
   "execution_count": null,
   "metadata": {},
   "outputs": [],
   "source": [
    "most_common_words.plot(kind='barh', fontsize=12, figsize=(8,6))\n",
    "plt.xlabel('Percentage of Occurances', fontsize=14)\n",
    "plt.title('TF-IDF: Most Common Words', fontsize=18)\n",
    "plt.legend([])\n",
    "plt.show()"
   ]
  },
  {
   "cell_type": "code",
   "execution_count": null,
   "metadata": {
    "collapsed": true
   },
   "outputs": [],
   "source": [
    "df = pd.read_csv('./clean-data/Questions.csv')\n",
    "df_ans = pd.read_csv('./clean-data/Answers.csv')\n",
    "df_tags = pd.read_csv('./clean-data/Tags.csv')"
   ]
  },
  {
   "cell_type": "code",
   "execution_count": null,
   "metadata": {},
   "outputs": [],
   "source": [
    "df_tags.info()"
   ]
  },
  {
   "cell_type": "code",
   "execution_count": null,
   "metadata": {},
   "outputs": [],
   "source": [
    "import matplotlib.pyplot as plt\n",
    "from collections import Counter\n",
    "\n",
    "tag_counts = Counter(df_tags.Tag)\n",
    "\n",
    "# remove tags that have less than 175 occurances\n",
    "for t in list(tag_counts):\n",
    "    if tag_counts[t] < 175:\n",
    "        del tag_counts[t]\n",
    "\n",
    "df_tag_counts = pd.DataFrame.from_dict(tag_counts, orient='index')\n",
    "df_tag_counts.plot(kind='barh', fontsize=12, figsize=(8,6))\n",
    "plt.xlabel('Number of occurances', fontsize=14)\n",
    "plt.title('Tags', fontsize=18)\n",
    "plt.legend([])\n",
    "plt.show()"
   ]
  },
  {
   "cell_type": "code",
   "execution_count": null,
   "metadata": {
    "collapsed": true
   },
   "outputs": [],
   "source": [
    "from sklearn.feature_extraction.text import CountVectorizer\n",
    "count_vect = CountVectorizer(stop_words='english')\n",
    "bag_words = count_vect.fit_transform(df.Title.tolist())"
   ]
  },
  {
   "cell_type": "code",
   "execution_count": null,
   "metadata": {},
   "outputs": [],
   "source": [
    "len(count_vect.vocabulary_)"
   ]
  },
  {
   "cell_type": "code",
   "execution_count": null,
   "metadata": {
    "collapsed": true
   },
   "outputs": [],
   "source": [
    "df_title = pd.DataFrame(data=bag_words.toarray(), \n",
    "                        columns=count_vect.get_feature_names())"
   ]
  },
  {
   "cell_type": "code",
   "execution_count": null,
   "metadata": {},
   "outputs": [],
   "source": [
    "# print 10 most common words\n",
    "df_title.sum().sort_values()[-10:]"
   ]
  },
  {
   "cell_type": "code",
   "execution_count": null,
   "metadata": {
    "collapsed": true
   },
   "outputs": [],
   "source": [
    "# adapted from https://stackoverflow.com/a/16359854\n",
    "# 1 day = 86400 seconds\n",
    "# 1 week = 604800 seconds\n",
    "import sys\n",
    "\n",
    "# put the durations into different buckets, graph the result\n",
    "# only count the durations that are not null\n",
    "df_durations = pd.cut(df.Duration[ df.Duration.notnull() ], \n",
    "                      bins=[-1, 3600, 86400, 604800, 2592000, sys.maxsize], \n",
    "                      labels=False)\n",
    "# labels correspond to buckets of time above\n",
    "labels = np.array(['Less than 1 hour', 'Less than 1 day', 'Less than 1 week', 'More than 1 week', 'More than 1 month'])\n",
    "df_durations = labels[df_durations]\n",
    "\n",
    "duration_counts = Counter(df_durations) # count each occurance"
   ]
  },
  {
   "cell_type": "code",
   "execution_count": null,
   "metadata": {},
   "outputs": [],
   "source": [
    "df_duration_counts = pd.DataFrame.from_dict(duration_counts, orient='index')\n",
    "df_duration_counts.plot(kind='barh', fontsize=12, figsize=(8,6))\n",
    "plt.xlabel('Number of Occurances', fontsize=14)\n",
    "plt.title('Duration Till Answered', fontsize=18)\n",
    "plt.legend([])\n",
    "plt.show()"
   ]
  },
  {
   "cell_type": "code",
   "execution_count": null,
   "metadata": {
    "collapsed": true
   },
   "outputs": [],
   "source": [
    "df.Code[1]\n",
    "\n",
    "# put the code into different buckets, graph the result\n",
    "# count each occurance of a '\\n' as a newline\n",
    "df_lines_of_code = pd.cut( [x.count('\\n') for x in df.Code[ df.Code.notnull() ] ], \n",
    "                       bins=[-1, 5, 10, 20, sys.maxsize],\n",
    "                       labels=False)\n",
    "\n",
    "# labels correspond to buckets of length above\n",
    "labels = np.array(['Less than 5', '6-10', '11-20', '20+'])\n",
    "df_lines_of_code = labels[df_lines_of_code]\n",
    "\n",
    "lines_of_code_count = Counter(df_lines_of_code)"
   ]
  },
  {
   "cell_type": "code",
   "execution_count": null,
   "metadata": {},
   "outputs": [],
   "source": [
    "df_lines_of_code_count = pd.DataFrame.from_dict(lines_of_code_count, orient='index')\n",
    "df_lines_of_code_count.plot(kind='barh', fontsize=12, figsize=(8,6))\n",
    "plt.xlabel('Number of Occurances', fontsize=14)\n",
    "plt.title('Number of Lines', fontsize=18)\n",
    "plt.legend([])\n",
    "plt.show()"
   ]
  },
  {
   "cell_type": "code",
   "execution_count": null,
   "metadata": {},
   "outputs": [],
   "source": [
    "# stacked histogram showing percentage answered\n",
    "\n",
    "length_vs_response = pd.crosstab([df_lines_of_code], # categories to cross tabulate\n",
    "                      df.Duration[ df.Code.notnull() ].isnull()) # how to group\n",
    "length_vs_response.plot(kind='barh', title=\"Questions Answered by Code Length\", stacked=True)\n",
    "plt.legend([\"Answered\", \"Unanswered\"])\n",
    "plt.show()"
   ]
  },
  {
   "cell_type": "code",
   "execution_count": null,
   "metadata": {},
   "outputs": [],
   "source": [
    "# https://stackoverflow.com/questions/43606339/generate-word-cloud-from-single-column-pandas-dataframe\n",
    "from wordcloud import WordCloud\n",
    "\n",
    "wordcloud = WordCloud(\n",
    "    background_color='white',\n",
    "    width=300,\n",
    "    height=200,\n",
    "    max_font_size=40).generate(' '.join(df_tags.Tag))\n",
    "plt.figure(figsize=(8,10))\n",
    "plt.imshow(wordcloud, interpolation=\"bilinear\")\n",
    "plt.axis(\"off\")\n",
    "plt.show()"
   ]
  },
  {
   "cell_type": "code",
   "execution_count": null,
   "metadata": {
    "collapsed": true
   },
   "outputs": [],
   "source": []
  }
 ],
 "metadata": {
  "kernelspec": {
   "display_name": "Python [conda env:MachineLearning]",
   "language": "python",
   "name": "conda-env-MachineLearning-py"
  },
  "language_info": {
   "codemirror_mode": {
    "name": "ipython",
    "version": 3
   },
   "file_extension": ".py",
   "mimetype": "text/x-python",
   "name": "python",
   "nbconvert_exporter": "python",
   "pygments_lexer": "ipython3",
   "version": "3.6.2"
  }
 },
 "nbformat": 4,
 "nbformat_minor": 2
}
