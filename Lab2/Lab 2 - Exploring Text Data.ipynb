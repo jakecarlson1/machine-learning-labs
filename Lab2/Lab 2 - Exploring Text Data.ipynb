{
 "cells": [
  {
   "cell_type": "markdown",
   "metadata": {},
   "source": [
    "# Lab 2 - Exploring Text Data\n",
    "\n",
    "### Eric Smith and Jake Carlson\n",
    "\n",
    "## Introduction\n",
    "For this lab we will be examining questions and answers on the popular programming Q&A website, Stack Overflow. Stack Overflow allows programmers who are stuck on a problem ask the community about ways to resolve or circumvent said problem. This helps people write more accurate code faster. However, the community can be pretty hard on those who do not fully understand their question or are disrespectful. It could also be the case that the few developers who have experience with a problem similar to yours are not on the website when you post your question. If too much time passes, your post may be burried forever. This makes for some interesing questions. When should you make your post so that it has the highest chance of being answered? Are there specific keywords or phasing that encourage other programmers to answer your questions? Are there specific languages that have their questions answered faster than others? These are questions we will be exploring int his lab.\n",
    "\n",
    "## Business Understanding\n",
    "\n",
    "### Motivations\n",
    "Stack Overflow is a go-to resource for developers. Questions are often distilled down to a single block of code that is easily digestible, and can be matched to the question you came to the site for. However, if you're truly stuck on something, it can seem like an eternity of waiting before someone responds to your question, and sometimes, it may not be answered at all. If you're working in industry and spending a lot of time waiting for a question to be answered, you could fall behind schedule and miss deadlines. These delays could cost your company a great deal in lost revenue and tech debt. Therefore, accurately predicting the amount of time to get a question answered can be seen as a valuable project management tool.\n",
    "\n",
    "### Objectives\n",
    "It would be useful if you could predict how quickly your question will be answered if you post it at various times through out the day. For a prediction tool like this to be useful, we want something that is 80-95% accurate in predicting when a question will be answered by. As a project manager, you want your developers to be asking questions that are concise and respectful. Therefore, a tool that could recommend keywords to add to your post to make it more attractive, and provide you with approximate gains in time for reformatting, would also be a valuable project management tool.\n",
    "\n",
    "## Data Understanding\n",
    "\n",
    "### Data Attributes\n",
    "The following is a list of attributes in the data, their data types, and a brief description of the attribute.\n",
    "\n",
    "#### Questions\n",
    "- **Id** (nominal): A unique identifier for each question\n",
    "- **OwnerUserId** (nominal): A unique identifier for the person who posted the question\n",
    "- **CreationDate** (ordinal): A timestamp of when the question was posted\n",
    "- **ClosedDare** (ordinal): A timestamp of when the question was closed, if the question wasn't closed this field is NaN\n",
    "- **Score** (ordinal): ratio?? The number of upvotes a post has\n",
    "- **Title** (text): A title for the question\n",
    "- **Body** (text): The question body\n",
    "\n",
    "#### Answers\n",
    "- **Id** (nominal): A unique identifier for each answer\n",
    "- **OwnerUserId** (nominal): A unique identifier for the person who posted the answer\n",
    "- **CreationDate** (ordinal): A timestamp of when the answer was posted\n",
    "- **ParentId** (nominal): The unique identifier of the question this answer is for\n",
    "- **Score** (ordinal): ratio?? The number of upvotes an answer has\n",
    "- **Body** (text): The answer body\n",
    "\n",
    "\n",
    "## Data Quality\n",
    "Our data it too big, so we will take a rendom subsample of 40% of the original data set."
   ]
  },
  {
   "cell_type": "code",
   "execution_count": 1,
   "metadata": {
    "collapsed": true
   },
   "outputs": [],
   "source": [
    "import numpy as np\n",
    "import pandas as pd"
   ]
  },
  {
   "cell_type": "code",
   "execution_count": 2,
   "metadata": {
    "collapsed": true
   },
   "outputs": [],
   "source": [
    "# read data\n",
    "df = pd.read_csv('./data/Questions.csv', encoding='ISO-8859-1')"
   ]
  },
  {
   "cell_type": "code",
   "execution_count": 3,
   "metadata": {},
   "outputs": [
    {
     "data": {
      "text/html": [
       "<div>\n",
       "<style>\n",
       "    .dataframe thead tr:only-child th {\n",
       "        text-align: right;\n",
       "    }\n",
       "\n",
       "    .dataframe thead th {\n",
       "        text-align: left;\n",
       "    }\n",
       "\n",
       "    .dataframe tbody tr th {\n",
       "        vertical-align: top;\n",
       "    }\n",
       "</style>\n",
       "<table border=\"1\" class=\"dataframe\">\n",
       "  <thead>\n",
       "    <tr style=\"text-align: right;\">\n",
       "      <th></th>\n",
       "      <th>Id</th>\n",
       "      <th>OwnerUserId</th>\n",
       "      <th>CreationDate</th>\n",
       "      <th>ClosedDate</th>\n",
       "      <th>Score</th>\n",
       "      <th>Title</th>\n",
       "      <th>Body</th>\n",
       "    </tr>\n",
       "  </thead>\n",
       "  <tbody>\n",
       "    <tr>\n",
       "      <th>0</th>\n",
       "      <td>80</td>\n",
       "      <td>26.0</td>\n",
       "      <td>2008-08-01T13:57:07Z</td>\n",
       "      <td>NaN</td>\n",
       "      <td>26</td>\n",
       "      <td>SQLStatement.execute() - multiple queries in o...</td>\n",
       "      <td>&lt;p&gt;I've written a database generation script i...</td>\n",
       "    </tr>\n",
       "    <tr>\n",
       "      <th>1</th>\n",
       "      <td>90</td>\n",
       "      <td>58.0</td>\n",
       "      <td>2008-08-01T14:41:24Z</td>\n",
       "      <td>2012-12-26T03:45:49Z</td>\n",
       "      <td>144</td>\n",
       "      <td>Good branching and merging tutorials for Torto...</td>\n",
       "      <td>&lt;p&gt;Are there any really good tutorials explain...</td>\n",
       "    </tr>\n",
       "    <tr>\n",
       "      <th>2</th>\n",
       "      <td>120</td>\n",
       "      <td>83.0</td>\n",
       "      <td>2008-08-01T15:50:08Z</td>\n",
       "      <td>NaN</td>\n",
       "      <td>21</td>\n",
       "      <td>ASP.NET Site Maps</td>\n",
       "      <td>&lt;p&gt;Has anyone got experience creating &lt;strong&gt;...</td>\n",
       "    </tr>\n",
       "    <tr>\n",
       "      <th>3</th>\n",
       "      <td>180</td>\n",
       "      <td>2089740.0</td>\n",
       "      <td>2008-08-01T18:42:19Z</td>\n",
       "      <td>NaN</td>\n",
       "      <td>53</td>\n",
       "      <td>Function for creating color wheels</td>\n",
       "      <td>&lt;p&gt;This is something I've pseudo-solved many t...</td>\n",
       "    </tr>\n",
       "    <tr>\n",
       "      <th>4</th>\n",
       "      <td>260</td>\n",
       "      <td>91.0</td>\n",
       "      <td>2008-08-01T23:22:08Z</td>\n",
       "      <td>NaN</td>\n",
       "      <td>49</td>\n",
       "      <td>Adding scripting functionality to .NET applica...</td>\n",
       "      <td>&lt;p&gt;I have a little game written in C#. It uses...</td>\n",
       "    </tr>\n",
       "  </tbody>\n",
       "</table>\n",
       "</div>"
      ],
      "text/plain": [
       "    Id  OwnerUserId          CreationDate            ClosedDate  Score  \\\n",
       "0   80         26.0  2008-08-01T13:57:07Z                   NaN     26   \n",
       "1   90         58.0  2008-08-01T14:41:24Z  2012-12-26T03:45:49Z    144   \n",
       "2  120         83.0  2008-08-01T15:50:08Z                   NaN     21   \n",
       "3  180    2089740.0  2008-08-01T18:42:19Z                   NaN     53   \n",
       "4  260         91.0  2008-08-01T23:22:08Z                   NaN     49   \n",
       "\n",
       "                                               Title  \\\n",
       "0  SQLStatement.execute() - multiple queries in o...   \n",
       "1  Good branching and merging tutorials for Torto...   \n",
       "2                                  ASP.NET Site Maps   \n",
       "3                 Function for creating color wheels   \n",
       "4  Adding scripting functionality to .NET applica...   \n",
       "\n",
       "                                                Body  \n",
       "0  <p>I've written a database generation script i...  \n",
       "1  <p>Are there any really good tutorials explain...  \n",
       "2  <p>Has anyone got experience creating <strong>...  \n",
       "3  <p>This is something I've pseudo-solved many t...  \n",
       "4  <p>I have a little game written in C#. It uses...  "
      ]
     },
     "execution_count": 3,
     "metadata": {},
     "output_type": "execute_result"
    }
   ],
   "source": [
    "df.head()"
   ]
  },
  {
   "cell_type": "code",
   "execution_count": 4,
   "metadata": {},
   "outputs": [
    {
     "name": "stdout",
     "output_type": "stream",
     "text": [
      "<class 'pandas.core.frame.DataFrame'>\n",
      "RangeIndex: 1264216 entries, 0 to 1264215\n",
      "Data columns (total 7 columns):\n",
      "Id              1264216 non-null int64\n",
      "OwnerUserId     1249762 non-null float64\n",
      "CreationDate    1264216 non-null object\n",
      "ClosedDate      55959 non-null object\n",
      "Score           1264216 non-null int64\n",
      "Title           1264216 non-null object\n",
      "Body            1264216 non-null object\n",
      "dtypes: float64(1), int64(2), object(4)\n",
      "memory usage: 67.5+ MB\n"
     ]
    }
   ],
   "source": [
    "df.info()"
   ]
  },
  {
   "cell_type": "markdown",
   "metadata": {},
   "source": [
    "Trial and error has shown us that 1,264,000 elements is too many to work with. Therefore, we will use a random sample to reduce our data set size to 12,000 elements."
   ]
  },
  {
   "cell_type": "code",
   "execution_count": 5,
   "metadata": {},
   "outputs": [
    {
     "name": "stdout",
     "output_type": "stream",
     "text": [
      "<class 'pandas.core.frame.DataFrame'>\n",
      "Int64Index: 12000 entries, 406590 to 598237\n",
      "Data columns (total 7 columns):\n",
      "Id              12000 non-null int64\n",
      "OwnerUserId     11856 non-null float64\n",
      "CreationDate    12000 non-null object\n",
      "ClosedDate      563 non-null object\n",
      "Score           12000 non-null int64\n",
      "Title           12000 non-null object\n",
      "Body            12000 non-null object\n",
      "dtypes: float64(1), int64(2), object(4)\n",
      "memory usage: 750.0+ KB\n"
     ]
    }
   ],
   "source": [
    "df = df.sample(n=12000, replace=True)\n",
    "df.info()"
   ]
  },
  {
   "cell_type": "markdown",
   "metadata": {},
   "source": [
    "The body of each question is formatted in HTML, so we will need to parse through each body and remove the HTML tags. We also need to replace HTML entities with their character representations. Finally, many questions have accompanying code blocks, so we will parse out the code blocks into a new attribute for each entry."
   ]
  },
  {
   "cell_type": "code",
   "execution_count": null,
   "metadata": {},
   "outputs": [
    {
     "data": {
      "text/html": [
       "<div>\n",
       "<style>\n",
       "    .dataframe thead tr:only-child th {\n",
       "        text-align: right;\n",
       "    }\n",
       "\n",
       "    .dataframe thead th {\n",
       "        text-align: left;\n",
       "    }\n",
       "\n",
       "    .dataframe tbody tr th {\n",
       "        vertical-align: top;\n",
       "    }\n",
       "</style>\n",
       "<table border=\"1\" class=\"dataframe\">\n",
       "  <thead>\n",
       "    <tr style=\"text-align: right;\">\n",
       "      <th></th>\n",
       "      <th>Id</th>\n",
       "      <th>OwnerUserId</th>\n",
       "      <th>CreationDate</th>\n",
       "      <th>ClosedDate</th>\n",
       "      <th>Score</th>\n",
       "      <th>Title</th>\n",
       "      <th>Body</th>\n",
       "      <th>Code</th>\n",
       "    </tr>\n",
       "  </thead>\n",
       "  <tbody>\n",
       "    <tr>\n",
       "      <th>406590</th>\n",
       "      <td>14372690</td>\n",
       "      <td>1820022.0</td>\n",
       "      <td>2013-01-17T05:25:30Z</td>\n",
       "      <td>NaN</td>\n",
       "      <td>2</td>\n",
       "      <td>temporarily disable all events in javascript</td>\n",
       "      <td>How do you temporarily disable all events in j...</td>\n",
       "      <td></td>\n",
       "    </tr>\n",
       "    <tr>\n",
       "      <th>665037</th>\n",
       "      <td>22761320</td>\n",
       "      <td>3234665.0</td>\n",
       "      <td>2014-03-31T12:15:56Z</td>\n",
       "      <td>NaN</td>\n",
       "      <td>0</td>\n",
       "      <td>URL Rewriting is showing 404 Error after Upgra...</td>\n",
       "      <td>I have just change framework of my website fro...</td>\n",
       "      <td>http://www.theprojectjugaad.com/PlacementAssis...</td>\n",
       "    </tr>\n",
       "    <tr>\n",
       "      <th>640709</th>\n",
       "      <td>22000080</td>\n",
       "      <td>3231979.0</td>\n",
       "      <td>2014-02-24T22:05:14Z</td>\n",
       "      <td>NaN</td>\n",
       "      <td>1</td>\n",
       "      <td>Get the source url of link by custom firefox M...</td>\n",
       "      <td>I have tried to: \\nAdd menu item to the mozill...</td>\n",
       "      <td>var contextMenu = require(\"sdk/context-menu\")...</td>\n",
       "    </tr>\n",
       "    <tr>\n",
       "      <th>151372</th>\n",
       "      <td>5971910</td>\n",
       "      <td>734248.0</td>\n",
       "      <td>2011-05-11T23:59:01Z</td>\n",
       "      <td>NaN</td>\n",
       "      <td>0</td>\n",
       "      <td>Obtaining right value from \"JSON-style\" NSStri...</td>\n",
       "      <td>I am trying to get the NSString \"Bonjour\" from...</td>\n",
       "      <td>[[[\"Bonjour\",\"Hello\",\"\",\"\"]],,\"en\",,[[\"Bonjour...</td>\n",
       "    </tr>\n",
       "    <tr>\n",
       "      <th>293479</th>\n",
       "      <td>10695110</td>\n",
       "      <td>1316405.0</td>\n",
       "      <td>2012-05-22T02:43:12Z</td>\n",
       "      <td>NaN</td>\n",
       "      <td>0</td>\n",
       "      <td>specify index variables if equal to self</td>\n",
       "      <td>I'm sure the wording was completely wrong, sor...</td>\n",
       "      <td>function playArray(ele, array) {\\n            ...</td>\n",
       "    </tr>\n",
       "  </tbody>\n",
       "</table>\n",
       "</div>"
      ],
      "text/plain": [
       "              Id  OwnerUserId          CreationDate ClosedDate  Score  \\\n",
       "406590  14372690    1820022.0  2013-01-17T05:25:30Z        NaN      2   \n",
       "665037  22761320    3234665.0  2014-03-31T12:15:56Z        NaN      0   \n",
       "640709  22000080    3231979.0  2014-02-24T22:05:14Z        NaN      1   \n",
       "151372   5971910     734248.0  2011-05-11T23:59:01Z        NaN      0   \n",
       "293479  10695110    1316405.0  2012-05-22T02:43:12Z        NaN      0   \n",
       "\n",
       "                                                    Title  \\\n",
       "406590       temporarily disable all events in javascript   \n",
       "665037  URL Rewriting is showing 404 Error after Upgra...   \n",
       "640709  Get the source url of link by custom firefox M...   \n",
       "151372  Obtaining right value from \"JSON-style\" NSStri...   \n",
       "293479           specify index variables if equal to self   \n",
       "\n",
       "                                                     Body  \\\n",
       "406590  How do you temporarily disable all events in j...   \n",
       "665037  I have just change framework of my website fro...   \n",
       "640709  I have tried to: \\nAdd menu item to the mozill...   \n",
       "151372  I am trying to get the NSString \"Bonjour\" from...   \n",
       "293479  I'm sure the wording was completely wrong, sor...   \n",
       "\n",
       "                                                     Code  \n",
       "406590                                                     \n",
       "665037  http://www.theprojectjugaad.com/PlacementAssis...  \n",
       "640709   var contextMenu = require(\"sdk/context-menu\")...  \n",
       "151372  [[[\"Bonjour\",\"Hello\",\"\",\"\"]],,\"en\",,[[\"Bonjour...  \n",
       "293479  function playArray(ele, array) {\\n            ...  "
      ]
     },
     "execution_count": 6,
     "metadata": {},
     "output_type": "execute_result"
    }
   ],
   "source": [
    "from bs4 import BeautifulSoup\n",
    "import html\n",
    "import re\n",
    "\n",
    "# compile regexes\n",
    "tag_re = re.compile('<[^<]+?>')\n",
    "newline_re = re.compile('\\n+')\n",
    "\n",
    "def clean_html(body_text):\n",
    "    soup = BeautifulSoup(body_text, 'html.parser')\n",
    "    code_tags = soup.findAll('code')\n",
    "    code_text = \"\"\n",
    "    \n",
    "    # unescape html entities\n",
    "    body_text = html.unescape(body_text)\n",
    "    \n",
    "    # remove code blocks, saving blocks to new string\n",
    "    for c in code_tags:\n",
    "        body_text = body_text.replace(\"<code>{}</code>\".format(c.string),\n",
    "                                      '')\n",
    "        if c.string:\n",
    "            code_text += c.string\n",
    "\n",
    "    # remove remaining tags and multiple newlines\n",
    "    body_text = tag_re.sub('', body_text)\n",
    "    body_text = newline_re.sub('\\n', body_text)\n",
    "    \n",
    "    return body_text, code_text\n",
    "\n",
    "as_list = df.Body.tolist()\n",
    "body_list = []\n",
    "code_list = []\n",
    "for i in range(len(as_list)):\n",
    "    body_text, code_text = clean_html(as_list[i])\n",
    "    body_list.append(body_text)\n",
    "    code_list.append(code_text)\n",
    "\n",
    "# update body column\n",
    "df = df.assign(Body=body_list)\n",
    "# add code column\n",
    "df = df.assign(Code=code_list)\n",
    "df.head()"
   ]
  },
  {
   "cell_type": "markdown",
   "metadata": {},
   "source": [
    "With the HTML tags removed and the code isolated, the question body is much cleaner. Now lets add another column for the time in minutes it took to get the question answered. For this value, we will look for the highest rated answer for each question and use the time when that answer was posted."
   ]
  },
  {
   "cell_type": "code",
   "execution_count": null,
   "metadata": {},
   "outputs": [],
   "source": [
    "df_ans = pd.read_csv('./data/Answers.csv', encoding='ISO-8859-1')\n",
    "df_ans.head()"
   ]
  },
  {
   "cell_type": "code",
   "execution_count": null,
   "metadata": {},
   "outputs": [],
   "source": [
    "df_ans.info()"
   ]
  },
  {
   "cell_type": "code",
   "execution_count": null,
   "metadata": {},
   "outputs": [],
   "source": [
    "ids = df.Id.unique()\n",
    "df_ans = df_ans[df_ans.ParentId.isin(ids)]\n",
    "df_ans.info()"
   ]
  },
  {
   "cell_type": "markdown",
   "metadata": {},
   "source": [
    "We will clean the answers data frame using the same function as the questions data frame."
   ]
  },
  {
   "cell_type": "code",
   "execution_count": null,
   "metadata": {},
   "outputs": [],
   "source": [
    "as_list = df_ans.Body.tolist()\n",
    "body_list = []\n",
    "code_list = []\n",
    "for i in range(len(as_list)):\n",
    "    body_text, code_text = clean_html(as_list[i])\n",
    "    body_list.append(body_text)\n",
    "    code_list.append(code_text)\n",
    "\n",
    "# update body column\n",
    "df_ans = df_ans.assign(Body=body_list)\n",
    "# add code column\n",
    "df_ans = df_ans.assign(Code=code_list)\n",
    "df_ans.head()"
   ]
  },
  {
   "cell_type": "code",
   "execution_count": null,
   "metadata": {
    "scrolled": false
   },
   "outputs": [],
   "source": [
    "# adapted from https://stackoverflow.com/questions/2788871/date-difference-in-minutes-in-python\n",
    "from datetime import datetime\n",
    "import time\n",
    "\n",
    "fmt = '%Y-%m-%dT%H:%M:%SZ'\n",
    "def get_minutes_diff(timestamp1, timestamp2):\n",
    "#     if np.isnan(x.ClosedDate):\n",
    "#         return np.nan\n",
    "    d1 = datetime.strptime(timestamp1, fmt)\n",
    "    d2 = datetime.strptime(timestamp2, fmt)\n",
    "    \n",
    "    # convert to unix timestamp\n",
    "    d1_ts = time.mktime(d1.timetuple())\n",
    "    d2_ts = time.mktime(d2.timetuple())\n",
    "    \n",
    "    # convert to minutes\n",
    "    return int(d2_ts - d1_ts) / 60\n",
    "\n",
    "durations = []\n",
    "for i, row in df.iterrows():\n",
    "    answer = df_ans[ df_ans.ParentId == row.Id ]\n",
    "    answer = answer[ answer.Score == answer.Score.max() ]\n",
    "    answer_time = answer.CreationDate.values\n",
    "    if len(answer_time) > 0:\n",
    "        answer_time = answer_time[0]\n",
    "        df.loc[i, 'Duration'] = get_minutes_diff(row.CreationDate, \n",
    "                                                  answer_time)\n",
    "\n",
    "df.head()"
   ]
  },
  {
   "cell_type": "markdown",
   "metadata": {},
   "source": [
    "Load the tags and save the tags that correspond to a question."
   ]
  },
  {
   "cell_type": "code",
   "execution_count": null,
   "metadata": {},
   "outputs": [],
   "source": [
    "df_tags = pd.read_csv('./data/Tags.csv', encoding='ISO-8859-1')\n",
    "df_tags.head()"
   ]
  },
  {
   "cell_type": "code",
   "execution_count": null,
   "metadata": {},
   "outputs": [],
   "source": [
    "ids = df.Id.unique()\n",
    "df_tags = df_tags[df_tags.Id.isin(ids)]\n",
    "df_tags.head()"
   ]
  },
  {
   "cell_type": "markdown",
   "metadata": {},
   "source": [
    "Save the cleaned data to a persistance file."
   ]
  },
  {
   "cell_type": "code",
   "execution_count": null,
   "metadata": {
    "collapsed": true
   },
   "outputs": [],
   "source": [
    "df.to_csv('./clean-data/Questions.csv', sep=',')\n",
    "df_ans.to_csv('./clean-data/Answers.csv', sep=',')\n",
    "df_tags.to_csv('./clean-data/Tags.csv', sep=',')"
   ]
  },
  {
   "cell_type": "markdown",
   "metadata": {},
   "source": [
    "## Data Visualization"
   ]
  },
  {
   "cell_type": "code",
   "execution_count": null,
   "metadata": {
    "collapsed": true
   },
   "outputs": [],
   "source": [
    "df = pd.read_csv('./clean-data/Questions.csv')\n",
    "df_ans = pd.read_csv('./clean-data/Answers.csv')\n",
    "df_tags = pd.read_csv('./clean-data/Tags.csv')"
   ]
  },
  {
   "cell_type": "code",
   "execution_count": null,
   "metadata": {},
   "outputs": [],
   "source": [
    "df_tags.info()"
   ]
  },
  {
   "cell_type": "code",
   "execution_count": null,
   "metadata": {},
   "outputs": [],
   "source": [
    "import matplotlib.pyplot as plt\n",
    "from collections import Counter\n",
    "\n",
    "tag_counts = Counter(df_tags.Tag)\n",
    "\n",
    "# remove tags that have less than 175 occurances\n",
    "for t in list(tag_counts):\n",
    "    if tag_counts[t] < 175:\n",
    "        del tag_counts[t]\n",
    "\n",
    "df_tag_counts = pd.DataFrame.from_dict(tag_counts, orient='index')\n",
    "df_tag_counts.plot(kind='barh', fontsize=12, figsize=(8,6))\n",
    "plt.xlabel('Number of occurances', fontsize=14)\n",
    "plt.title('Tags', fontsize=18)\n",
    "plt.legend([])\n",
    "plt.show()"
   ]
  },
  {
   "cell_type": "code",
   "execution_count": null,
   "metadata": {
    "collapsed": true
   },
   "outputs": [],
   "source": [
    "from sklearn.feature_extraction.text import CountVectorizer\n",
    "count_vect = CountVectorizer(stop_words='english')\n",
    "bag_words = count_vect.fit_transform(df.Title.tolist())"
   ]
  },
  {
   "cell_type": "code",
   "execution_count": null,
   "metadata": {},
   "outputs": [],
   "source": [
    "len(count_vect.vocabulary_)"
   ]
  },
  {
   "cell_type": "code",
   "execution_count": null,
   "metadata": {
    "collapsed": true
   },
   "outputs": [],
   "source": [
    "df_title = pd.DataFrame(data=bag_words.toarray(), \n",
    "                        columns=count_vect.get_feature_names())"
   ]
  },
  {
   "cell_type": "code",
   "execution_count": null,
   "metadata": {},
   "outputs": [],
   "source": [
    "# print 10 most common words\n",
    "df_title.sum().sort_values()[-10:]"
   ]
  },
  {
   "cell_type": "code",
   "execution_count": null,
   "metadata": {
    "collapsed": true
   },
   "outputs": [],
   "source": [
    "# adapted from https://stackoverflow.com/a/16359854\n",
    "# 1 day = 86400 seconds\n",
    "# 1 week = 604800 seconds\n",
    "df_durations = pd.cut(df.Duration, bins=[-1, 86400, 604800], labels=False)\n",
    "labels = np.array('< 1 day', '< 1 week', '> 1 week')\n",
    "\n",
    "df_durations"
   ]
  }
 ],
 "metadata": {
  "kernelspec": {
   "display_name": "Python [conda env:MachineLearning]",
   "language": "python",
   "name": "conda-env-MachineLearning-py"
  },
  "language_info": {
   "codemirror_mode": {
    "name": "ipython",
    "version": 3
   },
   "file_extension": ".py",
   "mimetype": "text/x-python",
   "name": "python",
   "nbconvert_exporter": "python",
   "pygments_lexer": "ipython3",
   "version": "3.6.2"
  }
 },
 "nbformat": 4,
 "nbformat_minor": 2
}
