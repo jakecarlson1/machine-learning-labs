{
 "cells": [
  {
   "cell_type": "markdown",
   "metadata": {},
   "source": [
    "# Lab 2 - Exploring Text Data\n",
    "\n",
    "### Eric Smith and Jake Carlson\n",
    "\n",
    "## Introduction\n",
    "For this lab we will be examining questions and answers on the popular programming Q&A website, Stack Overflow. Stack Overflow allows programmers who are stuck on a problem ask the community about ways to resolve or circumvent said problem. This helps people write more accurate code faster. However, the community can be pretty hard on those who do not fully understand their question or are disrespectful. It could also be the case that the few developers who have experience with a problem similar to yours are not on the website when you post your question. If too much time passes, your post may be burried forever. This makes for some interesing questions. When should you make your post so that it has the highest chance of being answered? Are there specific keywords or phasing that encourage other programmers to answer your questions? Are there specific languages that have their questions answered faster than others? These are questions we will be exploring int his lab.\n",
    "\n",
    "## Business Understanding\n",
    "\n",
    "### Motivations\n",
    "Stack Overflow is a go-to resource for developers. Questions are often distilled down to a single block of code that is easily digestible, and can be matched to the question you came to the site for. However, if you're truly stuck on something, it can seem like an eternity of waiting before someone responds to your question, and sometimes, it may not be answered at all. If you're working in industry and spending a lot of time waiting for a question to be answered, you could fall behind schedule and miss deadlines. These delays could cost your company a great deal in lost revenue and tech debt. Therefore, accurately predicting the amount of time to get a question answered can be seen as a valuable project management tool.\n",
    "\n",
    "### Objectives\n",
    "It would be useful if you could predict how quickly your question will be answered if you post it at various times through out the day. For a prediction tool like this to be useful, we want something that is 80-95% accurate in predicting when a question will be answered by. As a project manager, you want your developers to be asking questions that are concise and respectful. Therefore, a tool that could recommend keywords to add to your post to make it more attractive, and provide you with approximate gains in time for reformatting, would also be a valuable project management tool.\n",
    "\n",
    "## Data Understanding\n",
    "\n",
    "### Data Attributes\n",
    "The following is a list of attributes in the data, their data types, and a brief description of the attribute.\n",
    "\n",
    "#### Questions\n",
    "- **Id** (nominal): A unique identifier for each question\n",
    "- **OwnerUserId** (nominal): A unique identifier for the person who posted the question\n",
    "- **CreationDate** (ordinal): A timestamp of when the question was posted\n",
    "- **ClosedDare** (ordinal): A timestamp of when the question was closed, if the question wasn't closed this field is NaN\n",
    "- **Score** (ordinal): ratio?? The number of upvotes a post has\n",
    "- **Title** (text): A title for the question\n",
    "- **Body** (text): The question body\n",
    "\n",
    "#### Answers\n",
    "- **Id** (nominal): A unique identifier for each answer\n",
    "- **OwnerUserId** (nominal): A unique identifier for the person who posted the answer\n",
    "- **CreationDate** (ordinal): A timestamp of when the answer was posted\n",
    "- **ParentId** (nominal): The unique identifier of the question this answer is for\n",
    "- **Score** (ordinal): ratio?? The number of upvotes an answer has\n",
    "- **Body** (text): The answer body\n",
    "\n",
    "\n",
    "## Data Quality\n",
    "Our data it too big, so we will take a rendom subsample of 40% of the original data set."
   ]
  },
  {
   "cell_type": "code",
   "execution_count": 1,
   "metadata": {
    "collapsed": true
   },
   "outputs": [],
   "source": [
    "import numpy as np\n",
    "import pandas as pd"
   ]
  },
  {
   "cell_type": "code",
   "execution_count": 2,
   "metadata": {
    "collapsed": true
   },
   "outputs": [],
   "source": [
    "# read data\n",
    "df = pd.read_csv('./data/Questions.csv', encoding='ISO-8859-1')"
   ]
  },
  {
   "cell_type": "code",
   "execution_count": 3,
   "metadata": {},
   "outputs": [
    {
     "data": {
      "text/html": [
       "<div>\n",
       "<style>\n",
       "    .dataframe thead tr:only-child th {\n",
       "        text-align: right;\n",
       "    }\n",
       "\n",
       "    .dataframe thead th {\n",
       "        text-align: left;\n",
       "    }\n",
       "\n",
       "    .dataframe tbody tr th {\n",
       "        vertical-align: top;\n",
       "    }\n",
       "</style>\n",
       "<table border=\"1\" class=\"dataframe\">\n",
       "  <thead>\n",
       "    <tr style=\"text-align: right;\">\n",
       "      <th></th>\n",
       "      <th>Id</th>\n",
       "      <th>OwnerUserId</th>\n",
       "      <th>CreationDate</th>\n",
       "      <th>ClosedDate</th>\n",
       "      <th>Score</th>\n",
       "      <th>Title</th>\n",
       "      <th>Body</th>\n",
       "    </tr>\n",
       "  </thead>\n",
       "  <tbody>\n",
       "    <tr>\n",
       "      <th>0</th>\n",
       "      <td>80</td>\n",
       "      <td>26.0</td>\n",
       "      <td>2008-08-01T13:57:07Z</td>\n",
       "      <td>NaN</td>\n",
       "      <td>26</td>\n",
       "      <td>SQLStatement.execute() - multiple queries in o...</td>\n",
       "      <td>&lt;p&gt;I've written a database generation script i...</td>\n",
       "    </tr>\n",
       "    <tr>\n",
       "      <th>1</th>\n",
       "      <td>90</td>\n",
       "      <td>58.0</td>\n",
       "      <td>2008-08-01T14:41:24Z</td>\n",
       "      <td>2012-12-26T03:45:49Z</td>\n",
       "      <td>144</td>\n",
       "      <td>Good branching and merging tutorials for Torto...</td>\n",
       "      <td>&lt;p&gt;Are there any really good tutorials explain...</td>\n",
       "    </tr>\n",
       "    <tr>\n",
       "      <th>2</th>\n",
       "      <td>120</td>\n",
       "      <td>83.0</td>\n",
       "      <td>2008-08-01T15:50:08Z</td>\n",
       "      <td>NaN</td>\n",
       "      <td>21</td>\n",
       "      <td>ASP.NET Site Maps</td>\n",
       "      <td>&lt;p&gt;Has anyone got experience creating &lt;strong&gt;...</td>\n",
       "    </tr>\n",
       "    <tr>\n",
       "      <th>3</th>\n",
       "      <td>180</td>\n",
       "      <td>2089740.0</td>\n",
       "      <td>2008-08-01T18:42:19Z</td>\n",
       "      <td>NaN</td>\n",
       "      <td>53</td>\n",
       "      <td>Function for creating color wheels</td>\n",
       "      <td>&lt;p&gt;This is something I've pseudo-solved many t...</td>\n",
       "    </tr>\n",
       "    <tr>\n",
       "      <th>4</th>\n",
       "      <td>260</td>\n",
       "      <td>91.0</td>\n",
       "      <td>2008-08-01T23:22:08Z</td>\n",
       "      <td>NaN</td>\n",
       "      <td>49</td>\n",
       "      <td>Adding scripting functionality to .NET applica...</td>\n",
       "      <td>&lt;p&gt;I have a little game written in C#. It uses...</td>\n",
       "    </tr>\n",
       "  </tbody>\n",
       "</table>\n",
       "</div>"
      ],
      "text/plain": [
       "    Id  OwnerUserId          CreationDate            ClosedDate  Score  \\\n",
       "0   80         26.0  2008-08-01T13:57:07Z                   NaN     26   \n",
       "1   90         58.0  2008-08-01T14:41:24Z  2012-12-26T03:45:49Z    144   \n",
       "2  120         83.0  2008-08-01T15:50:08Z                   NaN     21   \n",
       "3  180    2089740.0  2008-08-01T18:42:19Z                   NaN     53   \n",
       "4  260         91.0  2008-08-01T23:22:08Z                   NaN     49   \n",
       "\n",
       "                                               Title  \\\n",
       "0  SQLStatement.execute() - multiple queries in o...   \n",
       "1  Good branching and merging tutorials for Torto...   \n",
       "2                                  ASP.NET Site Maps   \n",
       "3                 Function for creating color wheels   \n",
       "4  Adding scripting functionality to .NET applica...   \n",
       "\n",
       "                                                Body  \n",
       "0  <p>I've written a database generation script i...  \n",
       "1  <p>Are there any really good tutorials explain...  \n",
       "2  <p>Has anyone got experience creating <strong>...  \n",
       "3  <p>This is something I've pseudo-solved many t...  \n",
       "4  <p>I have a little game written in C#. It uses...  "
      ]
     },
     "execution_count": 3,
     "metadata": {},
     "output_type": "execute_result"
    }
   ],
   "source": [
    "df.head()"
   ]
  },
  {
   "cell_type": "code",
   "execution_count": 4,
   "metadata": {},
   "outputs": [
    {
     "name": "stdout",
     "output_type": "stream",
     "text": [
      "<class 'pandas.core.frame.DataFrame'>\n",
      "RangeIndex: 1264216 entries, 0 to 1264215\n",
      "Data columns (total 7 columns):\n",
      "Id              1264216 non-null int64\n",
      "OwnerUserId     1249762 non-null float64\n",
      "CreationDate    1264216 non-null object\n",
      "ClosedDate      55959 non-null object\n",
      "Score           1264216 non-null int64\n",
      "Title           1264216 non-null object\n",
      "Body            1264216 non-null object\n",
      "dtypes: float64(1), int64(2), object(4)\n",
      "memory usage: 67.5+ MB\n"
     ]
    }
   ],
   "source": [
    "df.info()"
   ]
  },
  {
   "cell_type": "markdown",
   "metadata": {},
   "source": [
    "Trial and error has shown us that 1,264,000 elements is too many to work with. Therefore, we will use a random sample to reduce our data set size to 12,000 elements."
   ]
  },
  {
   "cell_type": "code",
   "execution_count": 5,
   "metadata": {},
   "outputs": [
    {
     "name": "stdout",
     "output_type": "stream",
     "text": [
      "<class 'pandas.core.frame.DataFrame'>\n",
      "Int64Index: 12000 entries, 1212819 to 323450\n",
      "Data columns (total 7 columns):\n",
      "Id              12000 non-null int64\n",
      "OwnerUserId     11862 non-null float64\n",
      "CreationDate    12000 non-null object\n",
      "ClosedDate      537 non-null object\n",
      "Score           12000 non-null int64\n",
      "Title           12000 non-null object\n",
      "Body            12000 non-null object\n",
      "dtypes: float64(1), int64(2), object(4)\n",
      "memory usage: 750.0+ KB\n"
     ]
    }
   ],
   "source": [
    "df = df.sample(n=12000, replace=True)\n",
    "df.info()"
   ]
  },
  {
   "cell_type": "markdown",
   "metadata": {},
   "source": [
    "The body of each question is formatted in HTML, so we will need to parse through each body and remove the HTML tags. We also need to replace HTML entities with their character representations. Finally, many questions have accompanying code blocks, so we will parse out the code blocks into a new attribute for each entry."
   ]
  },
  {
   "cell_type": "code",
   "execution_count": 6,
   "metadata": {},
   "outputs": [
    {
     "data": {
      "text/html": [
       "<div>\n",
       "<style>\n",
       "    .dataframe thead tr:only-child th {\n",
       "        text-align: right;\n",
       "    }\n",
       "\n",
       "    .dataframe thead th {\n",
       "        text-align: left;\n",
       "    }\n",
       "\n",
       "    .dataframe tbody tr th {\n",
       "        vertical-align: top;\n",
       "    }\n",
       "</style>\n",
       "<table border=\"1\" class=\"dataframe\">\n",
       "  <thead>\n",
       "    <tr style=\"text-align: right;\">\n",
       "      <th></th>\n",
       "      <th>Id</th>\n",
       "      <th>OwnerUserId</th>\n",
       "      <th>CreationDate</th>\n",
       "      <th>ClosedDate</th>\n",
       "      <th>Score</th>\n",
       "      <th>Title</th>\n",
       "      <th>Body</th>\n",
       "      <th>Code</th>\n",
       "    </tr>\n",
       "  </thead>\n",
       "  <tbody>\n",
       "    <tr>\n",
       "      <th>1212819</th>\n",
       "      <td>38840540</td>\n",
       "      <td>4517895.0</td>\n",
       "      <td>2016-08-09T01:06:16Z</td>\n",
       "      <td>NaN</td>\n",
       "      <td>0</td>\n",
       "      <td>Using USYNCHRONIZED persistence context with H...</td>\n",
       "      <td>I'm trying to migrate application which uses u...</td>\n",
       "      <td>@PersistenceContext(type = PersistenceContextT...</td>\n",
       "    </tr>\n",
       "    <tr>\n",
       "      <th>117826</th>\n",
       "      <td>4812460</td>\n",
       "      <td>150062.0</td>\n",
       "      <td>2011-01-27T03:32:53Z</td>\n",
       "      <td>NaN</td>\n",
       "      <td>2</td>\n",
       "      <td>Combine three select queries?</td>\n",
       "      <td>I would like to combine these three sql querie...</td>\n",
       "      <td>SELECT homeupload, COUNT(*) FROM link GROUP BY...</td>\n",
       "    </tr>\n",
       "    <tr>\n",
       "      <th>184545</th>\n",
       "      <td>7101540</td>\n",
       "      <td>45580.0</td>\n",
       "      <td>2011-08-18T01:50:03Z</td>\n",
       "      <td>NaN</td>\n",
       "      <td>0</td>\n",
       "      <td>Attach sameplerate or dmix ALSA plugin to OSS ...</td>\n",
       "      <td>I have an application in an embedded system th...</td>\n",
       "      <td></td>\n",
       "    </tr>\n",
       "    <tr>\n",
       "      <th>935218</th>\n",
       "      <td>31152890</td>\n",
       "      <td>5068035.0</td>\n",
       "      <td>2015-07-01T05:04:02Z</td>\n",
       "      <td>NaN</td>\n",
       "      <td>1</td>\n",
       "      <td>Chrome Browser is not opening for running test...</td>\n",
       "      <td>I have setup of php zendframework , selenium. ...</td>\n",
       "      <td>/usr/bin/google-chrome --disable-background-ne...</td>\n",
       "    </tr>\n",
       "    <tr>\n",
       "      <th>1197793</th>\n",
       "      <td>38442270</td>\n",
       "      <td>3822621.0</td>\n",
       "      <td>2016-07-18T16:59:29Z</td>\n",
       "      <td>NaN</td>\n",
       "      <td>0</td>\n",
       "      <td>Grep/Sed/Awk Trim text around IP address in sp...</td>\n",
       "      <td>I've been struggling with this issue for quite...</td>\n",
       "      <td>Built inbound ICMP connection for faddr [hostn...</td>\n",
       "    </tr>\n",
       "  </tbody>\n",
       "</table>\n",
       "</div>"
      ],
      "text/plain": [
       "               Id  OwnerUserId          CreationDate ClosedDate  Score  \\\n",
       "1212819  38840540    4517895.0  2016-08-09T01:06:16Z        NaN      0   \n",
       "117826    4812460     150062.0  2011-01-27T03:32:53Z        NaN      2   \n",
       "184545    7101540      45580.0  2011-08-18T01:50:03Z        NaN      0   \n",
       "935218   31152890    5068035.0  2015-07-01T05:04:02Z        NaN      1   \n",
       "1197793  38442270    3822621.0  2016-07-18T16:59:29Z        NaN      0   \n",
       "\n",
       "                                                     Title  \\\n",
       "1212819  Using USYNCHRONIZED persistence context with H...   \n",
       "117826                       Combine three select queries?   \n",
       "184545   Attach sameplerate or dmix ALSA plugin to OSS ...   \n",
       "935218   Chrome Browser is not opening for running test...   \n",
       "1197793  Grep/Sed/Awk Trim text around IP address in sp...   \n",
       "\n",
       "                                                      Body  \\\n",
       "1212819  I'm trying to migrate application which uses u...   \n",
       "117826   I would like to combine these three sql querie...   \n",
       "184545   I have an application in an embedded system th...   \n",
       "935218   I have setup of php zendframework , selenium. ...   \n",
       "1197793  I've been struggling with this issue for quite...   \n",
       "\n",
       "                                                      Code  \n",
       "1212819  @PersistenceContext(type = PersistenceContextT...  \n",
       "117826   SELECT homeupload, COUNT(*) FROM link GROUP BY...  \n",
       "184545                                                      \n",
       "935218   /usr/bin/google-chrome --disable-background-ne...  \n",
       "1197793  Built inbound ICMP connection for faddr [hostn...  "
      ]
     },
     "execution_count": 6,
     "metadata": {},
     "output_type": "execute_result"
    }
   ],
   "source": [
    "from bs4 import BeautifulSoup\n",
    "import html\n",
    "import re\n",
    "\n",
    "# compile regexes\n",
    "tag_re = re.compile('<[^<]+?>')\n",
    "newline_re = re.compile('\\n+')\n",
    "\n",
    "def clean_html(body_text):\n",
    "    soup = BeautifulSoup(body_text, 'html.parser')\n",
    "    code_tags = soup.findAll('code')\n",
    "    code_text = \"\"\n",
    "    \n",
    "    # unescape html entities\n",
    "    body_text = html.unescape(body_text)\n",
    "    \n",
    "    # remove code blocks, saving blocks to new string\n",
    "    for c in code_tags:\n",
    "        body_text = body_text.replace(\"<code>{}</code>\".format(c.string),\n",
    "                                      '')\n",
    "        if c.string:\n",
    "            code_text += c.string\n",
    "\n",
    "    # remove remaining tags and multiple newlines\n",
    "    body_text = tag_re.sub('', body_text)\n",
    "    body_text = newline_re.sub('\\n', body_text)\n",
    "    \n",
    "    return body_text, code_text\n",
    "\n",
    "as_list = df.Body.tolist()\n",
    "body_list = []\n",
    "code_list = []\n",
    "for i in range(len(as_list)):\n",
    "    body_text, code_text = clean_html(as_list[i])\n",
    "    body_list.append(body_text)\n",
    "    code_list.append(code_text)\n",
    "\n",
    "# update body column\n",
    "df = df.assign(Body=body_list)\n",
    "# add code column\n",
    "df = df.assign(Code=code_list)\n",
    "df.head()"
   ]
  },
  {
   "cell_type": "markdown",
   "metadata": {},
   "source": [
    "With the HTML tags removed and the code isolated, the question body is much cleaner. Now lets add another column for the time in minutes it took to get the question answered. For this value, we will look for the highest rated answer for each question and use the time when that answer was posted."
   ]
  },
  {
   "cell_type": "code",
   "execution_count": 7,
   "metadata": {},
   "outputs": [
    {
     "data": {
      "text/html": [
       "<div>\n",
       "<style>\n",
       "    .dataframe thead tr:only-child th {\n",
       "        text-align: right;\n",
       "    }\n",
       "\n",
       "    .dataframe thead th {\n",
       "        text-align: left;\n",
       "    }\n",
       "\n",
       "    .dataframe tbody tr th {\n",
       "        vertical-align: top;\n",
       "    }\n",
       "</style>\n",
       "<table border=\"1\" class=\"dataframe\">\n",
       "  <thead>\n",
       "    <tr style=\"text-align: right;\">\n",
       "      <th></th>\n",
       "      <th>Id</th>\n",
       "      <th>OwnerUserId</th>\n",
       "      <th>CreationDate</th>\n",
       "      <th>ParentId</th>\n",
       "      <th>Score</th>\n",
       "      <th>Body</th>\n",
       "    </tr>\n",
       "  </thead>\n",
       "  <tbody>\n",
       "    <tr>\n",
       "      <th>0</th>\n",
       "      <td>92</td>\n",
       "      <td>61.0</td>\n",
       "      <td>2008-08-01T14:45:37Z</td>\n",
       "      <td>90</td>\n",
       "      <td>13</td>\n",
       "      <td>&lt;p&gt;&lt;a href=\"http://svnbook.red-bean.com/\"&gt;Vers...</td>\n",
       "    </tr>\n",
       "    <tr>\n",
       "      <th>1</th>\n",
       "      <td>124</td>\n",
       "      <td>26.0</td>\n",
       "      <td>2008-08-01T16:09:47Z</td>\n",
       "      <td>80</td>\n",
       "      <td>12</td>\n",
       "      <td>&lt;p&gt;I wound up using this. It is a kind of a ha...</td>\n",
       "    </tr>\n",
       "    <tr>\n",
       "      <th>2</th>\n",
       "      <td>199</td>\n",
       "      <td>50.0</td>\n",
       "      <td>2008-08-01T19:36:46Z</td>\n",
       "      <td>180</td>\n",
       "      <td>1</td>\n",
       "      <td>&lt;p&gt;I've read somewhere the human eye can't dis...</td>\n",
       "    </tr>\n",
       "    <tr>\n",
       "      <th>3</th>\n",
       "      <td>269</td>\n",
       "      <td>91.0</td>\n",
       "      <td>2008-08-01T23:49:57Z</td>\n",
       "      <td>260</td>\n",
       "      <td>4</td>\n",
       "      <td>&lt;p&gt;Yes, I thought about that, but I soon figur...</td>\n",
       "    </tr>\n",
       "    <tr>\n",
       "      <th>4</th>\n",
       "      <td>307</td>\n",
       "      <td>49.0</td>\n",
       "      <td>2008-08-02T01:49:46Z</td>\n",
       "      <td>260</td>\n",
       "      <td>28</td>\n",
       "      <td>&lt;p&gt;&lt;a href=\"http://www.codeproject.com/Article...</td>\n",
       "    </tr>\n",
       "  </tbody>\n",
       "</table>\n",
       "</div>"
      ],
      "text/plain": [
       "    Id  OwnerUserId          CreationDate  ParentId  Score  \\\n",
       "0   92         61.0  2008-08-01T14:45:37Z        90     13   \n",
       "1  124         26.0  2008-08-01T16:09:47Z        80     12   \n",
       "2  199         50.0  2008-08-01T19:36:46Z       180      1   \n",
       "3  269         91.0  2008-08-01T23:49:57Z       260      4   \n",
       "4  307         49.0  2008-08-02T01:49:46Z       260     28   \n",
       "\n",
       "                                                Body  \n",
       "0  <p><a href=\"http://svnbook.red-bean.com/\">Vers...  \n",
       "1  <p>I wound up using this. It is a kind of a ha...  \n",
       "2  <p>I've read somewhere the human eye can't dis...  \n",
       "3  <p>Yes, I thought about that, but I soon figur...  \n",
       "4  <p><a href=\"http://www.codeproject.com/Article...  "
      ]
     },
     "execution_count": 7,
     "metadata": {},
     "output_type": "execute_result"
    }
   ],
   "source": [
    "df_ans = pd.read_csv('./data/Answers.csv', encoding='ISO-8859-1')\n",
    "df_ans.head()"
   ]
  },
  {
   "cell_type": "code",
   "execution_count": 8,
   "metadata": {},
   "outputs": [
    {
     "name": "stdout",
     "output_type": "stream",
     "text": [
      "<class 'pandas.core.frame.DataFrame'>\n",
      "RangeIndex: 2014516 entries, 0 to 2014515\n",
      "Data columns (total 6 columns):\n",
      "Id              int64\n",
      "OwnerUserId     float64\n",
      "CreationDate    object\n",
      "ParentId        int64\n",
      "Score           int64\n",
      "Body            object\n",
      "dtypes: float64(1), int64(3), object(2)\n",
      "memory usage: 92.2+ MB\n"
     ]
    }
   ],
   "source": [
    "df_ans.info()"
   ]
  },
  {
   "cell_type": "code",
   "execution_count": 9,
   "metadata": {},
   "outputs": [
    {
     "name": "stdout",
     "output_type": "stream",
     "text": [
      "<class 'pandas.core.frame.DataFrame'>\n",
      "Int64Index: 18976 entries, 290 to 2014453\n",
      "Data columns (total 6 columns):\n",
      "Id              18976 non-null int64\n",
      "OwnerUserId     18862 non-null float64\n",
      "CreationDate    18976 non-null object\n",
      "ParentId        18976 non-null int64\n",
      "Score           18976 non-null int64\n",
      "Body            18976 non-null object\n",
      "dtypes: float64(1), int64(3), object(2)\n",
      "memory usage: 1.0+ MB\n"
     ]
    }
   ],
   "source": [
    "ids = df.Id.unique()\n",
    "df_ans = df_ans[df_ans.ParentId.isin(ids)]\n",
    "df_ans.info()"
   ]
  },
  {
   "cell_type": "markdown",
   "metadata": {},
   "source": [
    "We will clean the answers data frame using the same function as the questions data frame."
   ]
  },
  {
   "cell_type": "code",
   "execution_count": 10,
   "metadata": {},
   "outputs": [
    {
     "data": {
      "text/html": [
       "<div>\n",
       "<style>\n",
       "    .dataframe thead tr:only-child th {\n",
       "        text-align: right;\n",
       "    }\n",
       "\n",
       "    .dataframe thead th {\n",
       "        text-align: left;\n",
       "    }\n",
       "\n",
       "    .dataframe tbody tr th {\n",
       "        vertical-align: top;\n",
       "    }\n",
       "</style>\n",
       "<table border=\"1\" class=\"dataframe\">\n",
       "  <thead>\n",
       "    <tr style=\"text-align: right;\">\n",
       "      <th></th>\n",
       "      <th>Id</th>\n",
       "      <th>OwnerUserId</th>\n",
       "      <th>CreationDate</th>\n",
       "      <th>ParentId</th>\n",
       "      <th>Score</th>\n",
       "      <th>Body</th>\n",
       "      <th>Code</th>\n",
       "    </tr>\n",
       "  </thead>\n",
       "  <tbody>\n",
       "    <tr>\n",
       "      <th>290</th>\n",
       "      <td>8811</td>\n",
       "      <td>194.0</td>\n",
       "      <td>2008-08-12T13:20:55Z</td>\n",
       "      <td>8800</td>\n",
       "      <td>127</td>\n",
       "      <td>There is an actual Data Type called KeyValuePa...</td>\n",
       "      <td>KeyValuePair&lt;string, string&gt; myKeyValuePair = ...</td>\n",
       "    </tr>\n",
       "    <tr>\n",
       "      <th>291</th>\n",
       "      <td>8813</td>\n",
       "      <td>267.0</td>\n",
       "      <td>2008-08-12T13:22:01Z</td>\n",
       "      <td>8800</td>\n",
       "      <td>1</td>\n",
       "      <td>Dictionary Class is exactly what you want, cor...</td>\n",
       "      <td></td>\n",
       "    </tr>\n",
       "    <tr>\n",
       "      <th>292</th>\n",
       "      <td>8814</td>\n",
       "      <td>42.0</td>\n",
       "      <td>2008-08-12T13:23:27Z</td>\n",
       "      <td>8800</td>\n",
       "      <td>5</td>\n",
       "      <td>There is a KeyValuePair built-in type. As a ma...</td>\n",
       "      <td></td>\n",
       "    </tr>\n",
       "    <tr>\n",
       "      <th>293</th>\n",
       "      <td>8816</td>\n",
       "      <td>372.0</td>\n",
       "      <td>2008-08-12T13:25:12Z</td>\n",
       "      <td>8800</td>\n",
       "      <td>12</td>\n",
       "      <td>One possible thing you could do is use the Dic...</td>\n",
       "      <td>public class TokenTree : Dictionary&lt;string, st...</td>\n",
       "    </tr>\n",
       "    <tr>\n",
       "      <th>294</th>\n",
       "      <td>8818</td>\n",
       "      <td>267.0</td>\n",
       "      <td>2008-08-12T13:25:56Z</td>\n",
       "      <td>8800</td>\n",
       "      <td>2</td>\n",
       "      <td>@Jay Mooney: A generic Dictionary class in .NE...</td>\n",
       "      <td>foreach(object key in h.keys)\\n{\\n     string ...</td>\n",
       "    </tr>\n",
       "  </tbody>\n",
       "</table>\n",
       "</div>"
      ],
      "text/plain": [
       "       Id  OwnerUserId          CreationDate  ParentId  Score  \\\n",
       "290  8811        194.0  2008-08-12T13:20:55Z      8800    127   \n",
       "291  8813        267.0  2008-08-12T13:22:01Z      8800      1   \n",
       "292  8814         42.0  2008-08-12T13:23:27Z      8800      5   \n",
       "293  8816        372.0  2008-08-12T13:25:12Z      8800     12   \n",
       "294  8818        267.0  2008-08-12T13:25:56Z      8800      2   \n",
       "\n",
       "                                                  Body  \\\n",
       "290  There is an actual Data Type called KeyValuePa...   \n",
       "291  Dictionary Class is exactly what you want, cor...   \n",
       "292  There is a KeyValuePair built-in type. As a ma...   \n",
       "293  One possible thing you could do is use the Dic...   \n",
       "294  @Jay Mooney: A generic Dictionary class in .NE...   \n",
       "\n",
       "                                                  Code  \n",
       "290  KeyValuePair<string, string> myKeyValuePair = ...  \n",
       "291                                                     \n",
       "292                                                     \n",
       "293  public class TokenTree : Dictionary<string, st...  \n",
       "294  foreach(object key in h.keys)\\n{\\n     string ...  "
      ]
     },
     "execution_count": 10,
     "metadata": {},
     "output_type": "execute_result"
    }
   ],
   "source": [
    "as_list = df_ans.Body.tolist()\n",
    "body_list = []\n",
    "code_list = []\n",
    "for i in range(len(as_list)):\n",
    "    body_text, code_text = clean_html(as_list[i])\n",
    "    body_list.append(body_text)\n",
    "    code_list.append(code_text)\n",
    "\n",
    "# update body column\n",
    "df_ans = df_ans.assign(Body=body_list)\n",
    "# add code column\n",
    "df_ans = df_ans.assign(Code=code_list)\n",
    "df_ans.head()"
   ]
  },
  {
   "cell_type": "code",
   "execution_count": 11,
   "metadata": {
    "scrolled": false
   },
   "outputs": [
    {
     "data": {
      "text/html": [
       "<div>\n",
       "<style>\n",
       "    .dataframe thead tr:only-child th {\n",
       "        text-align: right;\n",
       "    }\n",
       "\n",
       "    .dataframe thead th {\n",
       "        text-align: left;\n",
       "    }\n",
       "\n",
       "    .dataframe tbody tr th {\n",
       "        vertical-align: top;\n",
       "    }\n",
       "</style>\n",
       "<table border=\"1\" class=\"dataframe\">\n",
       "  <thead>\n",
       "    <tr style=\"text-align: right;\">\n",
       "      <th></th>\n",
       "      <th>Id</th>\n",
       "      <th>OwnerUserId</th>\n",
       "      <th>CreationDate</th>\n",
       "      <th>ClosedDate</th>\n",
       "      <th>Score</th>\n",
       "      <th>Title</th>\n",
       "      <th>Body</th>\n",
       "      <th>Code</th>\n",
       "      <th>Durration</th>\n",
       "    </tr>\n",
       "  </thead>\n",
       "  <tbody>\n",
       "    <tr>\n",
       "      <th>1212819</th>\n",
       "      <td>38840540</td>\n",
       "      <td>4517895.0</td>\n",
       "      <td>2016-08-09T01:06:16Z</td>\n",
       "      <td>NaN</td>\n",
       "      <td>0</td>\n",
       "      <td>Using USYNCHRONIZED persistence context with H...</td>\n",
       "      <td>I'm trying to migrate application which uses u...</td>\n",
       "      <td>@PersistenceContext(type = PersistenceContextT...</td>\n",
       "      <td>1205.300000</td>\n",
       "    </tr>\n",
       "    <tr>\n",
       "      <th>117826</th>\n",
       "      <td>4812460</td>\n",
       "      <td>150062.0</td>\n",
       "      <td>2011-01-27T03:32:53Z</td>\n",
       "      <td>NaN</td>\n",
       "      <td>2</td>\n",
       "      <td>Combine three select queries?</td>\n",
       "      <td>I would like to combine these three sql querie...</td>\n",
       "      <td>SELECT homeupload, COUNT(*) FROM link GROUP BY...</td>\n",
       "      <td>4.933333</td>\n",
       "    </tr>\n",
       "    <tr>\n",
       "      <th>184545</th>\n",
       "      <td>7101540</td>\n",
       "      <td>45580.0</td>\n",
       "      <td>2011-08-18T01:50:03Z</td>\n",
       "      <td>NaN</td>\n",
       "      <td>0</td>\n",
       "      <td>Attach sameplerate or dmix ALSA plugin to OSS ...</td>\n",
       "      <td>I have an application in an embedded system th...</td>\n",
       "      <td></td>\n",
       "      <td>338.433333</td>\n",
       "    </tr>\n",
       "    <tr>\n",
       "      <th>935218</th>\n",
       "      <td>31152890</td>\n",
       "      <td>5068035.0</td>\n",
       "      <td>2015-07-01T05:04:02Z</td>\n",
       "      <td>NaN</td>\n",
       "      <td>1</td>\n",
       "      <td>Chrome Browser is not opening for running test...</td>\n",
       "      <td>I have setup of php zendframework , selenium. ...</td>\n",
       "      <td>/usr/bin/google-chrome --disable-background-ne...</td>\n",
       "      <td>141.150000</td>\n",
       "    </tr>\n",
       "    <tr>\n",
       "      <th>1197793</th>\n",
       "      <td>38442270</td>\n",
       "      <td>3822621.0</td>\n",
       "      <td>2016-07-18T16:59:29Z</td>\n",
       "      <td>NaN</td>\n",
       "      <td>0</td>\n",
       "      <td>Grep/Sed/Awk Trim text around IP address in sp...</td>\n",
       "      <td>I've been struggling with this issue for quite...</td>\n",
       "      <td>Built inbound ICMP connection for faddr [hostn...</td>\n",
       "      <td>88.283333</td>\n",
       "    </tr>\n",
       "  </tbody>\n",
       "</table>\n",
       "</div>"
      ],
      "text/plain": [
       "               Id  OwnerUserId          CreationDate ClosedDate  Score  \\\n",
       "1212819  38840540    4517895.0  2016-08-09T01:06:16Z        NaN      0   \n",
       "117826    4812460     150062.0  2011-01-27T03:32:53Z        NaN      2   \n",
       "184545    7101540      45580.0  2011-08-18T01:50:03Z        NaN      0   \n",
       "935218   31152890    5068035.0  2015-07-01T05:04:02Z        NaN      1   \n",
       "1197793  38442270    3822621.0  2016-07-18T16:59:29Z        NaN      0   \n",
       "\n",
       "                                                     Title  \\\n",
       "1212819  Using USYNCHRONIZED persistence context with H...   \n",
       "117826                       Combine three select queries?   \n",
       "184545   Attach sameplerate or dmix ALSA plugin to OSS ...   \n",
       "935218   Chrome Browser is not opening for running test...   \n",
       "1197793  Grep/Sed/Awk Trim text around IP address in sp...   \n",
       "\n",
       "                                                      Body  \\\n",
       "1212819  I'm trying to migrate application which uses u...   \n",
       "117826   I would like to combine these three sql querie...   \n",
       "184545   I have an application in an embedded system th...   \n",
       "935218   I have setup of php zendframework , selenium. ...   \n",
       "1197793  I've been struggling with this issue for quite...   \n",
       "\n",
       "                                                      Code    Durration  \n",
       "1212819  @PersistenceContext(type = PersistenceContextT...  1205.300000  \n",
       "117826   SELECT homeupload, COUNT(*) FROM link GROUP BY...     4.933333  \n",
       "184545                                                       338.433333  \n",
       "935218   /usr/bin/google-chrome --disable-background-ne...   141.150000  \n",
       "1197793  Built inbound ICMP connection for faddr [hostn...    88.283333  "
      ]
     },
     "execution_count": 11,
     "metadata": {},
     "output_type": "execute_result"
    }
   ],
   "source": [
    "# adapted from https://stackoverflow.com/questions/2788871/date-difference-in-minutes-in-python\n",
    "from datetime import datetime\n",
    "import time\n",
    "\n",
    "fmt = '%Y-%m-%dT%H:%M:%SZ'\n",
    "def get_minutes_diff(timestamp1, timestamp2):\n",
    "#     if np.isnan(x.ClosedDate):\n",
    "#         return np.nan\n",
    "    d1 = datetime.strptime(timestamp1, fmt)\n",
    "    d2 = datetime.strptime(timestamp2, fmt)\n",
    "    \n",
    "    # convert to unix timestamp\n",
    "    d1_ts = time.mktime(d1.timetuple())\n",
    "    d2_ts = time.mktime(d2.timetuple())\n",
    "    \n",
    "    # convert to minutes\n",
    "    return int(d2_ts - d1_ts) / 60\n",
    "\n",
    "durrations = []\n",
    "for i, row in df.iterrows():\n",
    "    answer = df_ans[ df_ans.ParentId == row.Id ]\n",
    "    answer = answer[ answer.Score == answer.Score.max() ]\n",
    "    answer_time = answer.CreationDate.values\n",
    "    if len(answer_time) > 0:\n",
    "        answer_time = answer_time[0]\n",
    "        df.loc[i, 'Durration'] = get_minutes_diff(row.CreationDate, \n",
    "                                                  answer_time)\n",
    "\n",
    "df.head()"
   ]
  },
  {
   "cell_type": "markdown",
   "metadata": {},
   "source": [
    "Save the cleaned data to a persistance file."
   ]
  },
  {
   "cell_type": "code",
   "execution_count": 13,
   "metadata": {
    "collapsed": true
   },
   "outputs": [],
   "source": [
    "df.to_csv('./clean-data/Questions.csv', sep=',')\n",
    "df_ans.to_csv('./clean-data/Answers.csv', sep=',')"
   ]
  },
  {
   "cell_type": "markdown",
   "metadata": {},
   "source": [
    "## Data Visualization"
   ]
  },
  {
   "cell_type": "code",
   "execution_count": 14,
   "metadata": {
    "collapsed": true
   },
   "outputs": [],
   "source": [
    "df = pd.read_csv('./clean-data/Questions.csv')\n",
    "df_ans = pd.read_csv('./clean-data/Answers.csv')"
   ]
  },
  {
   "cell_type": "code",
   "execution_count": 6,
   "metadata": {
    "collapsed": true
   },
   "outputs": [],
   "source": [
    "from sklearn.feature_extraction.text import CountVectorizer\n",
    "count_vect = CountVectorizer(stop_words='english')\n",
    "bag_words = count_vect.fit_transform(df.Title.tolist())"
   ]
  },
  {
   "cell_type": "code",
   "execution_count": 7,
   "metadata": {},
   "outputs": [
    {
     "data": {
      "text/plain": [
       "10158"
      ]
     },
     "execution_count": 7,
     "metadata": {},
     "output_type": "execute_result"
    }
   ],
   "source": [
    "len(count_vect.vocabulary_)"
   ]
  },
  {
   "cell_type": "code",
   "execution_count": 8,
   "metadata": {
    "collapsed": true
   },
   "outputs": [],
   "source": [
    "df_title = pd.DataFrame(data=bag_words.toarray(), \n",
    "                        columns=count_vect.get_feature_names())"
   ]
  },
  {
   "cell_type": "code",
   "execution_count": 9,
   "metadata": {},
   "outputs": [
    {
     "data": {
      "text/plain": [
       "function    318\n",
       "value       323\n",
       "php         356\n",
       "java        377\n",
       "jquery      379\n",
       "error       475\n",
       "data        476\n",
       "android     479\n",
       "file        529\n",
       "using       890\n",
       "dtype: int64"
      ]
     },
     "execution_count": 9,
     "metadata": {},
     "output_type": "execute_result"
    }
   ],
   "source": [
    "# print 10 most common words\n",
    "df_title.sum().sort_values()[-10:]"
   ]
  },
  {
   "cell_type": "code",
   "execution_count": null,
   "metadata": {
    "collapsed": true
   },
   "outputs": [],
   "source": []
  }
 ],
 "metadata": {
  "kernelspec": {
   "display_name": "Python [conda env:MLEnv]",
   "language": "python",
   "name": "conda-env-MLEnv-py"
  },
  "language_info": {
   "codemirror_mode": {
    "name": "ipython",
    "version": 3
   },
   "file_extension": ".py",
   "mimetype": "text/x-python",
   "name": "python",
   "nbconvert_exporter": "python",
   "pygments_lexer": "ipython3",
   "version": "3.6.2"
  }
 },
 "nbformat": 4,
 "nbformat_minor": 2
}
