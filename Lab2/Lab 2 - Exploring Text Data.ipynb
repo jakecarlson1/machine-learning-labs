{
 "cells": [
  {
   "cell_type": "markdown",
   "metadata": {},
   "source": [
    "# Lab 2 - Exploring Text Data\n",
    "\n",
    "### Eric Smith and Jake Carlson\n",
    "\n",
    "## Introduction\n",
    "For this lab we will be examining questions and answers on the popular programming Q&A website, Stack Overflow. Stack Overflow allows programmers who are stuck on a problem ask the community about ways to resolve or circumvent said problem. This helps people write more accurate code faster. However, the community can be pretty hard on those who do not fully understand their question or are disrespectful. It could also be the case that the few developers who have experience with a problem similar to yours are not on the website when you post your question. If too much time passes, your post may be burried forever. This makes for some interesing questions. When should you make your post so that it has the highest chance of being answered? Are there specific keywords or phasing that encourage other programmers to answer your questions? Are there specific languages that have their questions answered faster than others? These are questions we will be exploring int his lab.\n",
    "\n",
    "## Business Understanding\n",
    "\n",
    "### Motivations\n",
    "Stack Overflow is a go-to resource for developers. Questions are often distilled down to a single block of code that is easily digestible, and can be matched to the question you came to the site for. However, if you're truly stuck on something, it can seem like an eternity of waiting before someone responds to your question, and sometimes, it may not be answered at all. If you're working in industry and spending a lot of time waiting for a question to be answered, you could fall behind schedule and miss deadlines. These delays could cost your company a great deal in lost revenue and tech debt. Therefore, accurately predicting the amount of time to get a question answered can be seen as a valuable project management tool.\n",
    "\n",
    "### Objectives\n",
    "It would be useful if you could predict how quickly your question will be answered if you post it at various times through out the day. For a prediction tool like this to be useful, we want something that is 80-95% accurate in predicting when a question will be answered by. As a project manager, you want your developers to be asking questions that are concise and respectful. Therefore, a tool that could recommend keywords to add to your post to make it more attractive, and provide you with approximate gains in time for reformatting, would also be a valuable project management tool.\n",
    "\n",
    "## Data Understanding\n",
    "\n",
    "### Data Attributes\n",
    "The following is a list of attributes in the data, their data types, and a brief description of the attribute.\n",
    "\n",
    "#### Questions\n",
    "- **Id** (nominal): A unique identifier for each question\n",
    "- **OwnerUserId** (nominal): A unique identifier for the person who posted the question\n",
    "- **CreationDate** (ordinal): A timestamp of when the question was posted\n",
    "- **ClosedDare** (ordinal): A timestamp of when the question was closed, if the question wasn't closed this field is NaN\n",
    "- **Score** (ordinal): ratio?? The number of upvotes a post has\n",
    "- **Title** (text): A title for the question\n",
    "- **Body** (text): The question body\n",
    "\n",
    "#### Answers\n",
    "- **Id** (nominal): A unique identifier for each answer\n",
    "- **OwnerUserId** (nominal): A unique identifier for the person who posted the answer\n",
    "- **CreationDate** (ordinal): A timestamp of when the answer was posted\n",
    "- **ParentId** (nominal): The unique identifier of the question this answer is for\n",
    "- **Score** (ordinal): ratio?? The number of upvotes an answer has\n",
    "- **Body** (text): The answer body\n",
    "\n",
    "\n",
    "## Data Quality\n",
    "Our data it too big, so we will take a rendom subsample of 40% of the original data set."
   ]
  },
  {
   "cell_type": "code",
   "execution_count": 56,
   "metadata": {
    "collapsed": true
   },
   "outputs": [],
   "source": [
    "import numpy as np\n",
    "import pandas as pd"
   ]
  },
  {
   "cell_type": "code",
   "execution_count": 57,
   "metadata": {
    "collapsed": true
   },
   "outputs": [],
   "source": [
    "# read data\n",
    "df = pd.read_csv('./data/Questions.csv', encoding='ISO-8859-1')"
   ]
  },
  {
   "cell_type": "code",
   "execution_count": 58,
   "metadata": {},
   "outputs": [
    {
     "data": {
      "text/html": [
       "<div>\n",
       "<style>\n",
       "    .dataframe thead tr:only-child th {\n",
       "        text-align: right;\n",
       "    }\n",
       "\n",
       "    .dataframe thead th {\n",
       "        text-align: left;\n",
       "    }\n",
       "\n",
       "    .dataframe tbody tr th {\n",
       "        vertical-align: top;\n",
       "    }\n",
       "</style>\n",
       "<table border=\"1\" class=\"dataframe\">\n",
       "  <thead>\n",
       "    <tr style=\"text-align: right;\">\n",
       "      <th></th>\n",
       "      <th>Id</th>\n",
       "      <th>OwnerUserId</th>\n",
       "      <th>CreationDate</th>\n",
       "      <th>ClosedDate</th>\n",
       "      <th>Score</th>\n",
       "      <th>Title</th>\n",
       "      <th>Body</th>\n",
       "    </tr>\n",
       "  </thead>\n",
       "  <tbody>\n",
       "    <tr>\n",
       "      <th>0</th>\n",
       "      <td>80</td>\n",
       "      <td>26.0</td>\n",
       "      <td>2008-08-01T13:57:07Z</td>\n",
       "      <td>NaN</td>\n",
       "      <td>26</td>\n",
       "      <td>SQLStatement.execute() - multiple queries in o...</td>\n",
       "      <td>&lt;p&gt;I've written a database generation script i...</td>\n",
       "    </tr>\n",
       "    <tr>\n",
       "      <th>1</th>\n",
       "      <td>90</td>\n",
       "      <td>58.0</td>\n",
       "      <td>2008-08-01T14:41:24Z</td>\n",
       "      <td>2012-12-26T03:45:49Z</td>\n",
       "      <td>144</td>\n",
       "      <td>Good branching and merging tutorials for Torto...</td>\n",
       "      <td>&lt;p&gt;Are there any really good tutorials explain...</td>\n",
       "    </tr>\n",
       "    <tr>\n",
       "      <th>2</th>\n",
       "      <td>120</td>\n",
       "      <td>83.0</td>\n",
       "      <td>2008-08-01T15:50:08Z</td>\n",
       "      <td>NaN</td>\n",
       "      <td>21</td>\n",
       "      <td>ASP.NET Site Maps</td>\n",
       "      <td>&lt;p&gt;Has anyone got experience creating &lt;strong&gt;...</td>\n",
       "    </tr>\n",
       "    <tr>\n",
       "      <th>3</th>\n",
       "      <td>180</td>\n",
       "      <td>2089740.0</td>\n",
       "      <td>2008-08-01T18:42:19Z</td>\n",
       "      <td>NaN</td>\n",
       "      <td>53</td>\n",
       "      <td>Function for creating color wheels</td>\n",
       "      <td>&lt;p&gt;This is something I've pseudo-solved many t...</td>\n",
       "    </tr>\n",
       "    <tr>\n",
       "      <th>4</th>\n",
       "      <td>260</td>\n",
       "      <td>91.0</td>\n",
       "      <td>2008-08-01T23:22:08Z</td>\n",
       "      <td>NaN</td>\n",
       "      <td>49</td>\n",
       "      <td>Adding scripting functionality to .NET applica...</td>\n",
       "      <td>&lt;p&gt;I have a little game written in C#. It uses...</td>\n",
       "    </tr>\n",
       "  </tbody>\n",
       "</table>\n",
       "</div>"
      ],
      "text/plain": [
       "    Id  OwnerUserId          CreationDate            ClosedDate  Score  \\\n",
       "0   80         26.0  2008-08-01T13:57:07Z                   NaN     26   \n",
       "1   90         58.0  2008-08-01T14:41:24Z  2012-12-26T03:45:49Z    144   \n",
       "2  120         83.0  2008-08-01T15:50:08Z                   NaN     21   \n",
       "3  180    2089740.0  2008-08-01T18:42:19Z                   NaN     53   \n",
       "4  260         91.0  2008-08-01T23:22:08Z                   NaN     49   \n",
       "\n",
       "                                               Title  \\\n",
       "0  SQLStatement.execute() - multiple queries in o...   \n",
       "1  Good branching and merging tutorials for Torto...   \n",
       "2                                  ASP.NET Site Maps   \n",
       "3                 Function for creating color wheels   \n",
       "4  Adding scripting functionality to .NET applica...   \n",
       "\n",
       "                                                Body  \n",
       "0  <p>I've written a database generation script i...  \n",
       "1  <p>Are there any really good tutorials explain...  \n",
       "2  <p>Has anyone got experience creating <strong>...  \n",
       "3  <p>This is something I've pseudo-solved many t...  \n",
       "4  <p>I have a little game written in C#. It uses...  "
      ]
     },
     "execution_count": 58,
     "metadata": {},
     "output_type": "execute_result"
    }
   ],
   "source": [
    "df.head()"
   ]
  },
  {
   "cell_type": "code",
   "execution_count": 59,
   "metadata": {},
   "outputs": [
    {
     "name": "stdout",
     "output_type": "stream",
     "text": [
      "<class 'pandas.core.frame.DataFrame'>\n",
      "RangeIndex: 1264216 entries, 0 to 1264215\n",
      "Data columns (total 7 columns):\n",
      "Id              1264216 non-null int64\n",
      "OwnerUserId     1249762 non-null float64\n",
      "CreationDate    1264216 non-null object\n",
      "ClosedDate      55959 non-null object\n",
      "Score           1264216 non-null int64\n",
      "Title           1264216 non-null object\n",
      "Body            1264216 non-null object\n",
      "dtypes: float64(1), int64(2), object(4)\n",
      "memory usage: 67.5+ MB\n"
     ]
    }
   ],
   "source": [
    "df.info()"
   ]
  },
  {
   "cell_type": "markdown",
   "metadata": {},
   "source": [
    "Trial and error has shown us that 1,264,000 elements is too many to work with. Therefore, we will use a random sample to reduce our data set size to 12,000 elements."
   ]
  },
  {
   "cell_type": "code",
   "execution_count": 60,
   "metadata": {},
   "outputs": [
    {
     "name": "stdout",
     "output_type": "stream",
     "text": [
      "<class 'pandas.core.frame.DataFrame'>\n",
      "Int64Index: 12000 entries, 524616 to 859010\n",
      "Data columns (total 7 columns):\n",
      "Id              12000 non-null int64\n",
      "OwnerUserId     11881 non-null float64\n",
      "CreationDate    12000 non-null object\n",
      "ClosedDate      530 non-null object\n",
      "Score           12000 non-null int64\n",
      "Title           12000 non-null object\n",
      "Body            12000 non-null object\n",
      "dtypes: float64(1), int64(2), object(4)\n",
      "memory usage: 750.0+ KB\n"
     ]
    }
   ],
   "source": [
    "df = df.sample(n=12000, replace=True)\n",
    "df.info()"
   ]
  },
  {
   "cell_type": "markdown",
   "metadata": {},
   "source": [
    "The body of each question is formatted in HTML, so we will need to parse through each body and remove the HTML tags. We also need to replace HTML entities with their character representations. Finally, many questions have accompanying code blocks, so we will parse out the code blocks into a new attribute for each entry."
   ]
  },
  {
   "cell_type": "code",
   "execution_count": 61,
   "metadata": {},
   "outputs": [
    {
     "data": {
      "text/html": [
       "<div>\n",
       "<style>\n",
       "    .dataframe thead tr:only-child th {\n",
       "        text-align: right;\n",
       "    }\n",
       "\n",
       "    .dataframe thead th {\n",
       "        text-align: left;\n",
       "    }\n",
       "\n",
       "    .dataframe tbody tr th {\n",
       "        vertical-align: top;\n",
       "    }\n",
       "</style>\n",
       "<table border=\"1\" class=\"dataframe\">\n",
       "  <thead>\n",
       "    <tr style=\"text-align: right;\">\n",
       "      <th></th>\n",
       "      <th>Id</th>\n",
       "      <th>OwnerUserId</th>\n",
       "      <th>CreationDate</th>\n",
       "      <th>ClosedDate</th>\n",
       "      <th>Score</th>\n",
       "      <th>Title</th>\n",
       "      <th>Body</th>\n",
       "      <th>Code</th>\n",
       "    </tr>\n",
       "  </thead>\n",
       "  <tbody>\n",
       "    <tr>\n",
       "      <th>524616</th>\n",
       "      <td>18215830</td>\n",
       "      <td>2336599.0</td>\n",
       "      <td>2013-08-13T17:46:39Z</td>\n",
       "      <td>NaN</td>\n",
       "      <td>0</td>\n",
       "      <td>Using Scanner to read an object from a file</td>\n",
       "      <td>Am trying to read an object from a text file u...</td>\n",
       "      <td>//writing object to the file using printwrite...</td>\n",
       "    </tr>\n",
       "    <tr>\n",
       "      <th>454060</th>\n",
       "      <td>15919240</td>\n",
       "      <td>1578199.0</td>\n",
       "      <td>2013-04-10T07:10:31Z</td>\n",
       "      <td>NaN</td>\n",
       "      <td>0</td>\n",
       "      <td>how to set Calendar with variable</td>\n",
       "      <td>I have a set calendar to set week of month in ...</td>\n",
       "      <td>Long date1 = cursor.getLong(12); // first I lo...</td>\n",
       "    </tr>\n",
       "    <tr>\n",
       "      <th>1128647</th>\n",
       "      <td>36600610</td>\n",
       "      <td>1772640.0</td>\n",
       "      <td>2016-04-13T13:54:00Z</td>\n",
       "      <td>NaN</td>\n",
       "      <td>3</td>\n",
       "      <td>Exception Handling within Exception Handling</td>\n",
       "      <td>What is the best practice for exception handli...</td>\n",
       "      <td>public void DoSomeStuff(string sGUID)\\n   ...</td>\n",
       "    </tr>\n",
       "    <tr>\n",
       "      <th>1164345</th>\n",
       "      <td>37554500</td>\n",
       "      <td>6406356.0</td>\n",
       "      <td>2016-05-31T19:52:46Z</td>\n",
       "      <td>NaN</td>\n",
       "      <td>0</td>\n",
       "      <td>file name is variable - does not write to file</td>\n",
       "      <td>I have a large file about some populations (co...</td>\n",
       "      <td>for item in d: # d is a set to hold the popula...</td>\n",
       "    </tr>\n",
       "    <tr>\n",
       "      <th>631142</th>\n",
       "      <td>21694580</td>\n",
       "      <td>3214052.0</td>\n",
       "      <td>2014-02-11T06:20:53Z</td>\n",
       "      <td>NaN</td>\n",
       "      <td>1</td>\n",
       "      <td>posting ASP.net MVC form having Kendoui widget...</td>\n",
       "      <td>I am developing my ASp.net MVC application usi...</td>\n",
       "      <td>public class Faculties\\n{\\n    public int Facu...</td>\n",
       "    </tr>\n",
       "  </tbody>\n",
       "</table>\n",
       "</div>"
      ],
      "text/plain": [
       "               Id  OwnerUserId          CreationDate ClosedDate  Score  \\\n",
       "524616   18215830    2336599.0  2013-08-13T17:46:39Z        NaN      0   \n",
       "454060   15919240    1578199.0  2013-04-10T07:10:31Z        NaN      0   \n",
       "1128647  36600610    1772640.0  2016-04-13T13:54:00Z        NaN      3   \n",
       "1164345  37554500    6406356.0  2016-05-31T19:52:46Z        NaN      0   \n",
       "631142   21694580    3214052.0  2014-02-11T06:20:53Z        NaN      1   \n",
       "\n",
       "                                                     Title  \\\n",
       "524616         Using Scanner to read an object from a file   \n",
       "454060                   how to set Calendar with variable   \n",
       "1128647       Exception Handling within Exception Handling   \n",
       "1164345     file name is variable - does not write to file   \n",
       "631142   posting ASP.net MVC form having Kendoui widget...   \n",
       "\n",
       "                                                      Body  \\\n",
       "524616   Am trying to read an object from a text file u...   \n",
       "454060   I have a set calendar to set week of month in ...   \n",
       "1128647  What is the best practice for exception handli...   \n",
       "1164345  I have a large file about some populations (co...   \n",
       "631142   I am developing my ASp.net MVC application usi...   \n",
       "\n",
       "                                                      Code  \n",
       "524616    //writing object to the file using printwrite...  \n",
       "454060   Long date1 = cursor.getLong(12); // first I lo...  \n",
       "1128647      public void DoSomeStuff(string sGUID)\\n   ...  \n",
       "1164345  for item in d: # d is a set to hold the popula...  \n",
       "631142   public class Faculties\\n{\\n    public int Facu...  "
      ]
     },
     "execution_count": 61,
     "metadata": {},
     "output_type": "execute_result"
    }
   ],
   "source": [
    "from bs4 import BeautifulSoup\n",
    "import html\n",
    "import re\n",
    "\n",
    "# compile regexes\n",
    "tag_re = re.compile('<[^<]+?>')\n",
    "newline_re = re.compile('\\n+')\n",
    "\n",
    "def clean_html(body_text):\n",
    "    soup = BeautifulSoup(body_text, 'html.parser')\n",
    "    code_tags = soup.findAll('code')\n",
    "    code_text = \"\"\n",
    "    \n",
    "    # unescape html entities\n",
    "    body_text = html.unescape(body_text)\n",
    "    \n",
    "    # remove code blocks, saving blocks to new string\n",
    "    for c in code_tags:\n",
    "        body_text = body_text.replace(\"<code>{}</code>\".format(c.string),\n",
    "                                      '')\n",
    "        if c.string:\n",
    "            code_text += c.string\n",
    "\n",
    "    # remove remaining tags and multiple newlines\n",
    "    body_text = tag_re.sub('', body_text)\n",
    "    body_text = newline_re.sub('\\n', body_text)\n",
    "    \n",
    "    return body_text, code_text\n",
    "\n",
    "as_list = df.Body.tolist()\n",
    "body_list = []\n",
    "code_list = []\n",
    "for i in range(len(as_list)):\n",
    "    body_text, code_text = clean_html(as_list[i])\n",
    "    body_list.append(body_text)\n",
    "    code_list.append(code_text)\n",
    "\n",
    "# update body column\n",
    "df = df.assign(Body=body_list)\n",
    "# add code column\n",
    "df = df.assign(Code=code_list)\n",
    "df.head()"
   ]
  },
  {
   "cell_type": "markdown",
   "metadata": {},
   "source": [
    "With the HTML tags removed and the code isolated, the question body is much cleaner. Now lets add another column for the time in minutes it took to get the question answered. For this value, we will look for the highest rated answer for each question and use the time when that answer was posted."
   ]
  },
  {
   "cell_type": "code",
   "execution_count": 62,
   "metadata": {},
   "outputs": [
    {
     "data": {
      "text/html": [
       "<div>\n",
       "<style>\n",
       "    .dataframe thead tr:only-child th {\n",
       "        text-align: right;\n",
       "    }\n",
       "\n",
       "    .dataframe thead th {\n",
       "        text-align: left;\n",
       "    }\n",
       "\n",
       "    .dataframe tbody tr th {\n",
       "        vertical-align: top;\n",
       "    }\n",
       "</style>\n",
       "<table border=\"1\" class=\"dataframe\">\n",
       "  <thead>\n",
       "    <tr style=\"text-align: right;\">\n",
       "      <th></th>\n",
       "      <th>Id</th>\n",
       "      <th>OwnerUserId</th>\n",
       "      <th>CreationDate</th>\n",
       "      <th>ParentId</th>\n",
       "      <th>Score</th>\n",
       "      <th>Body</th>\n",
       "    </tr>\n",
       "  </thead>\n",
       "  <tbody>\n",
       "    <tr>\n",
       "      <th>0</th>\n",
       "      <td>92</td>\n",
       "      <td>61.0</td>\n",
       "      <td>2008-08-01T14:45:37Z</td>\n",
       "      <td>90</td>\n",
       "      <td>13</td>\n",
       "      <td>&lt;p&gt;&lt;a href=\"http://svnbook.red-bean.com/\"&gt;Vers...</td>\n",
       "    </tr>\n",
       "    <tr>\n",
       "      <th>1</th>\n",
       "      <td>124</td>\n",
       "      <td>26.0</td>\n",
       "      <td>2008-08-01T16:09:47Z</td>\n",
       "      <td>80</td>\n",
       "      <td>12</td>\n",
       "      <td>&lt;p&gt;I wound up using this. It is a kind of a ha...</td>\n",
       "    </tr>\n",
       "    <tr>\n",
       "      <th>2</th>\n",
       "      <td>199</td>\n",
       "      <td>50.0</td>\n",
       "      <td>2008-08-01T19:36:46Z</td>\n",
       "      <td>180</td>\n",
       "      <td>1</td>\n",
       "      <td>&lt;p&gt;I've read somewhere the human eye can't dis...</td>\n",
       "    </tr>\n",
       "    <tr>\n",
       "      <th>3</th>\n",
       "      <td>269</td>\n",
       "      <td>91.0</td>\n",
       "      <td>2008-08-01T23:49:57Z</td>\n",
       "      <td>260</td>\n",
       "      <td>4</td>\n",
       "      <td>&lt;p&gt;Yes, I thought about that, but I soon figur...</td>\n",
       "    </tr>\n",
       "    <tr>\n",
       "      <th>4</th>\n",
       "      <td>307</td>\n",
       "      <td>49.0</td>\n",
       "      <td>2008-08-02T01:49:46Z</td>\n",
       "      <td>260</td>\n",
       "      <td>28</td>\n",
       "      <td>&lt;p&gt;&lt;a href=\"http://www.codeproject.com/Article...</td>\n",
       "    </tr>\n",
       "  </tbody>\n",
       "</table>\n",
       "</div>"
      ],
      "text/plain": [
       "    Id  OwnerUserId          CreationDate  ParentId  Score  \\\n",
       "0   92         61.0  2008-08-01T14:45:37Z        90     13   \n",
       "1  124         26.0  2008-08-01T16:09:47Z        80     12   \n",
       "2  199         50.0  2008-08-01T19:36:46Z       180      1   \n",
       "3  269         91.0  2008-08-01T23:49:57Z       260      4   \n",
       "4  307         49.0  2008-08-02T01:49:46Z       260     28   \n",
       "\n",
       "                                                Body  \n",
       "0  <p><a href=\"http://svnbook.red-bean.com/\">Vers...  \n",
       "1  <p>I wound up using this. It is a kind of a ha...  \n",
       "2  <p>I've read somewhere the human eye can't dis...  \n",
       "3  <p>Yes, I thought about that, but I soon figur...  \n",
       "4  <p><a href=\"http://www.codeproject.com/Article...  "
      ]
     },
     "execution_count": 62,
     "metadata": {},
     "output_type": "execute_result"
    }
   ],
   "source": [
    "df_ans = pd.read_csv('./data/Answers.csv', encoding='ISO-8859-1')\n",
    "df_ans.head()"
   ]
  },
  {
   "cell_type": "code",
   "execution_count": 63,
   "metadata": {},
   "outputs": [
    {
     "name": "stdout",
     "output_type": "stream",
     "text": [
      "<class 'pandas.core.frame.DataFrame'>\n",
      "RangeIndex: 2014516 entries, 0 to 2014515\n",
      "Data columns (total 6 columns):\n",
      "Id              int64\n",
      "OwnerUserId     float64\n",
      "CreationDate    object\n",
      "ParentId        int64\n",
      "Score           int64\n",
      "Body            object\n",
      "dtypes: float64(1), int64(3), object(2)\n",
      "memory usage: 92.2+ MB\n"
     ]
    }
   ],
   "source": [
    "df_ans.info()"
   ]
  },
  {
   "cell_type": "code",
   "execution_count": 64,
   "metadata": {},
   "outputs": [
    {
     "name": "stdout",
     "output_type": "stream",
     "text": [
      "<class 'pandas.core.frame.DataFrame'>\n",
      "Int64Index: 19075 entries, 571 to 2014399\n",
      "Data columns (total 6 columns):\n",
      "Id              19075 non-null int64\n",
      "OwnerUserId     18939 non-null float64\n",
      "CreationDate    19075 non-null object\n",
      "ParentId        19075 non-null int64\n",
      "Score           19075 non-null int64\n",
      "Body            19075 non-null object\n",
      "dtypes: float64(1), int64(3), object(2)\n",
      "memory usage: 1.0+ MB\n"
     ]
    }
   ],
   "source": [
    "ids = df.Id.unique()\n",
    "df_ans = df_ans[df_ans.ParentId.isin(ids)]\n",
    "df_ans.info()"
   ]
  },
  {
   "cell_type": "markdown",
   "metadata": {},
   "source": [
    "We will clean the answers data frame using the same function as the questions data frame."
   ]
  },
  {
   "cell_type": "code",
   "execution_count": 65,
   "metadata": {},
   "outputs": [
    {
     "data": {
      "text/html": [
       "<div>\n",
       "<style>\n",
       "    .dataframe thead tr:only-child th {\n",
       "        text-align: right;\n",
       "    }\n",
       "\n",
       "    .dataframe thead th {\n",
       "        text-align: left;\n",
       "    }\n",
       "\n",
       "    .dataframe tbody tr th {\n",
       "        vertical-align: top;\n",
       "    }\n",
       "</style>\n",
       "<table border=\"1\" class=\"dataframe\">\n",
       "  <thead>\n",
       "    <tr style=\"text-align: right;\">\n",
       "      <th></th>\n",
       "      <th>Id</th>\n",
       "      <th>OwnerUserId</th>\n",
       "      <th>CreationDate</th>\n",
       "      <th>ParentId</th>\n",
       "      <th>Score</th>\n",
       "      <th>Body</th>\n",
       "      <th>Code</th>\n",
       "    </tr>\n",
       "  </thead>\n",
       "  <tbody>\n",
       "    <tr>\n",
       "      <th>571</th>\n",
       "      <td>14313</td>\n",
       "      <td>615.0</td>\n",
       "      <td>2008-08-18T08:10:30Z</td>\n",
       "      <td>14300</td>\n",
       "      <td>23</td>\n",
       "      <td>Drop into a cmd instance (or indeed PowerShell...</td>\n",
       "      <td>powershell -?\\n</td>\n",
       "    </tr>\n",
       "    <tr>\n",
       "      <th>874</th>\n",
       "      <td>22835</td>\n",
       "      <td>NaN</td>\n",
       "      <td>2008-08-22T16:47:52Z</td>\n",
       "      <td>22340</td>\n",
       "      <td>1</td>\n",
       "      <td>In most firewall setups, the TCP connection wi...</td>\n",
       "      <td></td>\n",
       "    </tr>\n",
       "    <tr>\n",
       "      <th>1820</th>\n",
       "      <td>39257</td>\n",
       "      <td>1196.0</td>\n",
       "      <td>2008-09-02T11:26:10Z</td>\n",
       "      <td>39240</td>\n",
       "      <td>0</td>\n",
       "      <td>First of all you need to define what article s...</td>\n",
       "      <td>-- Assuming @Title contains title of current a...</td>\n",
       "    </tr>\n",
       "    <tr>\n",
       "      <th>1821</th>\n",
       "      <td>39270</td>\n",
       "      <td>3221.0</td>\n",
       "      <td>2008-09-02T11:32:13Z</td>\n",
       "      <td>39240</td>\n",
       "      <td>0</td>\n",
       "      <td>I think the question is what 'similar' means t...</td>\n",
       "      <td></td>\n",
       "    </tr>\n",
       "    <tr>\n",
       "      <th>1823</th>\n",
       "      <td>39316</td>\n",
       "      <td>383.0</td>\n",
       "      <td>2008-09-02T11:52:02Z</td>\n",
       "      <td>39240</td>\n",
       "      <td>1</td>\n",
       "      <td>Something like this might work, a kind of rank...</td>\n",
       "      <td>Select\\nTop 10\\nArticleID,\\nArticleTitle,\\nArt...</td>\n",
       "    </tr>\n",
       "  </tbody>\n",
       "</table>\n",
       "</div>"
      ],
      "text/plain": [
       "         Id  OwnerUserId          CreationDate  ParentId  Score  \\\n",
       "571   14313        615.0  2008-08-18T08:10:30Z     14300     23   \n",
       "874   22835          NaN  2008-08-22T16:47:52Z     22340      1   \n",
       "1820  39257       1196.0  2008-09-02T11:26:10Z     39240      0   \n",
       "1821  39270       3221.0  2008-09-02T11:32:13Z     39240      0   \n",
       "1823  39316        383.0  2008-09-02T11:52:02Z     39240      1   \n",
       "\n",
       "                                                   Body  \\\n",
       "571   Drop into a cmd instance (or indeed PowerShell...   \n",
       "874   In most firewall setups, the TCP connection wi...   \n",
       "1820  First of all you need to define what article s...   \n",
       "1821  I think the question is what 'similar' means t...   \n",
       "1823  Something like this might work, a kind of rank...   \n",
       "\n",
       "                                                   Code  \n",
       "571                                     powershell -?\\n  \n",
       "874                                                      \n",
       "1820  -- Assuming @Title contains title of current a...  \n",
       "1821                                                     \n",
       "1823  Select\\nTop 10\\nArticleID,\\nArticleTitle,\\nArt...  "
      ]
     },
     "execution_count": 65,
     "metadata": {},
     "output_type": "execute_result"
    }
   ],
   "source": [
    "as_list = df_ans.Body.tolist()\n",
    "body_list = []\n",
    "code_list = []\n",
    "for i in range(len(as_list)):\n",
    "    body_text, code_text = clean_html(as_list[i])\n",
    "    body_list.append(body_text)\n",
    "    code_list.append(code_text)\n",
    "\n",
    "# update body column\n",
    "df_ans = df_ans.assign(Body=body_list)\n",
    "# add code column\n",
    "df_ans = df_ans.assign(Code=code_list)\n",
    "df_ans.head()"
   ]
  },
  {
   "cell_type": "code",
   "execution_count": 66,
   "metadata": {
    "scrolled": false
   },
   "outputs": [
    {
     "data": {
      "text/html": [
       "<div>\n",
       "<style>\n",
       "    .dataframe thead tr:only-child th {\n",
       "        text-align: right;\n",
       "    }\n",
       "\n",
       "    .dataframe thead th {\n",
       "        text-align: left;\n",
       "    }\n",
       "\n",
       "    .dataframe tbody tr th {\n",
       "        vertical-align: top;\n",
       "    }\n",
       "</style>\n",
       "<table border=\"1\" class=\"dataframe\">\n",
       "  <thead>\n",
       "    <tr style=\"text-align: right;\">\n",
       "      <th></th>\n",
       "      <th>Id</th>\n",
       "      <th>OwnerUserId</th>\n",
       "      <th>CreationDate</th>\n",
       "      <th>ClosedDate</th>\n",
       "      <th>Score</th>\n",
       "      <th>Title</th>\n",
       "      <th>Body</th>\n",
       "      <th>Code</th>\n",
       "      <th>Duration</th>\n",
       "    </tr>\n",
       "  </thead>\n",
       "  <tbody>\n",
       "    <tr>\n",
       "      <th>524616</th>\n",
       "      <td>18215830</td>\n",
       "      <td>2336599.0</td>\n",
       "      <td>2013-08-13T17:46:39Z</td>\n",
       "      <td>NaN</td>\n",
       "      <td>0</td>\n",
       "      <td>Using Scanner to read an object from a file</td>\n",
       "      <td>Am trying to read an object from a text file u...</td>\n",
       "      <td>//writing object to the file using printwrite...</td>\n",
       "      <td>16.850000</td>\n",
       "    </tr>\n",
       "    <tr>\n",
       "      <th>454060</th>\n",
       "      <td>15919240</td>\n",
       "      <td>1578199.0</td>\n",
       "      <td>2013-04-10T07:10:31Z</td>\n",
       "      <td>NaN</td>\n",
       "      <td>0</td>\n",
       "      <td>how to set Calendar with variable</td>\n",
       "      <td>I have a set calendar to set week of month in ...</td>\n",
       "      <td>Long date1 = cursor.getLong(12); // first I lo...</td>\n",
       "      <td>24.216667</td>\n",
       "    </tr>\n",
       "    <tr>\n",
       "      <th>1128647</th>\n",
       "      <td>36600610</td>\n",
       "      <td>1772640.0</td>\n",
       "      <td>2016-04-13T13:54:00Z</td>\n",
       "      <td>NaN</td>\n",
       "      <td>3</td>\n",
       "      <td>Exception Handling within Exception Handling</td>\n",
       "      <td>What is the best practice for exception handli...</td>\n",
       "      <td>public void DoSomeStuff(string sGUID)\\n   ...</td>\n",
       "      <td>3.733333</td>\n",
       "    </tr>\n",
       "    <tr>\n",
       "      <th>1164345</th>\n",
       "      <td>37554500</td>\n",
       "      <td>6406356.0</td>\n",
       "      <td>2016-05-31T19:52:46Z</td>\n",
       "      <td>NaN</td>\n",
       "      <td>0</td>\n",
       "      <td>file name is variable - does not write to file</td>\n",
       "      <td>I have a large file about some populations (co...</td>\n",
       "      <td>for item in d: # d is a set to hold the popula...</td>\n",
       "      <td>24.333333</td>\n",
       "    </tr>\n",
       "    <tr>\n",
       "      <th>631142</th>\n",
       "      <td>21694580</td>\n",
       "      <td>3214052.0</td>\n",
       "      <td>2014-02-11T06:20:53Z</td>\n",
       "      <td>NaN</td>\n",
       "      <td>1</td>\n",
       "      <td>posting ASP.net MVC form having Kendoui widget...</td>\n",
       "      <td>I am developing my ASp.net MVC application usi...</td>\n",
       "      <td>public class Faculties\\n{\\n    public int Facu...</td>\n",
       "      <td>38974.066667</td>\n",
       "    </tr>\n",
       "  </tbody>\n",
       "</table>\n",
       "</div>"
      ],
      "text/plain": [
       "               Id  OwnerUserId          CreationDate ClosedDate  Score  \\\n",
       "524616   18215830    2336599.0  2013-08-13T17:46:39Z        NaN      0   \n",
       "454060   15919240    1578199.0  2013-04-10T07:10:31Z        NaN      0   \n",
       "1128647  36600610    1772640.0  2016-04-13T13:54:00Z        NaN      3   \n",
       "1164345  37554500    6406356.0  2016-05-31T19:52:46Z        NaN      0   \n",
       "631142   21694580    3214052.0  2014-02-11T06:20:53Z        NaN      1   \n",
       "\n",
       "                                                     Title  \\\n",
       "524616         Using Scanner to read an object from a file   \n",
       "454060                   how to set Calendar with variable   \n",
       "1128647       Exception Handling within Exception Handling   \n",
       "1164345     file name is variable - does not write to file   \n",
       "631142   posting ASP.net MVC form having Kendoui widget...   \n",
       "\n",
       "                                                      Body  \\\n",
       "524616   Am trying to read an object from a text file u...   \n",
       "454060   I have a set calendar to set week of month in ...   \n",
       "1128647  What is the best practice for exception handli...   \n",
       "1164345  I have a large file about some populations (co...   \n",
       "631142   I am developing my ASp.net MVC application usi...   \n",
       "\n",
       "                                                      Code      Duration  \n",
       "524616    //writing object to the file using printwrite...     16.850000  \n",
       "454060   Long date1 = cursor.getLong(12); // first I lo...     24.216667  \n",
       "1128647      public void DoSomeStuff(string sGUID)\\n   ...      3.733333  \n",
       "1164345  for item in d: # d is a set to hold the popula...     24.333333  \n",
       "631142   public class Faculties\\n{\\n    public int Facu...  38974.066667  "
      ]
     },
     "execution_count": 66,
     "metadata": {},
     "output_type": "execute_result"
    }
   ],
   "source": [
    "# adapted from https://stackoverflow.com/questions/2788871/date-difference-in-minutes-in-python\n",
    "from datetime import datetime\n",
    "import time\n",
    "\n",
    "fmt = '%Y-%m-%dT%H:%M:%SZ'\n",
    "def get_minutes_diff(timestamp1, timestamp2):\n",
    "#     if np.isnan(x.ClosedDate):\n",
    "#         return np.nan\n",
    "    d1 = datetime.strptime(timestamp1, fmt)\n",
    "    d2 = datetime.strptime(timestamp2, fmt)\n",
    "    \n",
    "    # convert to unix timestamp\n",
    "    d1_ts = time.mktime(d1.timetuple())\n",
    "    d2_ts = time.mktime(d2.timetuple())\n",
    "    \n",
    "    # convert to minutes\n",
    "    return int(d2_ts - d1_ts) / 60\n",
    "\n",
    "durations = []\n",
    "for i, row in df.iterrows():\n",
    "    answer = df_ans[ df_ans.ParentId == row.Id ]\n",
    "    answer = answer[ answer.Score == answer.Score.max() ]\n",
    "    answer_time = answer.CreationDate.values\n",
    "    if len(answer_time) > 0:\n",
    "        answer_time = answer_time[0]\n",
    "        dur = get_minutes_diff(row.CreationDate, answer_time)\n",
    "        if dur > -1: \n",
    "            df.loc[i, 'Duration'] = dur\n",
    "\n",
    "df.head()"
   ]
  },
  {
   "cell_type": "markdown",
   "metadata": {},
   "source": [
    "Load the tags and save the tags that correspond to a question."
   ]
  },
  {
   "cell_type": "code",
   "execution_count": 67,
   "metadata": {},
   "outputs": [
    {
     "data": {
      "text/html": [
       "<div>\n",
       "<style>\n",
       "    .dataframe thead tr:only-child th {\n",
       "        text-align: right;\n",
       "    }\n",
       "\n",
       "    .dataframe thead th {\n",
       "        text-align: left;\n",
       "    }\n",
       "\n",
       "    .dataframe tbody tr th {\n",
       "        vertical-align: top;\n",
       "    }\n",
       "</style>\n",
       "<table border=\"1\" class=\"dataframe\">\n",
       "  <thead>\n",
       "    <tr style=\"text-align: right;\">\n",
       "      <th></th>\n",
       "      <th>Id</th>\n",
       "      <th>Tag</th>\n",
       "    </tr>\n",
       "  </thead>\n",
       "  <tbody>\n",
       "    <tr>\n",
       "      <th>0</th>\n",
       "      <td>80</td>\n",
       "      <td>flex</td>\n",
       "    </tr>\n",
       "    <tr>\n",
       "      <th>1</th>\n",
       "      <td>80</td>\n",
       "      <td>actionscript-3</td>\n",
       "    </tr>\n",
       "    <tr>\n",
       "      <th>2</th>\n",
       "      <td>80</td>\n",
       "      <td>air</td>\n",
       "    </tr>\n",
       "    <tr>\n",
       "      <th>3</th>\n",
       "      <td>90</td>\n",
       "      <td>svn</td>\n",
       "    </tr>\n",
       "    <tr>\n",
       "      <th>4</th>\n",
       "      <td>90</td>\n",
       "      <td>tortoisesvn</td>\n",
       "    </tr>\n",
       "  </tbody>\n",
       "</table>\n",
       "</div>"
      ],
      "text/plain": [
       "   Id             Tag\n",
       "0  80            flex\n",
       "1  80  actionscript-3\n",
       "2  80             air\n",
       "3  90             svn\n",
       "4  90     tortoisesvn"
      ]
     },
     "execution_count": 67,
     "metadata": {},
     "output_type": "execute_result"
    }
   ],
   "source": [
    "df_tags = pd.read_csv('./data/Tags.csv', encoding='ISO-8859-1')\n",
    "df_tags.head()"
   ]
  },
  {
   "cell_type": "code",
   "execution_count": 68,
   "metadata": {},
   "outputs": [
    {
     "data": {
      "text/html": [
       "<div>\n",
       "<style>\n",
       "    .dataframe thead tr:only-child th {\n",
       "        text-align: right;\n",
       "    }\n",
       "\n",
       "    .dataframe thead th {\n",
       "        text-align: left;\n",
       "    }\n",
       "\n",
       "    .dataframe tbody tr th {\n",
       "        vertical-align: top;\n",
       "    }\n",
       "</style>\n",
       "<table border=\"1\" class=\"dataframe\">\n",
       "  <thead>\n",
       "    <tr style=\"text-align: right;\">\n",
       "      <th></th>\n",
       "      <th>Id</th>\n",
       "      <th>Tag</th>\n",
       "    </tr>\n",
       "  </thead>\n",
       "  <tbody>\n",
       "    <tr>\n",
       "      <th>403</th>\n",
       "      <td>14300</td>\n",
       "      <td>powershell</td>\n",
       "    </tr>\n",
       "    <tr>\n",
       "      <th>404</th>\n",
       "      <td>14300</td>\n",
       "      <td>batch-file</td>\n",
       "    </tr>\n",
       "    <tr>\n",
       "      <th>608</th>\n",
       "      <td>22340</td>\n",
       "      <td>.net</td>\n",
       "    </tr>\n",
       "    <tr>\n",
       "      <th>609</th>\n",
       "      <td>22340</td>\n",
       "      <td>wcf</td>\n",
       "    </tr>\n",
       "    <tr>\n",
       "      <th>610</th>\n",
       "      <td>22340</td>\n",
       "      <td>firewall</td>\n",
       "    </tr>\n",
       "  </tbody>\n",
       "</table>\n",
       "</div>"
      ],
      "text/plain": [
       "        Id         Tag\n",
       "403  14300  powershell\n",
       "404  14300  batch-file\n",
       "608  22340        .net\n",
       "609  22340         wcf\n",
       "610  22340    firewall"
      ]
     },
     "execution_count": 68,
     "metadata": {},
     "output_type": "execute_result"
    }
   ],
   "source": [
    "ids = df.Id.unique()\n",
    "df_tags = df_tags[df_tags.Id.isin(ids)]\n",
    "df_tags.head()"
   ]
  },
  {
   "cell_type": "code",
   "execution_count": 69,
   "metadata": {},
   "outputs": [],
   "source": [
    "# http://www.labautopedia.org/mw/List_of_programming_and_computer_science_terms\n",
    "topics = pd.read_csv('./data/CS_terms.csv', encoding='ISO-8859-1')\n",
    "list_topics = [x.upper() for x in topics.Term.tolist()]"
   ]
  },
  {
   "cell_type": "markdown",
   "metadata": {},
   "source": [
    "Save the cleaned data to a persistance file."
   ]
  },
  {
   "cell_type": "markdown",
   "metadata": {},
   "source": [
    "## Data Visualization"
   ]
  },
  {
   "cell_type": "code",
   "execution_count": 70,
   "metadata": {
    "collapsed": true
   },
   "outputs": [],
   "source": [
    "df.to_csv('./clean-data/Questions.csv', sep=',')\n",
    "df_ans.to_csv('./clean-data/Answers.csv', sep=',')\n",
    "df_tags.to_csv('./clean-data/Tags.csv', sep=',')"
   ]
  },
  {
   "cell_type": "code",
   "execution_count": 89,
   "metadata": {},
   "outputs": [],
   "source": [
    "# tf-idf for most common words that appear in the body\n",
    "\n",
    "import re\n",
    "from sklearn.feature_extraction.text import TfidfVectorizer\n",
    "tfidf_vect = TfidfVectorizer(encoding='ISO-8859-1') \n",
    "\n",
    "tfidf_mat = tfidf_vect.fit_transform( df.Body.tolist() )\n",
    "\n",
    "tfidf_mat = pd.DataFrame(data=tfidf_mat.toarray(),columns=tfidf_vect.get_feature_names())\n",
    "\n",
    "common_words = tfidf_mat[ [col for col in tfidf_mat.columns if col.upper() in list_topics] ]\n",
    "most_common_words = common_words.max().sort_values()[-10:]"
   ]
  },
  {
   "cell_type": "code",
   "execution_count": 90,
   "metadata": {},
   "outputs": [
    {
     "data": {
      "image/png": "[encoded data removed]",
      "text/plain": [
       "<matplotlib.figure.Figure at 0x142eb4400>"
      ]
     },
     "metadata": {},
     "output_type": "display_data"
    }
   ],
   "source": [
    "most_common_words.plot(kind='barh', fontsize=12, figsize=(8,6))\n",
    "plt.show()"
   ]
  },
  {
   "cell_type": "code",
   "execution_count": 72,
   "metadata": {
    "collapsed": true
   },
   "outputs": [],
   "source": [
    "df = pd.read_csv('./clean-data/Questions.csv')\n",
    "df_ans = pd.read_csv('./clean-data/Answers.csv')\n",
    "df_tags = pd.read_csv('./clean-data/Tags.csv')"
   ]
  },
  {
   "cell_type": "code",
   "execution_count": 73,
   "metadata": {},
   "outputs": [
    {
     "name": "stdout",
     "output_type": "stream",
     "text": [
      "<class 'pandas.core.frame.DataFrame'>\n",
      "RangeIndex: 35360 entries, 0 to 35359\n",
      "Data columns (total 3 columns):\n",
      "Unnamed: 0    35360 non-null int64\n",
      "Id            35360 non-null int64\n",
      "Tag           35358 non-null object\n",
      "dtypes: int64(2), object(1)\n",
      "memory usage: 828.8+ KB\n"
     ]
    }
   ],
   "source": [
    "df_tags.info()"
   ]
  },
  {
   "cell_type": "code",
   "execution_count": 74,
   "metadata": {},
   "outputs": [
    {
     "data": {
      "image/png": "[encoded data removed]",
      "text/plain": [
       "<matplotlib.figure.Figure at 0x10ab59978>"
      ]
     },
     "metadata": {},
     "output_type": "display_data"
    }
   ],
   "source": [
    "import matplotlib.pyplot as plt\n",
    "from collections import Counter\n",
    "\n",
    "tag_counts = Counter(df_tags.Tag)\n",
    "\n",
    "# remove tags that have less than 175 occurances\n",
    "for t in list(tag_counts):\n",
    "    if tag_counts[t] < 175:\n",
    "        del tag_counts[t]\n",
    "\n",
    "df_tag_counts = pd.DataFrame.from_dict(tag_counts, orient='index')\n",
    "df_tag_counts.plot(kind='barh', fontsize=12, figsize=(8,6))\n",
    "plt.xlabel('Number of occurances', fontsize=14)\n",
    "plt.title('Tags', fontsize=18)\n",
    "plt.legend([])\n",
    "plt.show()"
   ]
  },
  {
   "cell_type": "code",
   "execution_count": 75,
   "metadata": {
    "collapsed": true
   },
   "outputs": [],
   "source": [
    "from sklearn.feature_extraction.text import CountVectorizer\n",
    "count_vect = CountVectorizer(stop_words='english')\n",
    "bag_words = count_vect.fit_transform(df.Title.tolist())"
   ]
  },
  {
   "cell_type": "code",
   "execution_count": 76,
   "metadata": {},
   "outputs": [
    {
     "data": {
      "text/plain": [
       "10216"
      ]
     },
     "execution_count": 76,
     "metadata": {},
     "output_type": "execute_result"
    }
   ],
   "source": [
    "len(count_vect.vocabulary_)"
   ]
  },
  {
   "cell_type": "code",
   "execution_count": 77,
   "metadata": {
    "collapsed": true
   },
   "outputs": [],
   "source": [
    "df_title = pd.DataFrame(data=bag_words.toarray(), \n",
    "                        columns=count_vect.get_feature_names())"
   ]
  },
  {
   "cell_type": "code",
   "execution_count": 78,
   "metadata": {},
   "outputs": [
    {
     "data": {
      "text/plain": [
       "value      325\n",
       "use        328\n",
       "php        350\n",
       "jquery     353\n",
       "java       368\n",
       "error      440\n",
       "data       441\n",
       "android    442\n",
       "file       546\n",
       "using      889\n",
       "dtype: int64"
      ]
     },
     "execution_count": 78,
     "metadata": {},
     "output_type": "execute_result"
    }
   ],
   "source": [
    "# print 10 most common words\n",
    "df_title.sum().sort_values()[-10:]"
   ]
  },
  {
   "cell_type": "code",
   "execution_count": 79,
   "metadata": {
    "collapsed": true
   },
   "outputs": [],
   "source": [
    "# adapted from https://stackoverflow.com/a/16359854\n",
    "# 1 day = 86400 seconds\n",
    "# 1 week = 604800 seconds\n",
    "import sys\n",
    "\n",
    "# put the durations into different buckets, graph the result\n",
    "# only count the durations that are not null\n",
    "df_durations = pd.cut(df.Duration[ df.Duration.notnull() ], \n",
    "                      bins=[-1, 3600, 86400, 604800, 2592000, sys.maxsize], \n",
    "                      labels=False)\n",
    "# labels correspond to buckets of time above\n",
    "labels = np.array(['Less than 1 hour', 'Less than 1 day', 'Less than 1 week', 'More than 1 week', 'More than 1 month'])\n",
    "df_durations = labels[df_durations]\n",
    "\n",
    "duration_counts = Counter(df_durations) # count each occurance"
   ]
  },
  {
   "cell_type": "code",
   "execution_count": 80,
   "metadata": {},
   "outputs": [
    {
     "data": {
      "image/png": "[encoded data removed]",
      "text/plain": [
       "<matplotlib.figure.Figure at 0x13dff6048>"
      ]
     },
     "metadata": {},
     "output_type": "display_data"
    }
   ],
   "source": [
    "df_duration_counts = pd.DataFrame.from_dict(duration_counts, orient='index')\n",
    "df_duration_counts.plot(kind='barh', fontsize=12, figsize=(8,6))\n",
    "plt.xlabel('Number of Occurances', fontsize=14)\n",
    "plt.title('Duration Till Answered', fontsize=18)\n",
    "plt.legend([])\n",
    "plt.show()"
   ]
  },
  {
   "cell_type": "code",
   "execution_count": 81,
   "metadata": {
    "collapsed": true
   },
   "outputs": [],
   "source": [
    "df.Code[1]\n",
    "\n",
    "# put the code into different buckets, graph the result\n",
    "# count each occurance of a '\\n' as a newline\n",
    "df_lines_of_code = pd.cut( [x.count('\\n') for x in df.Code[ df.Code.notnull() ] ], \n",
    "                       bins=[-1, 5, 10, 20, sys.maxsize],\n",
    "                       labels=False)\n",
    "\n",
    "# labels correspond to buckets of length above\n",
    "labels = np.array(['Less than 5', '6-10', '11-20', '20+'])\n",
    "df_lines_of_code = labels[df_lines_of_code]\n",
    "\n",
    "lines_of_code_count = Counter(df_lines_of_code)"
   ]
  },
  {
   "cell_type": "code",
   "execution_count": 82,
   "metadata": {},
   "outputs": [
    {
     "data": {
      "image/png": "[encoded data removed]",
      "text/plain": [
       "<matplotlib.figure.Figure at 0x1438dfb70>"
      ]
     },
     "metadata": {},
     "output_type": "display_data"
    }
   ],
   "source": [
    "df_lines_of_code_count = pd.DataFrame.from_dict(lines_of_code_count, orient='index')\n",
    "df_lines_of_code_count.plot(kind='barh', fontsize=12, figsize=(8,6))\n",
    "plt.xlabel('Number of Occurances', fontsize=14)\n",
    "plt.title('Number of Lines', fontsize=18)\n",
    "plt.legend([])\n",
    "plt.show()"
   ]
  },
  {
   "cell_type": "code",
   "execution_count": 83,
   "metadata": {},
   "outputs": [
    {
     "data": {
      "image/png": "[encoded data removed]",
      "text/plain": [
       "<matplotlib.figure.Figure at 0x124727198>"
      ]
     },
     "metadata": {},
     "output_type": "display_data"
    }
   ],
   "source": [
    "# stacked histogram showing percentage answered\n",
    "\n",
    "length_vs_response = pd.crosstab([df_lines_of_code], # categories to cross tabulate\n",
    "                      df.Duration[ df.Code.notnull() ].isnull()) # how to group\n",
    "length_vs_response.plot(kind='barh', title=\"Questions Answered by Code Length\", stacked=True)\n",
    "plt.legend([\"Answered\", \"Unanswered\"])\n",
    "plt.show()"
   ]
  },
  {
   "cell_type": "code",
   "execution_count": 86,
   "metadata": {},
   "outputs": [
    {
     "ename": "TypeError",
     "evalue": "sequence item 18821: expected str instance, float found",
     "output_type": "error",
     "traceback": [
      "\u001b[0;31m---------------------------------------------------------------------------\u001b[0m",
      "\u001b[0;31mTypeError\u001b[0m                                 Traceback (most recent call last)",
      "\u001b[0;32m<ipython-input-86-657200cd5bb4>\u001b[0m in \u001b[0;36m<module>\u001b[0;34m()\u001b[0m\n\u001b[1;32m      6\u001b[0m     \u001b[0mwidth\u001b[0m\u001b[0;34m=\u001b[0m\u001b[0;36m300\u001b[0m\u001b[0;34m,\u001b[0m\u001b[0;34m\u001b[0m\u001b[0m\n\u001b[1;32m      7\u001b[0m     \u001b[0mheight\u001b[0m\u001b[0;34m=\u001b[0m\u001b[0;36m200\u001b[0m\u001b[0;34m,\u001b[0m\u001b[0;34m\u001b[0m\u001b[0m\n\u001b[0;32m----> 8\u001b[0;31m     max_font_size=40).generate(' '.join(df_tags.Tag))\n\u001b[0m\u001b[1;32m      9\u001b[0m \u001b[0mplt\u001b[0m\u001b[0;34m.\u001b[0m\u001b[0mfigure\u001b[0m\u001b[0;34m(\u001b[0m\u001b[0mfigsize\u001b[0m\u001b[0;34m=\u001b[0m\u001b[0;34m(\u001b[0m\u001b[0;36m8\u001b[0m\u001b[0;34m,\u001b[0m\u001b[0;36m10\u001b[0m\u001b[0;34m)\u001b[0m\u001b[0;34m)\u001b[0m\u001b[0;34m\u001b[0m\u001b[0m\n\u001b[1;32m     10\u001b[0m \u001b[0mplt\u001b[0m\u001b[0;34m.\u001b[0m\u001b[0mimshow\u001b[0m\u001b[0;34m(\u001b[0m\u001b[0mwordcloud\u001b[0m\u001b[0;34m,\u001b[0m \u001b[0minterpolation\u001b[0m\u001b[0;34m=\u001b[0m\u001b[0;34m\"bilinear\"\u001b[0m\u001b[0;34m)\u001b[0m\u001b[0;34m\u001b[0m\u001b[0m\n",
      "\u001b[0;31mTypeError\u001b[0m: sequence item 18821: expected str instance, float found"
     ]
    }
   ],
   "source": [
    "# https://stackoverflow.com/questions/43606339/generate-word-cloud-from-single-column-pandas-dataframe\n",
    "from wordcloud import WordCloud\n",
    "\n",
    "wordcloud = WordCloud(\n",
    "    background_color='white',\n",
    "    width=300,\n",
    "    height=200,\n",
    "    max_font_size=40).generate(' '.join(df_tags.Tag))\n",
    "plt.figure(figsize=(8,10))\n",
    "plt.imshow(wordcloud, interpolation=\"bilinear\")\n",
    "plt.axis(\"off\")\n",
    "plt.show()"
   ]
  },
  {
   "cell_type": "code",
   "execution_count": null,
   "metadata": {
    "collapsed": true
   },
   "outputs": [],
   "source": []
  }
 ],
 "metadata": {
  "kernelspec": {
   "display_name": "Python [conda env:MachineLearning]",
   "language": "python",
   "name": "conda-env-MachineLearning-py"
  },
  "language_info": {
   "codemirror_mode": {
    "name": "ipython",
    "version": 3
   },
   "file_extension": ".py",
   "mimetype": "text/x-python",
   "name": "python",
   "nbconvert_exporter": "python",
   "pygments_lexer": "ipython3",
   "version": "3.6.2"
  }
 },
 "nbformat": 4,
 "nbformat_minor": 2
}
