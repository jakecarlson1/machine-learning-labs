{
 "cells": [
  {
   "cell_type": "code",
   "execution_count": 32,
   "metadata": {},
   "outputs": [
    {
     "data": {
      "text/html": [
       "<link href='https://fonts.googleapis.com/css?family=Passion+One' rel='stylesheet' type='text/css'><style>div.attn { font-family: 'Helvetica Neue'; font-size: 30px; line-height: 40px; color: #FFFFFF; text-align: center; margin: 30px 0; border-width: 10px 0; border-style: solid; border-color: #5AAAAA; padding: 30px 0; background-color: #DDDDFF; }hr { border: 0; background-color: #ffffff; border-top: 1px solid black; }hr.major { border-top: 10px solid #5AAA5A; }hr.minor { border: none; background-color: #ffffff; border-top: 5px dotted #CC3333; }div.bubble { width: 65%; padding: 20px; background: #DDDDDD; border-radius: 15px; margin: 0 auto; font-style: italic; color: #f00; }em { color: #AAA; }div.c1{visibility:hidden;margin:0;height:0;}div.note{color:red;}</style>"
      ],
      "text/plain": [
       "<IPython.core.display.HTML object>"
      ]
     },
     "execution_count": 32,
     "metadata": {},
     "output_type": "execute_result"
    }
   ],
   "source": [
    "#  Ebnable HTML/CSS \n",
    "from IPython.core.display import HTML\n",
    "HTML(\"<link href='https://fonts.googleapis.com/css?family=Passion+One' rel='stylesheet' type='text/css'><style>div.attn { font-family: 'Helvetica Neue'; font-size: 30px; line-height: 40px; color: #FFFFFF; text-align: center; margin: 30px 0; border-width: 10px 0; border-style: solid; border-color: #5AAAAA; padding: 30px 0; background-color: #DDDDFF; }hr { border: 0; background-color: #ffffff; border-top: 1px solid black; }hr.major { border-top: 10px solid #5AAA5A; }hr.minor { border: none; background-color: #ffffff; border-top: 5px dotted #CC3333; }div.bubble { width: 65%; padding: 20px; background: #DDDDDD; border-radius: 15px; margin: 0 auto; font-style: italic; color: #f00; }em { color: #AAA; }div.c1{visibility:hidden;margin:0;height:0;}div.note{color:red;}</style>\")"
   ]
  },
  {
   "cell_type": "markdown",
   "metadata": {},
   "source": [
    "___\n",
    "Enter Team Member Names here (*double click to edit*):\n",
    "\n",
    "- Name 1: Jake Carlson\n",
    "- Name 2: Eric Smith\n",
    "\n",
    "___"
   ]
  },
  {
   "cell_type": "markdown",
   "metadata": {},
   "source": [
    "# In Class Assignment Two\n",
    "In the following assignment you will be asked to fill in python code and derivations for a number of different problems. Please read all instructions carefully and turn in the rendered notebook (or HTML of the rendered notebook)  before the end of class (or right after class). The initial portion of this notebook is given before class and the remainder is given during class. Please answer the initial questions before class, to the best of your ability. Once class has started you may rework your answers as a team for the initial part of the assignment. \n",
    "\n",
    "<a id=\"top\"></a>\n",
    "## Contents\n",
    "* <a href=\"#Loading\">Loading the Data</a>\n",
    "* <a href=\"#svm\">Linear SVMs</a>\n",
    "* <a href=\"#svm_using\">Using Linear SVMs</a>\n",
    "* <a href=\"#nonlinear\">Non-linear SVMs</a>\n",
    "\n",
    "________________________________________________________________________________________________________\n",
    "\n",
    "<a id=\"Loading\"></a>\n",
    "<a href=\"#top\">Back to Top</a>\n",
    "## Loading the Data\n",
    "Please run the following code to read in the \"olivetti faces\" dataset from sklearn's data loading module. \n",
    "\n",
    "This will load the data into the variable `ds`. `ds` is a `bunch` object with fields like `ds.data` and `ds.target`. The field `ds.data` is a numpy matrix of the continuous features in the dataset. **The object is not a pandas dataframe. It is a numpy matrix.** Each row is a set of observed instances, each column is a different feature. It also has a field called `ds.target` that is an integer value we are trying to predict (i.e., a specific integer represents a specific person). Each entry in `ds.target` is a label for each row of the `ds.data` matrix. "
   ]
  },
  {
   "cell_type": "code",
   "execution_count": 33,
   "metadata": {
    "collapsed": true
   },
   "outputs": [],
   "source": [
    "# fetch the images for the dataset\n",
    "# this will take a long time the first run because it needs to download\n",
    "# after the first time, the dataset will be save to your disk (in sklearn package somewhere) \n",
    "# if this does not run, you may need additional libraries installed on your system (install at your own risk!!)\n",
    "from sklearn.datasets import fetch_lfw_people\n",
    "\n",
    "lfw_people = fetch_lfw_people(min_faces_per_person=20, resize=None)"
   ]
  },
  {
   "cell_type": "code",
   "execution_count": 34,
   "metadata": {},
   "outputs": [
    {
     "name": "stdout",
     "output_type": "stream",
     "text": [
      "n_samples: 3023\n",
      "n_features: 11750\n",
      "n_classes: 62\n",
      "Original Image Sizes 125 by 94\n",
      "11750\n"
     ]
    }
   ],
   "source": [
    "# get some of the specifics of the dataset\n",
    "X = lfw_people.data\n",
    "y = lfw_people.target\n",
    "names = lfw_people.target_names\n",
    "\n",
    "n_samples, n_features = X.shape\n",
    "_, h, w = lfw_people.images.shape\n",
    "n_classes = len(names)\n",
    "\n",
    "print(\"n_samples: {}\".format(n_samples))\n",
    "print(\"n_features: {}\".format(n_features))\n",
    "print(\"n_classes: {}\".format(n_classes))\n",
    "print(\"Original Image Sizes {} by {}\".format(h,w))\n",
    "print (125*94) # the size of the images are the size of the feature vectors"
   ]
  },
  {
   "cell_type": "markdown",
   "metadata": {},
   "source": [
    "**Question 1:** For the faces dataset, describe what the data represents? That is, what is each column? What is each row? What do the unique class values represent?"
   ]
  },
  {
   "cell_type": "markdown",
   "metadata": {},
   "source": [
    "\n",
    "\n",
    "*Enter you answer here (double click)*\n",
    "\n",
    "This data represents cropped pictures of faces. Each row is a unique image and each column contains a single pixel value in that image. The class of each picture is the name of the subject.\n",
    "\n",
    "___"
   ]
  },
  {
   "cell_type": "markdown",
   "metadata": {},
   "source": [
    "<a id=\"svm\"></a>\n",
    "<a href=\"#top\">Back to Top</a>\n",
    "## Linear Support Vector Machines\n",
    "\n",
    "**Question 2:** If we were to train a linear Support Vector Machine (SVM) upon the faces data, how many parameters would need to be optimized in the model? That is, how many coefficients would need to be calculated?\n"
   ]
  },
  {
   "cell_type": "markdown",
   "metadata": {},
   "source": [
    "\n",
    "\n",
    "*Enter you answer here (double click)*\n",
    "\n",
    "We would need weights foe the 11750 features, plus a bias term, times the number of classes: 728,562.\n",
    "\n",
    "___"
   ]
  },
  {
   "cell_type": "code",
   "execution_count": 35,
   "metadata": {},
   "outputs": [
    {
     "data": {
      "text/plain": [
       "728562"
      ]
     },
     "execution_count": 35,
     "metadata": {},
     "output_type": "execute_result"
    }
   ],
   "source": [
    "# Enter any scratchwork or calculations here\n",
    "(11750+1) * 62"
   ]
  },
  {
   "cell_type": "markdown",
   "metadata": {},
   "source": [
    "**Question 3:** \n",
    "- **Part A:** Given the number of parameters calculated above, would you expect the model to train quickly using **batch optimization techniques**? Why or why not? \n",
    "- **Part B:** Is there a way to reduce training time?\n",
    "- **Part C:** If we transformed the X data using principle components analysis (PCA) with 100 components, how many parameters would we need to find for a linear Support Vector Machine (SVM)?"
   ]
  },
  {
   "cell_type": "markdown",
   "metadata": {},
   "source": [
    "*Enter you answer here (double click)*\n",
    "\n",
    "\n",
    "A. It will take a long time to train the model because we have to maximize the alpha margin distance values for every combination of weights. The Dual can only be solved numerically, and it cannot be parallelized well.\n",
    "\n",
    "B. We can use PCA to reduce the dimensionality of our data, there by reducing the number of weights that need to be solved for.\n",
    "\n",
    "C. We would need to find 6262 weights to train our model.\n",
    "___"
   ]
  },
  {
   "cell_type": "code",
   "execution_count": 36,
   "metadata": {},
   "outputs": [
    {
     "name": "stdout",
     "output_type": "stream",
     "text": [
      "Part C. With 100 features:  6262\n"
     ]
    }
   ],
   "source": [
    "# Enter any scratchwork or calculations here\n",
    "n = (100+1)*62\n",
    "print('Part C. With 100 features: ', n)\n"
   ]
  },
  {
   "cell_type": "markdown",
   "metadata": {},
   "source": [
    "___\n",
    "<a id=\"svm_using\"></a>\n",
    "<a href=\"#top\">Back to Top</a>\n",
    "\n",
    "# Using Linear SVMs\n",
    "\n",
    "**Exercise 1:** Use the block of code below to check if the number of parameters you calculated is equal to the number of parameters returned by `sklearn`'s implementation of the Linear SVM. **Was your calculation correct? If different, can you think of a reason why the parameters would not match?**"
   ]
  },
  {
   "cell_type": "code",
   "execution_count": 47,
   "metadata": {},
   "outputs": [
    {
     "name": "stderr",
     "output_type": "stream",
     "text": [
      "/Users/JakeCarlson/anaconda/envs/MLEnv/lib/python3.6/site-packages/sklearn/utils/deprecation.py:57: DeprecationWarning: Class RandomizedPCA is deprecated; RandomizedPCA was deprecated in 0.18 and will be removed in 0.20. Use PCA(svd_solver='randomized') instead. The new implementation DOES NOT store whiten ``components_``. Apply transform to get them.\n",
      "  warnings.warn(msg, category=DeprecationWarning)\n"
     ]
    },
    {
     "data": {
      "text/plain": [
       "LinearSVC(C=1.0, class_weight=None, dual=True, fit_intercept=True,\n",
       "     intercept_scaling=1, loss='squared_hinge', max_iter=1000,\n",
       "     multi_class='ovr', penalty='l2', random_state=None, tol=0.0001,\n",
       "     verbose=0)"
      ]
     },
     "execution_count": 47,
     "metadata": {},
     "output_type": "execute_result"
    }
   ],
   "source": [
    "from sklearn.svm import LinearSVC\n",
    "from sklearn.decomposition import RandomizedPCA\n",
    "\n",
    "n_components = 100\n",
    "pca = RandomizedPCA(n_components=n_components)\n",
    "Xpca = pca.fit_transform(X)\n",
    "\n",
    "clf = LinearSVC()\n",
    "clf.fit(Xpca,y)"
   ]
  },
  {
   "cell_type": "code",
   "execution_count": 48,
   "metadata": {},
   "outputs": [
    {
     "name": "stdout",
     "output_type": "stream",
     "text": [
      "6200\n"
     ]
    }
   ],
   "source": [
    "#===================================================================\n",
    "# Enter your code below to calculate the number of parameters in the model \n",
    "print(len(clf.coef_)*len(clf.coef_[0]))\n",
    "#==================================================================="
   ]
  },
  {
   "cell_type": "markdown",
   "metadata": {},
   "source": [
    "It looks like sklearn's implementation leaves out the bias from the coefficient matrix."
   ]
  },
  {
   "cell_type": "markdown",
   "metadata": {},
   "source": [
    "___\n",
    "**Exercise 2:** Use the starter code below to calculate two quantities: \n",
    "- **Part A.:** The overall accuracy of the trained linear svm on the training set\n",
    "- **Part B.:** The *mean, standard deviation, maximum, and minimum* of the **accuracy per class** on the training set\n",
    "\n",
    "You might be interested in the following documentation of the confusion matrix calculated by `scikit-learn`:\n",
    "- http://scikit-learn.org/stable/auto_examples/model_selection/plot_confusion_matrix.html\n",
    "\n",
    "And an example matrix returned by the confusion matrix function:\n",
    "<img src=\"http://scikit-learn.org/stable/_images/sphx_glr_plot_confusion_matrix_001.png\",width=400,height=400>"
   ]
  },
  {
   "cell_type": "code",
   "execution_count": 49,
   "metadata": {},
   "outputs": [
    {
     "name": "stdout",
     "output_type": "stream",
     "text": [
      "Overall Accuracy is  0.873966258683\n",
      "The class accuracy is  0.893211968412 +- 0.116430592413 (min,max) ( 0.55 1.0 )\n"
     ]
    }
   ],
   "source": [
    "from sklearn.metrics import accuracy_score\n",
    "from sklearn.metrics import confusion_matrix\n",
    "import numpy as np\n",
    "\n",
    "yhat = clf.predict(Xpca)\n",
    "\n",
    "#===================================================\n",
    "# Enter your code below\n",
    "\n",
    "print('Overall Accuracy is ',clf.score(Xpca, y))\n",
    "\n",
    "cm = confusion_matrix(y, yhat)\n",
    "diag = cm.diagonal()\n",
    "\n",
    "class_acc = [0 for i in range(cm.shape[0])]\n",
    "for i in range(cm.shape[0]):\n",
    "    class_acc[i] = diag[i] / sum(cm[i])\n",
    "\n",
    "\n",
    "print('The class accuracy is ',np.mean(class_acc), '+-', np.std(class_acc),end=' ')\n",
    "print('(min,max) (',min(class_acc), max(class_acc),')')\n",
    "\n",
    "#==================================================="
   ]
  },
  {
   "cell_type": "markdown",
   "metadata": {},
   "source": [
    "___\n",
    "<a id=\"nonlinear\"></a>\n",
    "<a href=\"#top\">Back to Top</a>\n",
    "\n",
    "# Non-linear SVMs\n",
    "Now let's explore the use of non-linear svms. More explicitly, using different kernels. Take a look at the example training and testing code below for the non-linear SVM. All parameters are left as default, except we change the kernel to be `rbf`. Run the block of code below.\n",
    "\n"
   ]
  },
  {
   "cell_type": "code",
   "execution_count": 50,
   "metadata": {},
   "outputs": [
    {
     "name": "stdout",
     "output_type": "stream",
     "text": [
      "Overall Accuracy is  0.935494541846\n"
     ]
    }
   ],
   "source": [
    "from sklearn.svm import SVC\n",
    "\n",
    "clf = SVC(kernel='rbf')\n",
    "clf.fit(Xpca,y)\n",
    "yhat = clf.predict(Xpca)\n",
    "print('Overall Accuracy is ',accuracy_score(y,yhat))"
   ]
  },
  {
   "cell_type": "markdown",
   "metadata": {},
   "source": [
    "___\n",
    "**Exercise 3:** Use the starter code from above to calculate the accuracy for three different non-linear SVM kernels. That is, repeat the code above for different `kernel` parameters. **Only use non-linear kernels.  Which kernel is most accurate with the default parameters?**\n",
    "\n",
    "You might be interested in the documentation of the scikit-learn SVM implementation, available here:\n",
    "- http://scikit-learn.org/stable/modules/generated/sklearn.svm.SVC.html"
   ]
  },
  {
   "cell_type": "code",
   "execution_count": 52,
   "metadata": {},
   "outputs": [
    {
     "name": "stdout",
     "output_type": "stream",
     "text": [
      "Overall Accuracy poly is  0.974197816738\n",
      "Overall Accuracy sigmoid is  0.213364207741\n",
      "Overall Accuracy rbf is  0.935494541846\n"
     ]
    }
   ],
   "source": [
    "#===================================================\n",
    "# Enter your code below\n",
    "clf = SVC(kernel='poly')\n",
    "clf.fit(Xpca,y)\n",
    "yhat = clf.predict(Xpca)\n",
    "print('Overall Accuracy poly is ',accuracy_score(y,yhat))\n",
    "\n",
    "clf = SVC(kernel='sigmoid')\n",
    "clf.fit(Xpca,y)\n",
    "yhat = clf.predict(Xpca)\n",
    "print('Overall Accuracy sigmoid is ',accuracy_score(y,yhat))\n",
    "\n",
    "clf = SVC(kernel='rbf')\n",
    "clf.fit(Xpca,y)\n",
    "yhat = clf.predict(Xpca)\n",
    "print('Overall Accuracy rbf is ',accuracy_score(y,yhat))\n",
    " \n",
    "\n",
    "#==================================================="
   ]
  },
  {
   "cell_type": "markdown",
   "metadata": {},
   "source": [
    "*Enter you answer here (double click)*\n",
    "\n",
    "The most accurate kernel is poly.\n"
   ]
  },
  {
   "cell_type": "markdown",
   "metadata": {},
   "source": [
    "___\n",
    "**Exercise 4:** Choose the **most accurate kernel** and manipulate the settings for `gamma` to make the classification more accurate. \n",
    "- **Part A:** How accurate can you make it? \n",
    "- **Part B:** Would you expect the results to generalize well? Why or why not?"
   ]
  },
  {
   "cell_type": "code",
   "execution_count": 56,
   "metadata": {},
   "outputs": [
    {
     "name": "stdout",
     "output_type": "stream",
     "text": [
      "Overall Accuracy is  1.0\n"
     ]
    }
   ],
   "source": [
    "#===================================================\n",
    "# Enter your code below\n",
    "\n",
    "kern = 'poly'\n",
    "g = 1/(2*10)\n",
    "\n",
    "yhat = SVC(kernel=kern, gamma=g).fit(Xpca,y).predict(Xpca)\n",
    "print('Overall Accuracy is ', accuracy_score(y,yhat)) \n",
    "\n",
    "#==================================================="
   ]
  },
  {
   "cell_type": "markdown",
   "metadata": {},
   "source": [
    "*Enter you answer here (double click)*\n",
    "\n",
    "A. The highest accuracy we could achieve was 100%.\n",
    "\n",
    "B. We would not expect this to generalize because this gamma value resulted in 100% accuracy for this training set, which likely means the model is over-fitted for the training set. If we gave the model a photo it hasn't seen, but a subject that is in the model, it will likely classify it correctly. However, we would expect a lower classification accuracy for a test data set that contains subjects that haven't been seen before.\n",
    "\n"
   ]
  },
  {
   "cell_type": "markdown",
   "metadata": {},
   "source": [
    "___\n",
    "**Final Question:** Using the most accurate non-linear SVM you found in the previous question, how many parameter coefficients does the trained model contain?"
   ]
  },
  {
   "cell_type": "markdown",
   "metadata": {},
   "source": [
    "*Enter you answer here (double click)*\n",
    "\n",
    "The poly kernel calculated the support vectors for our data, which are the non-zero. The parameters for the decision funciton are contained in `dual_coef_`. The number of coefficients in the decision matrix are 179,401, however, we will only need to consider values in the coefficient matrix that are non-zero, because classification will not consider these values. Therefore, we only need 61197 parameter coefficients.\n"
   ]
  },
  {
   "cell_type": "code",
   "execution_count": 69,
   "metadata": {
    "scrolled": false
   },
   "outputs": [
    {
     "name": "stdout",
     "output_type": "stream",
     "text": [
      "179401\n",
      "--------------\n",
      "61197\n",
      "--------------\n",
      "(61, 2941)\n"
     ]
    }
   ],
   "source": [
    "#===================================================\n",
    "# Enter any scratchwork calculations you need below\n",
    "poly_fit = SVC(kernel=kern, gamma=g).fit(Xpca,y)\n",
    "print(poly_fit.dual_coef_.shape[0] * poly_fit.dual_coef_.shape[1])\n",
    "print(\"--------------\")\n",
    "\n",
    "n_non_zero = 0\n",
    "for i in range(poly_fit.dual_coef_.shape[0]):\n",
    "    for j in range(len(poly_fit.dual_coef_[i])):\n",
    "        if poly_fit.dual_coef_[i][j] > 0:\n",
    "            n_non_zero += 1\n",
    "print(n_non_zero)\n",
    "\n",
    "print(\"--------------\")\n",
    "print(poly_fit.dual_coef_.shape)\n"
   ]
  },
  {
   "cell_type": "markdown",
   "metadata": {},
   "source": [
    "________________________________________________________________________________________________________\n",
    "\n",
    "That's all! Please **save (make sure you saved!!!) and upload your rendered notebook** and please include **team member names** in the notebook submission."
   ]
  },
  {
   "cell_type": "code",
   "execution_count": null,
   "metadata": {
    "collapsed": true
   },
   "outputs": [],
   "source": []
  }
 ],
 "metadata": {
  "anaconda-cloud": {},
  "kernelspec": {
   "display_name": "Python [conda env:MLEnv]",
   "language": "python",
   "name": "conda-env-MLEnv-py"
  },
  "language_info": {
   "codemirror_mode": {
    "name": "ipython",
    "version": 3
   },
   "file_extension": ".py",
   "mimetype": "text/x-python",
   "name": "python",
   "nbconvert_exporter": "python",
   "pygments_lexer": "ipython3",
   "version": "3.6.2"
  }
 },
 "nbformat": 4,
 "nbformat_minor": 1
}
