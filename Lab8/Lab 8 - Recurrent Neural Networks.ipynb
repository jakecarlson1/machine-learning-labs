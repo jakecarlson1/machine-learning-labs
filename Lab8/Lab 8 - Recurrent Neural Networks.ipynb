{
 "cells": [
  {
   "cell_type": "markdown",
   "metadata": {},
   "source": [
    "# Lab 8 - Recurrent Neural Networks\n",
    "\n",
    "### Eric Smith and Jake Carlson\n",
    "\n",
    "## Introduction\n",
    "For this lab we will be examining questions and answers on the popular programming Q&A website, Stack Overflow. Stack Overflow allows programmers who are stuck on a problem ask the community about ways to resolve or circumvent said problem. This helps people write more accurate code faster. However, the community can be pretty hard on those who do not fully understand their question or are disrespectful. It could also be the case that the few developers who have experience with a problem similar to yours are not on the website when you post your question. If too much time passes, your post may be burried forever. This makes for some interesing questions. When should you make your post so that it has the highest chance of being answered? Are there specific keywords or phasing that encourage other programmers to answer your questions? Are there specific languages that have their questions answered faster than others? These are questions we will be exploring in this lab.\n",
    "\n",
    "## Business Understanding\n",
    "\n",
    "### Motivations\n",
    "Stack Overflow is a go-to resource for developers. Questions are often distilled down to a single block of code that is easily digestible, and can be matched to the question you came to the site for. However, if you're truly stuck on something, it can seem like an eternity of waiting before someone responds to your question, and sometimes, it may not be answered at all. If you're working in industry and spending a lot of time waiting for a question to be answered, you could fall behind schedule and miss deadlines. These delays could cost your company a great deal in lost revenue and tech debt. Therefore, accurately predicting the amount of time to get a question answered can be seen as a valuable project management tool.\n",
    "\n",
    "### Objectives\n",
    "<!--\n",
    "Original objective:\n",
    "\n",
    "It would be useful if you could predict how quickly your question will be answered if you post it at various times through out the day. For a prediction tool like this to be useful, we want something that is 80-95% accurate in predicting when a question will be answered by. As a project manager, you want your developers to be asking questions that are concise and respectful. \n",
    "-->\n",
    "\n",
    "Our main objective is to warn managers if a particular question will push back their deliverable date. For a prediction tool like this to be useful, we want to reduce the false negatives with respect to the questions that take the longest to answer. That is, if a question is going to take more than one day to answer, we must be able to catch that with near 100% accuracy.  \n",
    "\n",
    "Furthermore, a tool that could recommend keywords to add to your post to make it more attractive, and provide you with approximate gains in time for reformatting, would also be a valuable project management tool.\n",
    "\n",
    "### Evaluation\n",
    "Because our prediction scenario involves deadlines, pure accuracy is not a sufficent way to measure the performance of our model. For example, if our model were to underestimate the time it takes to get a question answered, that could have potentially worse consequences for managers than to overestimate the cost. For this reason, we've decided to implement a custom cost function, which is broken down as follows:\n",
    "<ul>\n",
    "    <li>Predictions that are correct receive a tally of 1.</li>\n",
    "    <li>An underestimation receives a tally of 0.25</li>\n",
    "    <li>Severe underestimations receive a 0.1</li>\n",
    "    <li>Overestimations receive a tally of 0.75</li>\n",
    "</ul>"
   ]
  },
  {
   "cell_type": "code",
   "execution_count": 74,
   "metadata": {
    "collapsed": true
   },
   "outputs": [],
   "source": [
    "\"\"\"\n",
    "Label legend\n",
    "0: Less than 10 min\n",
    "1: 10 min - 1 hour\n",
    "2: 1 hour - 1 day\n",
    "3: More than 1 day\n",
    "\"\"\"\n",
    "\n",
    "def custom_cost(y_true, y_pred):\n",
    "    score = 0\n",
    "    \n",
    "    for i in range(len(y_pred)):\n",
    "        # Correct: 1\n",
    "        if y_true[i] == y_pred[i]:\n",
    "            score += 1\n",
    "        \n",
    "        # Worst case scenario\n",
    "        elif y_true[i] == 3 and y_pred[i] < y_true[i]:\n",
    "            score += 0.1\n",
    "        \n",
    "        # the question will take longer than expected\n",
    "        elif y_pred[i] < y_true[i]:\n",
    "            score += 0.25\n",
    "        \n",
    "        # the question will take less than expected\n",
    "        else:\n",
    "            score += 0.75\n",
    "        \n",
    "    return score / len(y_pred)"
   ]
  },
  {
   "cell_type": "markdown",
   "metadata": {},
   "source": [
    "## Data Understanding\n",
    "\n",
    "Our data comes from the StackLite dataset from Kaggle<sup>1</sup>. The dataset covers StackOverflow questions from August 2008 to October 2016. We believe this timeframe would be an accurate representation of the types of coding questions that would be posted to StackOverflow today, as the questions may involve legacy code libraries and frameworks.\n",
    "\n",
    "\n",
    "### Data Attributes\n",
    "The following is a list of attributes in the data, their data types, and a brief description of the attribute.\n",
    "\n",
    "#### Questions\n",
    "- **Id** (nominal): A unique identifier for each question\n",
    "- **OwnerUserId** (nominal): A unique identifier for the person who posted the question\n",
    "- **CreationDate** (ordinal): A timestamp of when the question was posted\n",
    "- **ClosedDate** (ordinal): A timestamp of when the question was closed, if the question wasn't closed this field is NaN\n",
    "- **Score** (ratio): The number of upvotes a post has\n",
    "- **Title** (text): A title for the question\n",
    "- **Body** (text): The question body\n",
    "\n",
    "#### Answers\n",
    "- **Id** (nominal): A unique identifier for each answer\n",
    "- **OwnerUserId** (nominal): A unique identifier for the person who posted the answer\n",
    "- **CreationDate** (ordinal): A timestamp of when the answer was posted\n",
    "- **ParentId** (nominal): The unique identifier of the question this answer is for\n",
    "- **Score** (ratio): The number of upvotes an answer has\n",
    "- **Body** (text): The answer body\n",
    "\n",
    "#### Tags\n",
    "- **Id** (nominal): The *Id* of the question the tag is associated with\n",
    "- **Tag** (nominal): The tag a question has been assigned\n",
    "\n",
    "## Data Quality\n",
    "We will start working with the data set as is was cleaned in Lab 2. A number of attributes are not needed because they would not be known at the time a question is posted. We will be examining the question Title, Body, and Code block. We will include the question creation date and any tags associated with the question. Our questions data also has a duration value that records the number of minutes the question was up for before the accepted (or highest rated) answer was posted. We will discretize this value into four time ranges, Less than 10 minutes, 10 minutes to 1 hour, 1 hour to 1 day, and More than 1 day. The distribution of these classes is given below. We will also create a new column that contains all of the tags associated with each question, separated by spaces."
   ]
  },
  {
   "cell_type": "code",
   "execution_count": 27,
   "metadata": {
    "collapsed": true
   },
   "outputs": [],
   "source": [
    "import pandas as pd\n",
    "import numpy as np\n",
    "\n",
    "df = pd.read_csv('../Lab2/clean-data/Questions.csv', index_col=0)\n",
    "df_tags = pd.read_csv('../Lab2/clean-data/Tags.csv', index_col=0)"
   ]
  },
  {
   "cell_type": "code",
   "execution_count": 28,
   "metadata": {},
   "outputs": [
    {
     "data": {
      "text/html": [
       "<div>\n",
       "<style>\n",
       "    .dataframe thead tr:only-child th {\n",
       "        text-align: right;\n",
       "    }\n",
       "\n",
       "    .dataframe thead th {\n",
       "        text-align: left;\n",
       "    }\n",
       "\n",
       "    .dataframe tbody tr th {\n",
       "        vertical-align: top;\n",
       "    }\n",
       "</style>\n",
       "<table border=\"1\" class=\"dataframe\">\n",
       "  <thead>\n",
       "    <tr style=\"text-align: right;\">\n",
       "      <th></th>\n",
       "      <th>Id</th>\n",
       "      <th>OwnerUserId</th>\n",
       "      <th>CreationDate</th>\n",
       "      <th>ClosedDate</th>\n",
       "      <th>Score</th>\n",
       "      <th>Title</th>\n",
       "      <th>Body</th>\n",
       "      <th>Code</th>\n",
       "      <th>Duration</th>\n",
       "    </tr>\n",
       "  </thead>\n",
       "  <tbody>\n",
       "    <tr>\n",
       "      <th>231906</th>\n",
       "      <td>8684820</td>\n",
       "      <td>1118172.0</td>\n",
       "      <td>2011-12-30T22:50:57Z</td>\n",
       "      <td>NaN</td>\n",
       "      <td>8</td>\n",
       "      <td>Scale HTML canvas to browser window size but d...</td>\n",
       "      <td>Is there a way to scale your HTML canvas to th...</td>\n",
       "      <td>NaN</td>\n",
       "      <td>414.433333</td>\n",
       "    </tr>\n",
       "    <tr>\n",
       "      <th>527250</th>\n",
       "      <td>18304620</td>\n",
       "      <td>1590705.0</td>\n",
       "      <td>2013-08-18T23:23:46Z</td>\n",
       "      <td>NaN</td>\n",
       "      <td>1</td>\n",
       "      <td>OrchardCMS Custom Forms and lookup fields</td>\n",
       "      <td>I can create custom form with Orchard Custom f...</td>\n",
       "      <td>NaN</td>\n",
       "      <td>567.750000</td>\n",
       "    </tr>\n",
       "    <tr>\n",
       "      <th>1096958</th>\n",
       "      <td>35749150</td>\n",
       "      <td>2726664.0</td>\n",
       "      <td>2016-03-02T13:53:23Z</td>\n",
       "      <td>NaN</td>\n",
       "      <td>0</td>\n",
       "      <td>Subtract working days from a date using Javasc...</td>\n",
       "      <td>I'd like to use a Javascript within my zapier....</td>\n",
       "      <td>NaN</td>\n",
       "      <td>6.716667</td>\n",
       "    </tr>\n",
       "    <tr>\n",
       "      <th>860951</th>\n",
       "      <td>28891250</td>\n",
       "      <td>2869332.0</td>\n",
       "      <td>2015-03-06T02:07:23Z</td>\n",
       "      <td>2015-03-06T04:49:50Z</td>\n",
       "      <td>0</td>\n",
       "      <td>Specifying Side Borders on Individual Cells in...</td>\n",
       "      <td>I've made a program for entering Sudoku puzzle...</td>\n",
       "      <td>NaN</td>\n",
       "      <td>NaN</td>\n",
       "    </tr>\n",
       "    <tr>\n",
       "      <th>221233</th>\n",
       "      <td>8326860</td>\n",
       "      <td>22693.0</td>\n",
       "      <td>2011-11-30T13:41:59Z</td>\n",
       "      <td>NaN</td>\n",
       "      <td>1</td>\n",
       "      <td>Wrapping any SQL Server 2008 statement with sk...</td>\n",
       "      <td>Given any  statement, I would like to wrap it ...</td>\n",
       "      <td>SELECTpublic override string WrapSelectSqlWith...</td>\n",
       "      <td>28.033333</td>\n",
       "    </tr>\n",
       "  </tbody>\n",
       "</table>\n",
       "</div>"
      ],
      "text/plain": [
       "               Id  OwnerUserId          CreationDate            ClosedDate  \\\n",
       "231906    8684820    1118172.0  2011-12-30T22:50:57Z                   NaN   \n",
       "527250   18304620    1590705.0  2013-08-18T23:23:46Z                   NaN   \n",
       "1096958  35749150    2726664.0  2016-03-02T13:53:23Z                   NaN   \n",
       "860951   28891250    2869332.0  2015-03-06T02:07:23Z  2015-03-06T04:49:50Z   \n",
       "221233    8326860      22693.0  2011-11-30T13:41:59Z                   NaN   \n",
       "\n",
       "         Score                                              Title  \\\n",
       "231906       8  Scale HTML canvas to browser window size but d...   \n",
       "527250       1          OrchardCMS Custom Forms and lookup fields   \n",
       "1096958      0  Subtract working days from a date using Javasc...   \n",
       "860951       0  Specifying Side Borders on Individual Cells in...   \n",
       "221233       1  Wrapping any SQL Server 2008 statement with sk...   \n",
       "\n",
       "                                                      Body  \\\n",
       "231906   Is there a way to scale your HTML canvas to th...   \n",
       "527250   I can create custom form with Orchard Custom f...   \n",
       "1096958  I'd like to use a Javascript within my zapier....   \n",
       "860951   I've made a program for entering Sudoku puzzle...   \n",
       "221233   Given any  statement, I would like to wrap it ...   \n",
       "\n",
       "                                                      Code    Duration  \n",
       "231906                                                 NaN  414.433333  \n",
       "527250                                                 NaN  567.750000  \n",
       "1096958                                                NaN    6.716667  \n",
       "860951                                                 NaN         NaN  \n",
       "221233   SELECTpublic override string WrapSelectSqlWith...   28.033333  "
      ]
     },
     "execution_count": 28,
     "metadata": {},
     "output_type": "execute_result"
    }
   ],
   "source": [
    "df.head()"
   ]
  },
  {
   "cell_type": "code",
   "execution_count": 29,
   "metadata": {},
   "outputs": [
    {
     "data": {
      "text/plain": [
       "array(['1 hour - 1 day', '1 hour - 1 day', 'Less than 10 min', ...,\n",
       "       '10 min - 1 hour', 'Less than 10 min', 'Less than 10 min'], \n",
       "      dtype='<U16')"
      ]
     },
     "execution_count": 29,
     "metadata": {},
     "output_type": "execute_result"
    }
   ],
   "source": [
    "import sys\n",
    "from collections import Counter\n",
    "\n",
    "# put the durations into different buckets, graph the result\n",
    "# only count the durations that are not null\n",
    "df_durations = pd.cut(df.Duration[ df.Duration.notnull() ], \n",
    "                      bins=[-1, 10, 60, 1440, sys.maxsize], \n",
    "                      labels=False)\n",
    "# labels correspond to buckets of time above\n",
    "labels = np.array(['Less than 10 min','10 min - 1 hour', '1 hour - 1 day', 'More than 1 day'])\n",
    "df_durations = labels[df_durations]\n",
    "\n",
    "duration_counts = Counter(df_durations) # count each occurance\n",
    "df_durations"
   ]
  },
  {
   "cell_type": "code",
   "execution_count": 30,
   "metadata": {},
   "outputs": [
    {
     "data": {
      "image/png": "[encoded data removed]",
      "text/plain": [
       "<matplotlib.figure.Figure at 0x11f18c8d0>"
      ]
     },
     "metadata": {},
     "output_type": "display_data"
    }
   ],
   "source": [
    "import matplotlib.pyplot as plt\n",
    "\n",
    "df_duration_counts = pd.DataFrame.from_dict(duration_counts, orient='index')\n",
    "df_duration_counts.plot(kind='barh', fontsize=12, figsize=(8,6))\n",
    "plt.xlabel('Number of Occurances', fontsize=14)\n",
    "plt.title('Duration Till Answered', fontsize=18)\n",
    "plt.legend([])\n",
    "plt.show()"
   ]
  },
  {
   "cell_type": "code",
   "execution_count": 31,
   "metadata": {},
   "outputs": [
    {
     "data": {
      "text/html": [
       "<div>\n",
       "<style>\n",
       "    .dataframe thead tr:only-child th {\n",
       "        text-align: right;\n",
       "    }\n",
       "\n",
       "    .dataframe thead th {\n",
       "        text-align: left;\n",
       "    }\n",
       "\n",
       "    .dataframe tbody tr th {\n",
       "        vertical-align: top;\n",
       "    }\n",
       "</style>\n",
       "<table border=\"1\" class=\"dataframe\">\n",
       "  <thead>\n",
       "    <tr style=\"text-align: right;\">\n",
       "      <th></th>\n",
       "      <th>Id</th>\n",
       "      <th>CreationDate</th>\n",
       "      <th>Title</th>\n",
       "      <th>Body</th>\n",
       "      <th>Code</th>\n",
       "      <th>Duration</th>\n",
       "      <th>Tags</th>\n",
       "    </tr>\n",
       "  </thead>\n",
       "  <tbody>\n",
       "    <tr>\n",
       "      <th>231906</th>\n",
       "      <td>8684820</td>\n",
       "      <td>2011-12-30T22:50:57Z</td>\n",
       "      <td>Scale HTML canvas to browser window size but d...</td>\n",
       "      <td>Is there a way to scale your HTML canvas to th...</td>\n",
       "      <td>NaN</td>\n",
       "      <td>1 hour - 1 day</td>\n",
       "      <td>html canvas html5-canvas</td>\n",
       "    </tr>\n",
       "    <tr>\n",
       "      <th>527250</th>\n",
       "      <td>18304620</td>\n",
       "      <td>2013-08-18T23:23:46Z</td>\n",
       "      <td>OrchardCMS Custom Forms and lookup fields</td>\n",
       "      <td>I can create custom form with Orchard Custom f...</td>\n",
       "      <td>NaN</td>\n",
       "      <td>1 hour - 1 day</td>\n",
       "      <td>orchardcms</td>\n",
       "    </tr>\n",
       "    <tr>\n",
       "      <th>1096958</th>\n",
       "      <td>35749150</td>\n",
       "      <td>2016-03-02T13:53:23Z</td>\n",
       "      <td>Subtract working days from a date using Javasc...</td>\n",
       "      <td>I'd like to use a Javascript within my zapier....</td>\n",
       "      <td>NaN</td>\n",
       "      <td>Less than 10 min</td>\n",
       "      <td>javascript date</td>\n",
       "    </tr>\n",
       "    <tr>\n",
       "      <th>221233</th>\n",
       "      <td>8326860</td>\n",
       "      <td>2011-11-30T13:41:59Z</td>\n",
       "      <td>Wrapping any SQL Server 2008 statement with sk...</td>\n",
       "      <td>Given any  statement, I would like to wrap it ...</td>\n",
       "      <td>SELECTpublic override string WrapSelectSqlWith...</td>\n",
       "      <td>10 min - 1 hour</td>\n",
       "      <td>c# sql-server-2008 tsql</td>\n",
       "    </tr>\n",
       "    <tr>\n",
       "      <th>124225</th>\n",
       "      <td>5035840</td>\n",
       "      <td>2011-02-17T23:07:48Z</td>\n",
       "      <td>Lazy evaluation with ostream C++ operators</td>\n",
       "      <td>I am looking for a portable way to implement l...</td>\n",
       "      <td>void syslog(int priority, const char *format, ...</td>\n",
       "      <td>Less than 10 min</td>\n",
       "      <td>c++ logging iostream lazy-evaluation</td>\n",
       "    </tr>\n",
       "  </tbody>\n",
       "</table>\n",
       "</div>"
      ],
      "text/plain": [
       "               Id          CreationDate  \\\n",
       "231906    8684820  2011-12-30T22:50:57Z   \n",
       "527250   18304620  2013-08-18T23:23:46Z   \n",
       "1096958  35749150  2016-03-02T13:53:23Z   \n",
       "221233    8326860  2011-11-30T13:41:59Z   \n",
       "124225    5035840  2011-02-17T23:07:48Z   \n",
       "\n",
       "                                                     Title  \\\n",
       "231906   Scale HTML canvas to browser window size but d...   \n",
       "527250           OrchardCMS Custom Forms and lookup fields   \n",
       "1096958  Subtract working days from a date using Javasc...   \n",
       "221233   Wrapping any SQL Server 2008 statement with sk...   \n",
       "124225          Lazy evaluation with ostream C++ operators   \n",
       "\n",
       "                                                      Body  \\\n",
       "231906   Is there a way to scale your HTML canvas to th...   \n",
       "527250   I can create custom form with Orchard Custom f...   \n",
       "1096958  I'd like to use a Javascript within my zapier....   \n",
       "221233   Given any  statement, I would like to wrap it ...   \n",
       "124225   I am looking for a portable way to implement l...   \n",
       "\n",
       "                                                      Code          Duration  \\\n",
       "231906                                                 NaN    1 hour - 1 day   \n",
       "527250                                                 NaN    1 hour - 1 day   \n",
       "1096958                                                NaN  Less than 10 min   \n",
       "221233   SELECTpublic override string WrapSelectSqlWith...   10 min - 1 hour   \n",
       "124225   void syslog(int priority, const char *format, ...  Less than 10 min   \n",
       "\n",
       "                                         Tags  \n",
       "231906               html canvas html5-canvas  \n",
       "527250                             orchardcms  \n",
       "1096958                       javascript date  \n",
       "221233                c# sql-server-2008 tsql  \n",
       "124225   c++ logging iostream lazy-evaluation  "
      ]
     },
     "execution_count": 31,
     "metadata": {},
     "output_type": "execute_result"
    }
   ],
   "source": [
    "feature_cols = [\"CreationDate\", \"Title\", \"Body\", \"Code\", \"Duration\"]\n",
    "to_save = [\"Id\"] + feature_cols\n",
    "df = df[to_save]\n",
    "df = df[df.Duration.notnull()]\n",
    "df.Duration = labels[pd.cut(df.Duration, \n",
    "                     bins=[-1, 10, 60, 1440, sys.maxsize], \n",
    "                     labels=False)]\n",
    "ids = df.Id.unique()\n",
    "df_tags = df_tags[df_tags.Id.isin(ids)]\n",
    "\n",
    "# generate tags string for each question\n",
    "tags_list = []\n",
    "for i in df.Id.tolist():\n",
    "    tags_list.append(\" \".join(df_tags[df_tags.Id == i].astype(str).values[:,1]))\n",
    "\n",
    "df = df.assign(Tags=tags_list)\n",
    "\n",
    "df.head()"
   ]
  },
  {
   "cell_type": "code",
   "execution_count": 32,
   "metadata": {},
   "outputs": [
    {
     "name": "stdout",
     "output_type": "stream",
     "text": [
      "<class 'pandas.core.frame.DataFrame'>\n",
      "Int64Index: 10459 entries, 231906 to 234393\n",
      "Data columns (total 7 columns):\n",
      "Id              10459 non-null int64\n",
      "CreationDate    10459 non-null object\n",
      "Title           10459 non-null object\n",
      "Body            10459 non-null object\n",
      "Code            7769 non-null object\n",
      "Duration        10459 non-null object\n",
      "Tags            10459 non-null object\n",
      "dtypes: int64(1), object(6)\n",
      "memory usage: 653.7+ KB\n"
     ]
    }
   ],
   "source": [
    "df.info()"
   ]
  },
  {
   "cell_type": "markdown",
   "metadata": {},
   "source": [
    "Our final data set has about 10,500 questions and 30,800 tags associated with those questions. We will save this data to disk for loading."
   ]
  },
  {
   "cell_type": "code",
   "execution_count": 33,
   "metadata": {
    "collapsed": true
   },
   "outputs": [],
   "source": [
    "df.to_csv('./clean-data/questions.csv')"
   ]
  },
  {
   "cell_type": "markdown",
   "metadata": {},
   "source": [
    "### Evaluation\n",
    "We will use stratified 10-fold cross validation for evaluation of our networks. We will hold out 10% of our data as a validation set that will not be used in any of the 10-folds. This will allow us to gauge the generalization performance of our networks."
   ]
  },
  {
   "cell_type": "code",
   "execution_count": 61,
   "metadata": {
    "collapsed": true
   },
   "outputs": [],
   "source": [
    "import pandas as pd\n",
    "import numpy as np\n",
    "from sklearn.preprocessing import LabelEncoder\n",
    "\n",
    "df = pd.read_csv('./clean-data/Questions.csv', index_col=0)\n",
    "\n",
    "X = df.drop([\"Duration\", \"Id\"], axis=1)\n",
    "\n",
    "y = []\n",
    "# encode y based off duration\n",
    "for dur in df.Duration:\n",
    "    if dur == 'Less than 10 min':\n",
    "        y.append(0)\n",
    "    elif dur == '10 min - 1 hour':\n",
    "        y.append(1)\n",
    "    elif dur == '1 hour - 1 day':\n",
    "        y.append(2)\n",
    "    else:\n",
    "        y.append(3)\n",
    "\n",
    "y = np.asarray(y)"
   ]
  },
  {
   "cell_type": "code",
   "execution_count": 62,
   "metadata": {},
   "outputs": [
    {
     "data": {
      "text/html": [
       "<div>\n",
       "<style>\n",
       "    .dataframe thead tr:only-child th {\n",
       "        text-align: right;\n",
       "    }\n",
       "\n",
       "    .dataframe thead th {\n",
       "        text-align: left;\n",
       "    }\n",
       "\n",
       "    .dataframe tbody tr th {\n",
       "        vertical-align: top;\n",
       "    }\n",
       "</style>\n",
       "<table border=\"1\" class=\"dataframe\">\n",
       "  <thead>\n",
       "    <tr style=\"text-align: right;\">\n",
       "      <th></th>\n",
       "      <th>CreationDate</th>\n",
       "      <th>Title</th>\n",
       "      <th>Body</th>\n",
       "      <th>Code</th>\n",
       "      <th>Tags</th>\n",
       "    </tr>\n",
       "  </thead>\n",
       "  <tbody>\n",
       "    <tr>\n",
       "      <th>231906</th>\n",
       "      <td>2011-12-30T22:50:57Z</td>\n",
       "      <td>Scale HTML canvas to browser window size but d...</td>\n",
       "      <td>Is there a way to scale your HTML canvas to th...</td>\n",
       "      <td>NaN</td>\n",
       "      <td>html canvas html5-canvas</td>\n",
       "    </tr>\n",
       "    <tr>\n",
       "      <th>527250</th>\n",
       "      <td>2013-08-18T23:23:46Z</td>\n",
       "      <td>OrchardCMS Custom Forms and lookup fields</td>\n",
       "      <td>I can create custom form with Orchard Custom f...</td>\n",
       "      <td>NaN</td>\n",
       "      <td>orchardcms</td>\n",
       "    </tr>\n",
       "    <tr>\n",
       "      <th>1096958</th>\n",
       "      <td>2016-03-02T13:53:23Z</td>\n",
       "      <td>Subtract working days from a date using Javasc...</td>\n",
       "      <td>I'd like to use a Javascript within my zapier....</td>\n",
       "      <td>NaN</td>\n",
       "      <td>javascript date</td>\n",
       "    </tr>\n",
       "    <tr>\n",
       "      <th>221233</th>\n",
       "      <td>2011-11-30T13:41:59Z</td>\n",
       "      <td>Wrapping any SQL Server 2008 statement with sk...</td>\n",
       "      <td>Given any  statement, I would like to wrap it ...</td>\n",
       "      <td>SELECTpublic override string WrapSelectSqlWith...</td>\n",
       "      <td>c# sql-server-2008 tsql</td>\n",
       "    </tr>\n",
       "    <tr>\n",
       "      <th>124225</th>\n",
       "      <td>2011-02-17T23:07:48Z</td>\n",
       "      <td>Lazy evaluation with ostream C++ operators</td>\n",
       "      <td>I am looking for a portable way to implement l...</td>\n",
       "      <td>void syslog(int priority, const char *format, ...</td>\n",
       "      <td>c++ logging iostream lazy-evaluation</td>\n",
       "    </tr>\n",
       "  </tbody>\n",
       "</table>\n",
       "</div>"
      ],
      "text/plain": [
       "                 CreationDate  \\\n",
       "231906   2011-12-30T22:50:57Z   \n",
       "527250   2013-08-18T23:23:46Z   \n",
       "1096958  2016-03-02T13:53:23Z   \n",
       "221233   2011-11-30T13:41:59Z   \n",
       "124225   2011-02-17T23:07:48Z   \n",
       "\n",
       "                                                     Title  \\\n",
       "231906   Scale HTML canvas to browser window size but d...   \n",
       "527250           OrchardCMS Custom Forms and lookup fields   \n",
       "1096958  Subtract working days from a date using Javasc...   \n",
       "221233   Wrapping any SQL Server 2008 statement with sk...   \n",
       "124225          Lazy evaluation with ostream C++ operators   \n",
       "\n",
       "                                                      Body  \\\n",
       "231906   Is there a way to scale your HTML canvas to th...   \n",
       "527250   I can create custom form with Orchard Custom f...   \n",
       "1096958  I'd like to use a Javascript within my zapier....   \n",
       "221233   Given any  statement, I would like to wrap it ...   \n",
       "124225   I am looking for a portable way to implement l...   \n",
       "\n",
       "                                                      Code  \\\n",
       "231906                                                 NaN   \n",
       "527250                                                 NaN   \n",
       "1096958                                                NaN   \n",
       "221233   SELECTpublic override string WrapSelectSqlWith...   \n",
       "124225   void syslog(int priority, const char *format, ...   \n",
       "\n",
       "                                         Tags  \n",
       "231906               html canvas html5-canvas  \n",
       "527250                             orchardcms  \n",
       "1096958                       javascript date  \n",
       "221233                c# sql-server-2008 tsql  \n",
       "124225   c++ logging iostream lazy-evaluation  "
      ]
     },
     "execution_count": 62,
     "metadata": {},
     "output_type": "execute_result"
    }
   ],
   "source": [
    "X.head()"
   ]
  },
  {
   "cell_type": "code",
   "execution_count": 63,
   "metadata": {},
   "outputs": [],
   "source": [
    "from sklearn.model_selection import StratifiedShuffleSplit\n",
    "from keras.utils import to_categorical\n",
    "\n",
    "NUM_CLASSES = 4\n",
    "\n",
    "col_names = X.columns.values\n",
    "\n",
    "sss = StratifiedShuffleSplit(n_splits=1, test_size=0.1, random_state=64)\n",
    "for train_idx, test_idx in sss.split(X.values, y):\n",
    "    # X_train - 80% training attribute set\n",
    "    # X_test - 20% test attribute set\n",
    "    # y_train - 80% training labels\n",
    "    # y_test - 20% training labels\n",
    "    X_train, X_test = pd.DataFrame(X.values[train_idx], columns=col_names), pd.DataFrame(X.values[test_idx], columns=col_names)\n",
    "    y_train, y_test = pd.DataFrame(y[train_idx], columns=[\"Duration\"]), pd.DataFrame(y[test_idx], columns=[\"Duration\"])\n",
    "\n",
    "y_train, y_test = y_train.values.flatten(), y_test.values.flatten()\n",
    "\n",
    "y_train_ohe = to_categorical(y_train, NUM_CLASSES)\n",
    "y_test_ohe = to_categorical(y_test, NUM_CLASSES)"
   ]
  },
  {
   "cell_type": "code",
   "execution_count": 64,
   "metadata": {},
   "outputs": [
    {
     "data": {
      "image/png": "[encoded data removed]",
      "text/plain": [
       "<matplotlib.figure.Figure at 0x12416fbe0>"
      ]
     },
     "metadata": {},
     "output_type": "display_data"
    },
    {
     "data": {
      "image/png": "[encoded data removed]",
      "text/plain": [
       "<matplotlib.figure.Figure at 0x124684668>"
      ]
     },
     "metadata": {},
     "output_type": "display_data"
    },
    {
     "data": {
      "image/png": "[encoded data removed]",
      "text/plain": [
       "<matplotlib.figure.Figure at 0x1233f8860>"
      ]
     },
     "metadata": {},
     "output_type": "display_data"
    }
   ],
   "source": [
    "from collections import Counter\n",
    "import seaborn as sns\n",
    "import matplotlib.pyplot as plt\n",
    "\n",
    "len_title_counts = Counter(df.Title.str.split().str.len())\n",
    "df_title_len_counts = pd.DataFrame.from_dict(len_title_counts, orient='index')\n",
    "\n",
    "sns.distplot(df_title_len_counts, bins=8)\n",
    "plt.title('Title Word Count Distribution')\n",
    "plt.show()\n",
    "\n",
    "len_body_counts = Counter(df.Body.str.split().str.len())\n",
    "df_body_len_counts = pd.DataFrame.from_dict(len_body_counts, orient='index')\n",
    "\n",
    "sns.distplot(df_body_len_counts)\n",
    "plt.title('Body Word Count Distribution')\n",
    "plt.show()\n",
    "\n",
    "len_code_counts = Counter(df.Code.str.split().str.len())\n",
    "df_code_len_counts = pd.DataFrame.from_dict(len_code_counts, orient='index')\n",
    "\n",
    "sns.distplot(df_code_len_counts)\n",
    "plt.title('Code Word Count Distribution')\n",
    "plt.show()"
   ]
  },
  {
   "cell_type": "markdown",
   "metadata": {},
   "source": [
    "1. Take the body of a question only\n",
    "2. Truncate the body to 1000 words?\n",
    "3. Convert each question to a 'real vector domain'\n",
    "4. Pad each question with zeroes to use as embedding"
   ]
  },
  {
   "cell_type": "code",
   "execution_count": 65,
   "metadata": {
    "collapsed": true
   },
   "outputs": [],
   "source": [
    "from keras.preprocessing.text import Tokenizer\n",
    "from keras.preprocessing import sequence\n",
    "\n",
    "# only consider body of a question\n",
    "# if 'Body' in X_train:\n",
    "#     X_train = X_train['Body']\n",
    "# if 'Body' in X_test:\n",
    "#     X_test = X_test['Body']\n",
    "    \n",
    "max_body_code_length = 100 # maximum length of the question body\n",
    "num_body_words = 5000 # top number of words to 'tokenize'\n",
    "# num_code_words = 10000 # more to account for code syntax\n",
    "max_title_length = 50\n",
    "num_title_words = 5000\n",
    "num_tags = None\n",
    "max_tag_words = 8\n",
    "\n",
    "body_tokenizer = Tokenizer(num_words=num_body_words)\n",
    "# code_tokenizer = Tokenizer(num_words=num_code_words)\n",
    "title_tokenizer = Tokenizer(num_words=num_title_words)\n",
    "tag_tokenizer = Tokenizer(num_words=num_tags)"
   ]
  },
  {
   "cell_type": "code",
   "execution_count": 66,
   "metadata": {},
   "outputs": [],
   "source": [
    "body_tokenizer.fit_on_texts(X_train.Body.values)\n",
    "# code_tokenizer.fit_on_texts(X_train.Code.dropna().values)\n",
    "title_tokenizer.fit_on_texts(X_train.Title.values)\n",
    "tag_tokenizer.fit_on_texts(X_train.Tags.values)\n",
    "\n",
    "num_tags = len(tag_tokenizer.word_index) if num_tags==None else num_tags\n",
    "\n",
    "X_train.Body = body_tokenizer.texts_to_sequences(X_train.Body.values)\n",
    "X_train.Body = sequence.pad_sequences(X_train.Body, maxlen=max_body_code_length)\n",
    "# X_train.Code.replace(to_replace=X_train.Code[X_train.Code.notnull()].tolist(), value=code_tokenizer.texts_to_sequences(X_train.Code.dropna().values), inplace=True)\n",
    "# X_train.Code = sequence.pad_sequences(X_train.Code, maxlen=max_body_code_length)\n",
    "X_train.Title = title_tokenizer.texts_to_sequences(X_train.Title.values)\n",
    "X_train.Title = sequence.pad_sequences(X_train.Title, maxlen=max_title_length)\n",
    "X_train.Tags = tag_tokenizer.texts_to_sequences(X_train.Tags.values)\n",
    "X_train.Tags = sequence.pad_sequences(X_train.Tags, maxlen=max_tag_words)\n",
    "\n",
    "X_test.Body = body_tokenizer.texts_to_sequences(X_test.Body.values)\n",
    "X_test.Body = sequence.pad_sequences(X_test.Body, maxlen=max_body_code_length)\n",
    "# X_test.Code.replace(to_replace=X_test.Code.notnull(), value=code_tokenizer.texts_to_sequences(X_test.Code.dropna().values), inplace=True)\n",
    "# X_test.Code = sequence.pad_sequences(X_test.Code, maxlen=max_body_code_length)\n",
    "X_test.Title = title_tokenizer.texts_to_sequences(X_test.Title.values)\n",
    "X_test.Title = sequence.pad_sequences(X_test.Title, maxlen=max_title_length)\n",
    "X_test.Tags = tag_tokenizer.texts_to_sequences(X_test.Tags.values)\n",
    "X_test.Tags = sequence.pad_sequences(X_test.Tags, maxlen=max_tag_words)"
   ]
  },
  {
   "cell_type": "markdown",
   "metadata": {},
   "source": [
    "## Modeling\n",
    "We will examine two different recurrent network architectures. In the first, we will examine a Long Short Term Memory architecture in the first network and a Gated Recurrent Unit architecture in the second."
   ]
  },
  {
   "cell_type": "code",
   "execution_count": 67,
   "metadata": {
    "collapsed": true
   },
   "outputs": [],
   "source": [
    "import numpy\n",
    "from keras.models import Sequential\n",
    "from keras.layers import Dense\n",
    "from keras.layers import GRU, LSTM\n",
    "from keras.layers.embeddings import Embedding\n",
    "from keras.preprocessing import sequence"
   ]
  },
  {
   "cell_type": "code",
   "execution_count": 68,
   "metadata": {},
   "outputs": [
    {
     "data": {
      "text/html": [
       "<div>\n",
       "<style>\n",
       "    .dataframe thead tr:only-child th {\n",
       "        text-align: right;\n",
       "    }\n",
       "\n",
       "    .dataframe thead th {\n",
       "        text-align: left;\n",
       "    }\n",
       "\n",
       "    .dataframe tbody tr th {\n",
       "        vertical-align: top;\n",
       "    }\n",
       "</style>\n",
       "<table border=\"1\" class=\"dataframe\">\n",
       "  <thead>\n",
       "    <tr style=\"text-align: right;\">\n",
       "      <th></th>\n",
       "      <th>CreationDate</th>\n",
       "      <th>Title</th>\n",
       "      <th>Body</th>\n",
       "      <th>Code</th>\n",
       "      <th>Tags</th>\n",
       "    </tr>\n",
       "  </thead>\n",
       "  <tbody>\n",
       "    <tr>\n",
       "      <th>0</th>\n",
       "      <td>2012-01-28T04:49:01Z</td>\n",
       "      <td>0</td>\n",
       "      <td>17</td>\n",
       "      <td>&lt;Canvas Height=\"10000\" Width=\"10000\" Backgroun...</td>\n",
       "      <td>0</td>\n",
       "    </tr>\n",
       "    <tr>\n",
       "      <th>1</th>\n",
       "      <td>2016-08-27T10:02:48Z</td>\n",
       "      <td>0</td>\n",
       "      <td>126</td>\n",
       "      <td>ofArray.of{ width: 2, height: 2, list: [1, 2, ...</td>\n",
       "      <td>0</td>\n",
       "    </tr>\n",
       "    <tr>\n",
       "      <th>2</th>\n",
       "      <td>2015-06-26T09:32:43Z</td>\n",
       "      <td>0</td>\n",
       "      <td>50</td>\n",
       "      <td>&lt;Content&gt;\\n  &lt;sem:triples xmlns:sem=\"http://ma...</td>\n",
       "      <td>0</td>\n",
       "    </tr>\n",
       "    <tr>\n",
       "      <th>3</th>\n",
       "      <td>2015-10-15T16:41:42Z</td>\n",
       "      <td>0</td>\n",
       "      <td>0</td>\n",
       "      <td>background-color: white;| Project State  | Ico...</td>\n",
       "      <td>0</td>\n",
       "    </tr>\n",
       "    <tr>\n",
       "      <th>4</th>\n",
       "      <td>2015-11-14T03:42:31Z</td>\n",
       "      <td>0</td>\n",
       "      <td>0</td>\n",
       "      <td>&lt;DOCTYPE !html&gt;\\n&lt;html&gt;\\n&lt;head&gt;\\n\\n&lt;title&gt;My W...</td>\n",
       "      <td>0</td>\n",
       "    </tr>\n",
       "  </tbody>\n",
       "</table>\n",
       "</div>"
      ],
      "text/plain": [
       "           CreationDate  Title  Body  \\\n",
       "0  2012-01-28T04:49:01Z      0    17   \n",
       "1  2016-08-27T10:02:48Z      0   126   \n",
       "2  2015-06-26T09:32:43Z      0    50   \n",
       "3  2015-10-15T16:41:42Z      0     0   \n",
       "4  2015-11-14T03:42:31Z      0     0   \n",
       "\n",
       "                                                Code  Tags  \n",
       "0  <Canvas Height=\"10000\" Width=\"10000\" Backgroun...     0  \n",
       "1  ofArray.of{ width: 2, height: 2, list: [1, 2, ...     0  \n",
       "2  <Content>\\n  <sem:triples xmlns:sem=\"http://ma...     0  \n",
       "3  background-color: white;| Project State  | Ico...     0  \n",
       "4  <DOCTYPE !html>\\n<html>\\n<head>\\n\\n<title>My W...     0  "
      ]
     },
     "execution_count": 68,
     "metadata": {},
     "output_type": "execute_result"
    }
   ],
   "source": [
    "X_train.head()"
   ]
  },
  {
   "cell_type": "code",
   "execution_count": 9,
   "metadata": {},
   "outputs": [
    {
     "name": "stdout",
     "output_type": "stream",
     "text": [
      "_________________________________________________________________\n",
      "Layer (type)                 Output Shape              Param #   \n",
      "=================================================================\n",
      "embedding_2 (Embedding)      (None, 1000, 32)          160000    \n",
      "_________________________________________________________________\n",
      "lstm_2 (LSTM)                (None, 50)                16600     \n",
      "_________________________________________________________________\n",
      "dense_2 (Dense)              (None, 20)                1020      \n",
      "_________________________________________________________________\n",
      "dense_3 (Dense)              (None, 1)                 21        \n",
      "=================================================================\n",
      "Total params: 177,641\n",
      "Trainable params: 177,641\n",
      "Non-trainable params: 0\n",
      "_________________________________________________________________\n",
      "None\n",
      "Train on 9413 samples, validate on 1046 samples\n",
      "Epoch 1/1\n",
      "9413/9413 [==============================] - 473s - loss: -3.5929 - acc: 0.2961 - val_loss: -4.8010 - val_acc: 0.2964\n"
     ]
    },
    {
     "data": {
      "text/plain": [
       "<keras.callbacks.History at 0x12da20ef0>"
      ]
     },
     "execution_count": 9,
     "metadata": {},
     "output_type": "execute_result"
    }
   ],
   "source": [
    "embedding_size = 32\n",
    "model = Sequential()\n",
    "model.add(Embedding(num_words, embedding_size, input_length=max_body_length))\n",
    "model.add(LSTM(50, dropout=0.2, recurrent_dropout=0.2))\n",
    "model.add(Dense(20, activation='relu'))\n",
    "model.add(Dense(1, activation='sigmoid'))\n",
    "model.compile(loss='binary_crossentropy', optimizer='adam', metrics=['accuracy'])\n",
    "print(model.summary())\n",
    "\n",
    "model.fit(X_train, y_train, validation_data=(X_test, y_test), epochs=1, batch_size=64)"
   ]
  },
  {
   "cell_type": "code",
   "execution_count": 10,
   "metadata": {},
   "outputs": [
    {
     "name": "stdout",
     "output_type": "stream",
     "text": [
      "Accuracy: 29.64%\n"
     ]
    }
   ],
   "source": [
    "scores = model.evaluate(X_test, y_test, verbose=0)\n",
    "print(\"Accuracy: %.2f%%\" % (scores[1]*100))"
   ]
  },
  {
   "cell_type": "code",
   "execution_count": null,
   "metadata": {
    "collapsed": true
   },
   "outputs": [],
   "source": [
    "embedding_size = 32\n",
    "model = Sequential()\n",
    "model.add(Embedding(num_words, embedding_size, input_length=max_body_length))\n",
    "model.add(GRU(50, dropout=0.2, recurrent_dropout=0.2))\n",
    "model.add(Dense(1, activation='sigmoid'))\n",
    "model.compile(loss='binary_crossentropy', optimizer='adam', metrics=['accuracy'])\n",
    "print(model.summary())\n",
    "\n",
    "model.fit(X_train, y_train, validation_data=(X_test, y_test), epochs=1, batch_size=64)"
   ]
  },
  {
   "cell_type": "code",
   "execution_count": 18,
   "metadata": {},
   "outputs": [
    {
     "name": "stdout",
     "output_type": "stream",
     "text": [
      "Accuracy: 29.64%\n"
     ]
    }
   ],
   "source": [
    "scores = model.evaluate(X_test, y_test, verbose=0)\n",
    "print(\"Accuracy: %.2f%%\" % (scores[1]*100))"
   ]
  },
  {
   "cell_type": "markdown",
   "metadata": {},
   "source": [
    "## References\n",
    "1. <a href='https://www.kaggle.com/stackoverflow/stacklite'>Kaggle StackLite data set</a>"
   ]
  },
  {
   "cell_type": "code",
   "execution_count": null,
   "metadata": {
    "collapsed": true
   },
   "outputs": [],
   "source": []
  }
 ],
 "metadata": {
  "kernelspec": {
   "display_name": "Python [conda env:MLEnv]",
   "language": "python",
   "name": "conda-env-MLEnv-py"
  },
  "language_info": {
   "codemirror_mode": {
    "name": "ipython",
    "version": 3
   },
   "file_extension": ".py",
   "mimetype": "text/x-python",
   "name": "python",
   "nbconvert_exporter": "python",
   "pygments_lexer": "ipython3",
   "version": "3.6.2"
  }
 },
 "nbformat": 4,
 "nbformat_minor": 2
}
