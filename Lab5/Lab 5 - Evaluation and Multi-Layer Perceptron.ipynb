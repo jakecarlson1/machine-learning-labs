{
 "cells": [
  {
   "cell_type": "markdown",
   "metadata": {},
   "source": [
    "# Lab 5 - Evaluation and Multi-Layer Perceptron\n",
    "\n",
    "### Eric Smith and Jake Carlson\n",
    "\n",
    "## Introduction\n",
    "In this lab, we will develop a multi-layer perceptron to perform classification on the CIFAR-10 data set. Similar to Lab 3, we will subset the data set to images of trucks and automobiles.\n",
    "\n",
    "## Business Understanding\n",
    "\n",
    "### Motivations\n",
    "\n",
    "### Objectives\n",
    "\n",
    "## Data Preparation\n",
    "\n",
    "### Data Cleaning\n",
    "We will clean the data set from Lab 3 by reducing the dimensionality using PCA, which showed the least information loss in the transformation across all images in the data set. We will then normalize all of the pixel intensity values so that they are in the range 0 to 1."
   ]
  },
  {
   "cell_type": "markdown",
   "metadata": {},
   "source": [
    "## References\n",
    "Alex Krizhevsky, 2009: <a href=\"http://www.cs.toronto.edu/~kriz/learning-features-2009-TR.pdf\">Learning Multiple Layers of Features from Tiny Images</a>"
   ]
  },
  {
   "cell_type": "code",
   "execution_count": null,
   "metadata": {
    "collapsed": true
   },
   "outputs": [],
   "source": []
  }
 ],
 "metadata": {
  "kernelspec": {
   "display_name": "Python [conda env:MLEnv]",
   "language": "python",
   "name": "conda-env-MLEnv-py"
  },
  "language_info": {
   "codemirror_mode": {
    "name": "ipython",
    "version": 3
   },
   "file_extension": ".py",
   "mimetype": "text/x-python",
   "name": "python",
   "nbconvert_exporter": "python",
   "pygments_lexer": "ipython3",
   "version": "3.6.2"
  }
 },
 "nbformat": 4,
 "nbformat_minor": 2
}
